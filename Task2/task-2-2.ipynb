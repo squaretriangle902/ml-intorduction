{
 "cells": [
  {
   "cell_type": "code",
   "execution_count": 1,
   "id": "90c170d0",
   "metadata": {
    "execution": {
     "iopub.execute_input": "2021-12-03T08:17:43.928636Z",
     "iopub.status.busy": "2021-12-03T08:17:43.926847Z",
     "iopub.status.idle": "2021-12-03T08:17:45.266534Z",
     "shell.execute_reply": "2021-12-03T08:17:45.267045Z",
     "shell.execute_reply.started": "2021-12-03T08:14:29.278217Z"
    },
    "papermill": {
     "duration": 1.373408,
     "end_time": "2021-12-03T08:17:45.267343",
     "exception": false,
     "start_time": "2021-12-03T08:17:43.893935",
     "status": "completed"
    },
    "tags": []
   },
   "outputs": [],
   "source": [
    "from sklearn.model_selection import train_test_split\n",
    "import matplotlib.pyplot as plt\n",
    "import seaborn as sns\n",
    "import pandas as pd\n",
    "import numpy as np\n",
    "import warnings\n",
    "from sklearn.linear_model import Ridge\n",
    "from sklearn.metrics import mean_squared_error\n",
    "from sklearn.model_selection import GridSearchCV\n",
    "from sklearn.pipeline import Pipeline\n",
    "from sklearn.preprocessing import OneHotEncoder\n",
    "from sklearn.compose import ColumnTransformer\n",
    "warnings.simplefilter(\"ignore\")\n",
    "%matplotlib inline\n",
    "\n",
    "sns.set(style=\"darkgrid\")"
   ]
  },
  {
   "cell_type": "markdown",
   "id": "21827a90",
   "metadata": {
    "papermill": {
     "duration": 0.02581,
     "end_time": "2021-12-03T08:17:45.319255",
     "exception": false,
     "start_time": "2021-12-03T08:17:45.293445",
     "status": "completed"
    },
    "tags": []
   },
   "source": [
    "Считывание данных"
   ]
  },
  {
   "cell_type": "code",
   "execution_count": 2,
   "id": "a0bd0c71",
   "metadata": {
    "execution": {
     "iopub.execute_input": "2021-12-03T08:17:45.375327Z",
     "iopub.status.busy": "2021-12-03T08:17:45.374327Z",
     "iopub.status.idle": "2021-12-03T08:17:45.429861Z",
     "shell.execute_reply": "2021-12-03T08:17:45.429174Z",
     "shell.execute_reply.started": "2021-12-03T08:14:35.111714Z"
    },
    "papermill": {
     "duration": 0.084723,
     "end_time": "2021-12-03T08:17:45.430026",
     "exception": false,
     "start_time": "2021-12-03T08:17:45.345303",
     "status": "completed"
    },
    "tags": []
   },
   "outputs": [],
   "source": [
    "data = pd.read_csv('../input/house-prices-advanced-regression-techniques/train.csv')"
   ]
  },
  {
   "cell_type": "code",
   "execution_count": 3,
   "id": "c7a719d5",
   "metadata": {
    "execution": {
     "iopub.execute_input": "2021-12-03T08:17:45.492795Z",
     "iopub.status.busy": "2021-12-03T08:17:45.492141Z",
     "iopub.status.idle": "2021-12-03T08:17:45.521142Z",
     "shell.execute_reply": "2021-12-03T08:17:45.520468Z",
     "shell.execute_reply.started": "2021-12-03T08:14:37.464713Z"
    },
    "papermill": {
     "duration": 0.064319,
     "end_time": "2021-12-03T08:17:45.521284",
     "exception": false,
     "start_time": "2021-12-03T08:17:45.456965",
     "status": "completed"
    },
    "tags": []
   },
   "outputs": [
    {
     "data": {
      "text/html": [
       "<div>\n",
       "<style scoped>\n",
       "    .dataframe tbody tr th:only-of-type {\n",
       "        vertical-align: middle;\n",
       "    }\n",
       "\n",
       "    .dataframe tbody tr th {\n",
       "        vertical-align: top;\n",
       "    }\n",
       "\n",
       "    .dataframe thead th {\n",
       "        text-align: right;\n",
       "    }\n",
       "</style>\n",
       "<table border=\"1\" class=\"dataframe\">\n",
       "  <thead>\n",
       "    <tr style=\"text-align: right;\">\n",
       "      <th></th>\n",
       "      <th>Id</th>\n",
       "      <th>MSSubClass</th>\n",
       "      <th>MSZoning</th>\n",
       "      <th>LotFrontage</th>\n",
       "      <th>LotArea</th>\n",
       "      <th>Street</th>\n",
       "      <th>Alley</th>\n",
       "      <th>LotShape</th>\n",
       "      <th>LandContour</th>\n",
       "      <th>Utilities</th>\n",
       "      <th>...</th>\n",
       "      <th>PoolArea</th>\n",
       "      <th>PoolQC</th>\n",
       "      <th>Fence</th>\n",
       "      <th>MiscFeature</th>\n",
       "      <th>MiscVal</th>\n",
       "      <th>MoSold</th>\n",
       "      <th>YrSold</th>\n",
       "      <th>SaleType</th>\n",
       "      <th>SaleCondition</th>\n",
       "      <th>SalePrice</th>\n",
       "    </tr>\n",
       "  </thead>\n",
       "  <tbody>\n",
       "    <tr>\n",
       "      <th>0</th>\n",
       "      <td>1</td>\n",
       "      <td>60</td>\n",
       "      <td>RL</td>\n",
       "      <td>65.0</td>\n",
       "      <td>8450</td>\n",
       "      <td>Pave</td>\n",
       "      <td>NaN</td>\n",
       "      <td>Reg</td>\n",
       "      <td>Lvl</td>\n",
       "      <td>AllPub</td>\n",
       "      <td>...</td>\n",
       "      <td>0</td>\n",
       "      <td>NaN</td>\n",
       "      <td>NaN</td>\n",
       "      <td>NaN</td>\n",
       "      <td>0</td>\n",
       "      <td>2</td>\n",
       "      <td>2008</td>\n",
       "      <td>WD</td>\n",
       "      <td>Normal</td>\n",
       "      <td>208500</td>\n",
       "    </tr>\n",
       "    <tr>\n",
       "      <th>1</th>\n",
       "      <td>2</td>\n",
       "      <td>20</td>\n",
       "      <td>RL</td>\n",
       "      <td>80.0</td>\n",
       "      <td>9600</td>\n",
       "      <td>Pave</td>\n",
       "      <td>NaN</td>\n",
       "      <td>Reg</td>\n",
       "      <td>Lvl</td>\n",
       "      <td>AllPub</td>\n",
       "      <td>...</td>\n",
       "      <td>0</td>\n",
       "      <td>NaN</td>\n",
       "      <td>NaN</td>\n",
       "      <td>NaN</td>\n",
       "      <td>0</td>\n",
       "      <td>5</td>\n",
       "      <td>2007</td>\n",
       "      <td>WD</td>\n",
       "      <td>Normal</td>\n",
       "      <td>181500</td>\n",
       "    </tr>\n",
       "    <tr>\n",
       "      <th>2</th>\n",
       "      <td>3</td>\n",
       "      <td>60</td>\n",
       "      <td>RL</td>\n",
       "      <td>68.0</td>\n",
       "      <td>11250</td>\n",
       "      <td>Pave</td>\n",
       "      <td>NaN</td>\n",
       "      <td>IR1</td>\n",
       "      <td>Lvl</td>\n",
       "      <td>AllPub</td>\n",
       "      <td>...</td>\n",
       "      <td>0</td>\n",
       "      <td>NaN</td>\n",
       "      <td>NaN</td>\n",
       "      <td>NaN</td>\n",
       "      <td>0</td>\n",
       "      <td>9</td>\n",
       "      <td>2008</td>\n",
       "      <td>WD</td>\n",
       "      <td>Normal</td>\n",
       "      <td>223500</td>\n",
       "    </tr>\n",
       "    <tr>\n",
       "      <th>3</th>\n",
       "      <td>4</td>\n",
       "      <td>70</td>\n",
       "      <td>RL</td>\n",
       "      <td>60.0</td>\n",
       "      <td>9550</td>\n",
       "      <td>Pave</td>\n",
       "      <td>NaN</td>\n",
       "      <td>IR1</td>\n",
       "      <td>Lvl</td>\n",
       "      <td>AllPub</td>\n",
       "      <td>...</td>\n",
       "      <td>0</td>\n",
       "      <td>NaN</td>\n",
       "      <td>NaN</td>\n",
       "      <td>NaN</td>\n",
       "      <td>0</td>\n",
       "      <td>2</td>\n",
       "      <td>2006</td>\n",
       "      <td>WD</td>\n",
       "      <td>Abnorml</td>\n",
       "      <td>140000</td>\n",
       "    </tr>\n",
       "    <tr>\n",
       "      <th>4</th>\n",
       "      <td>5</td>\n",
       "      <td>60</td>\n",
       "      <td>RL</td>\n",
       "      <td>84.0</td>\n",
       "      <td>14260</td>\n",
       "      <td>Pave</td>\n",
       "      <td>NaN</td>\n",
       "      <td>IR1</td>\n",
       "      <td>Lvl</td>\n",
       "      <td>AllPub</td>\n",
       "      <td>...</td>\n",
       "      <td>0</td>\n",
       "      <td>NaN</td>\n",
       "      <td>NaN</td>\n",
       "      <td>NaN</td>\n",
       "      <td>0</td>\n",
       "      <td>12</td>\n",
       "      <td>2008</td>\n",
       "      <td>WD</td>\n",
       "      <td>Normal</td>\n",
       "      <td>250000</td>\n",
       "    </tr>\n",
       "  </tbody>\n",
       "</table>\n",
       "<p>5 rows × 81 columns</p>\n",
       "</div>"
      ],
      "text/plain": [
       "   Id  MSSubClass MSZoning  LotFrontage  LotArea Street Alley LotShape  \\\n",
       "0   1          60       RL         65.0     8450   Pave   NaN      Reg   \n",
       "1   2          20       RL         80.0     9600   Pave   NaN      Reg   \n",
       "2   3          60       RL         68.0    11250   Pave   NaN      IR1   \n",
       "3   4          70       RL         60.0     9550   Pave   NaN      IR1   \n",
       "4   5          60       RL         84.0    14260   Pave   NaN      IR1   \n",
       "\n",
       "  LandContour Utilities  ... PoolArea PoolQC Fence MiscFeature MiscVal MoSold  \\\n",
       "0         Lvl    AllPub  ...        0    NaN   NaN         NaN       0      2   \n",
       "1         Lvl    AllPub  ...        0    NaN   NaN         NaN       0      5   \n",
       "2         Lvl    AllPub  ...        0    NaN   NaN         NaN       0      9   \n",
       "3         Lvl    AllPub  ...        0    NaN   NaN         NaN       0      2   \n",
       "4         Lvl    AllPub  ...        0    NaN   NaN         NaN       0     12   \n",
       "\n",
       "  YrSold  SaleType  SaleCondition  SalePrice  \n",
       "0   2008        WD         Normal     208500  \n",
       "1   2007        WD         Normal     181500  \n",
       "2   2008        WD         Normal     223500  \n",
       "3   2006        WD        Abnorml     140000  \n",
       "4   2008        WD         Normal     250000  \n",
       "\n",
       "[5 rows x 81 columns]"
      ]
     },
     "execution_count": 3,
     "metadata": {},
     "output_type": "execute_result"
    }
   ],
   "source": [
    "data.head()"
   ]
  },
  {
   "cell_type": "markdown",
   "id": "76c90a62",
   "metadata": {
    "papermill": {
     "duration": 0.026323,
     "end_time": "2021-12-03T08:17:45.575216",
     "exception": false,
     "start_time": "2021-12-03T08:17:45.548893",
     "status": "completed"
    },
    "tags": []
   },
   "source": [
    "Удаляем колонку Id"
   ]
  },
  {
   "cell_type": "code",
   "execution_count": 4,
   "id": "93e917eb",
   "metadata": {
    "execution": {
     "iopub.execute_input": "2021-12-03T08:17:45.637522Z",
     "iopub.status.busy": "2021-12-03T08:17:45.636852Z",
     "iopub.status.idle": "2021-12-03T08:17:45.639693Z",
     "shell.execute_reply": "2021-12-03T08:17:45.640187Z",
     "shell.execute_reply.started": "2021-12-03T08:14:39.445009Z"
    },
    "papermill": {
     "duration": 0.037571,
     "end_time": "2021-12-03T08:17:45.640348",
     "exception": false,
     "start_time": "2021-12-03T08:17:45.602777",
     "status": "completed"
    },
    "tags": []
   },
   "outputs": [],
   "source": [
    "data = data.drop(columns = ['Id'])"
   ]
  },
  {
   "cell_type": "markdown",
   "id": "5e37665b",
   "metadata": {
    "papermill": {
     "duration": 0.026876,
     "end_time": "2021-12-03T08:17:45.694378",
     "exception": false,
     "start_time": "2021-12-03T08:17:45.667502",
     "status": "completed"
    },
    "tags": []
   },
   "source": [
    "Извлекаем целевой массив и удаляем его из данных"
   ]
  },
  {
   "cell_type": "code",
   "execution_count": 5,
   "id": "a44b5451",
   "metadata": {
    "execution": {
     "iopub.execute_input": "2021-12-03T08:17:45.755991Z",
     "iopub.status.busy": "2021-12-03T08:17:45.754912Z",
     "iopub.status.idle": "2021-12-03T08:17:45.761463Z",
     "shell.execute_reply": "2021-12-03T08:17:45.762050Z",
     "shell.execute_reply.started": "2021-12-03T08:14:47.528341Z"
    },
    "papermill": {
     "duration": 0.041027,
     "end_time": "2021-12-03T08:17:45.762222",
     "exception": false,
     "start_time": "2021-12-03T08:17:45.721195",
     "status": "completed"
    },
    "tags": []
   },
   "outputs": [],
   "source": [
    "y = np.log1p(data['SalePrice'])\n",
    "data = data.drop(columns = ['SalePrice'])\n",
    "\n"
   ]
  },
  {
   "cell_type": "code",
   "execution_count": 6,
   "id": "56bad56a",
   "metadata": {
    "execution": {
     "iopub.execute_input": "2021-12-03T08:17:45.824101Z",
     "iopub.status.busy": "2021-12-03T08:17:45.823444Z",
     "iopub.status.idle": "2021-12-03T08:17:45.825868Z",
     "shell.execute_reply": "2021-12-03T08:17:45.826336Z",
     "shell.execute_reply.started": "2021-12-03T08:14:53.938322Z"
    },
    "papermill": {
     "duration": 0.036647,
     "end_time": "2021-12-03T08:17:45.826495",
     "exception": false,
     "start_time": "2021-12-03T08:17:45.789848",
     "status": "completed"
    },
    "tags": []
   },
   "outputs": [
    {
     "name": "stdout",
     "output_type": "stream",
     "text": [
      "12.024057394918371\n"
     ]
    }
   ],
   "source": [
    "baseline = y.mean()\n",
    "print(baseline)"
   ]
  },
  {
   "cell_type": "code",
   "execution_count": 7,
   "id": "18f773cc",
   "metadata": {
    "execution": {
     "iopub.execute_input": "2021-12-03T08:17:45.883404Z",
     "iopub.status.busy": "2021-12-03T08:17:45.882639Z",
     "iopub.status.idle": "2021-12-03T08:17:45.887167Z",
     "shell.execute_reply": "2021-12-03T08:17:45.887645Z",
     "shell.execute_reply.started": "2021-12-03T08:14:56.252298Z"
    },
    "papermill": {
     "duration": 0.034412,
     "end_time": "2021-12-03T08:17:45.887874",
     "exception": false,
     "start_time": "2021-12-03T08:17:45.853462",
     "status": "completed"
    },
    "tags": []
   },
   "outputs": [
    {
     "data": {
      "text/plain": [
       "13.534474352733596"
      ]
     },
     "execution_count": 7,
     "metadata": {},
     "output_type": "execute_result"
    }
   ],
   "source": [
    "y.max()"
   ]
  },
  {
   "cell_type": "markdown",
   "id": "ab0a535a",
   "metadata": {
    "papermill": {
     "duration": 0.027112,
     "end_time": "2021-12-03T08:17:45.942707",
     "exception": false,
     "start_time": "2021-12-03T08:17:45.915595",
     "status": "completed"
    },
    "tags": []
   },
   "source": [
    "Разбиваем выборку на тренировочную и тестовую "
   ]
  },
  {
   "cell_type": "code",
   "execution_count": 8,
   "id": "c5e740b9",
   "metadata": {
    "execution": {
     "iopub.execute_input": "2021-12-03T08:17:46.001502Z",
     "iopub.status.busy": "2021-12-03T08:17:46.000882Z",
     "iopub.status.idle": "2021-12-03T08:17:46.009208Z",
     "shell.execute_reply": "2021-12-03T08:17:46.009781Z",
     "shell.execute_reply.started": "2021-12-03T08:14:58.807721Z"
    },
    "papermill": {
     "duration": 0.039045,
     "end_time": "2021-12-03T08:17:46.009957",
     "exception": false,
     "start_time": "2021-12-03T08:17:45.970912",
     "status": "completed"
    },
    "tags": []
   },
   "outputs": [],
   "source": [
    "x_train, x_test, y_train, y_test = train_test_split(data, y, test_size = 0.3, random_state = 10)"
   ]
  },
  {
   "cell_type": "markdown",
   "id": "f3f322ad",
   "metadata": {
    "papermill": {
     "duration": 0.02693,
     "end_time": "2021-12-03T08:17:46.064273",
     "exception": false,
     "start_time": "2021-12-03T08:17:46.037343",
     "status": "completed"
    },
    "tags": []
   },
   "source": [
    "Просматриваем числовые характеристики объектов. Находим среднее значение для каждой числовой характеристики. Заполняем пустые ячейки средними значениями. Затем строим диаграмму, отражающую зависимость целевой переменной от различных числовых параметров"
   ]
  },
  {
   "cell_type": "code",
   "execution_count": 9,
   "id": "3e80aa2c",
   "metadata": {
    "execution": {
     "iopub.execute_input": "2021-12-03T08:17:46.122265Z",
     "iopub.status.busy": "2021-12-03T08:17:46.121352Z",
     "iopub.status.idle": "2021-12-03T08:17:46.711886Z",
     "shell.execute_reply": "2021-12-03T08:17:46.712391Z",
     "shell.execute_reply.started": "2021-12-03T08:15:01.866927Z"
    },
    "papermill": {
     "duration": 0.621121,
     "end_time": "2021-12-03T08:17:46.712558",
     "exception": false,
     "start_time": "2021-12-03T08:17:46.091437",
     "status": "completed"
    },
    "tags": []
   },
   "outputs": [
    {
     "data": {
      "image/png": "[encoded data removed]",
      "text/plain": [
       "<Figure size 1080x720 with 1 Axes>"
      ]
     },
     "metadata": {},
     "output_type": "display_data"
    }
   ],
   "source": [
    "numeric_data = x_train.select_dtypes([np.number])\n",
    "numeric_data_mean = numeric_data.mean()\n",
    "numeric_features = numeric_data.columns\n",
    "\n",
    "x_train = x_train.fillna(numeric_data_mean)\n",
    "x_test = x_test.fillna(numeric_data_mean)\n",
    "\n",
    "correlations = x_train[numeric_features].corrwith(y_train).sort_values(ascending=False)\n",
    "plot = sns.barplot(y = correlations.index, x = correlations)\n",
    "plot.figure.set_size_inches(15, 10)"
   ]
  },
  {
   "cell_type": "markdown",
   "id": "feff8ff0",
   "metadata": {
    "papermill": {
     "duration": 0.029233,
     "end_time": "2021-12-03T08:17:46.772603",
     "exception": false,
     "start_time": "2021-12-03T08:17:46.743370",
     "status": "completed"
    },
    "tags": []
   },
   "source": [
    "Далее выберем все категориальные признаки и по аналогии заполним пустые ячейки"
   ]
  },
  {
   "cell_type": "code",
   "execution_count": 10,
   "id": "631b4a29",
   "metadata": {
    "execution": {
     "iopub.execute_input": "2021-12-03T08:17:46.835690Z",
     "iopub.status.busy": "2021-12-03T08:17:46.834605Z",
     "iopub.status.idle": "2021-12-03T08:17:46.863817Z",
     "shell.execute_reply": "2021-12-03T08:17:46.864363Z",
     "shell.execute_reply.started": "2021-12-03T08:15:06.287083Z"
    },
    "papermill": {
     "duration": 0.062517,
     "end_time": "2021-12-03T08:17:46.864553",
     "exception": false,
     "start_time": "2021-12-03T08:17:46.802036",
     "status": "completed"
    },
    "tags": []
   },
   "outputs": [],
   "source": [
    "categor = list(x_train.dtypes[x_train.dtypes == 'object'].index)\n",
    "x_train[categor] = x_train[categor].fillna('Empty')\n",
    "x_test[categor] = x_test[categor].fillna('Empty')"
   ]
  },
  {
   "cell_type": "markdown",
   "id": "d7cfdf39",
   "metadata": {
    "papermill": {
     "duration": 0.029039,
     "end_time": "2021-12-03T08:17:46.923117",
     "exception": false,
     "start_time": "2021-12-03T08:17:46.894078",
     "status": "completed"
    },
    "tags": []
   },
   "source": [
    "Создадим первую версию модели с L1 регуляризатором - Lasso"
   ]
  },
  {
   "cell_type": "code",
   "execution_count": 11,
   "id": "ab12fcfe",
   "metadata": {
    "execution": {
     "iopub.execute_input": "2021-12-03T08:17:46.985948Z",
     "iopub.status.busy": "2021-12-03T08:17:46.985257Z",
     "iopub.status.idle": "2021-12-03T08:17:47.103258Z",
     "shell.execute_reply": "2021-12-03T08:17:47.103729Z",
     "shell.execute_reply.started": "2021-12-03T08:15:12.735109Z"
    },
    "papermill": {
     "duration": 0.150657,
     "end_time": "2021-12-03T08:17:47.103942",
     "exception": false,
     "start_time": "2021-12-03T08:17:46.953285",
     "status": "completed"
    },
    "tags": []
   },
   "outputs": [
    {
     "name": "stdout",
     "output_type": "stream",
     "text": [
      "RMSE = 0.4092\n",
      "RMSE = 0.3951\n"
     ]
    }
   ],
   "source": [
    "from sklearn.linear_model import Lasso\n",
    "from sklearn.preprocessing import StandardScaler\n",
    "\n",
    "column_transformer = ColumnTransformer([\n",
    "    ('ohe', OneHotEncoder(handle_unknown = 'ignore'), categor),\n",
    "    ('scaling', StandardScaler(), numeric_features)\n",
    "])\n",
    "\n",
    "lasso_pipeline = Pipeline(steps=[\n",
    "    ('ohe_and_scaling', column_transformer),\n",
    "    ('regression', Lasso())\n",
    "])\n",
    "\n",
    "model = lasso_pipeline.fit(x_train, y_train)\n",
    "y_pred = model.predict(x_test)\n",
    "y_train_pred = model.predict(x_train)\n",
    "print(\"RMSE = %.4f\" % mean_squared_error(y_test, y_pred, squared=False))\n",
    "print(\"RMSE = %.4f\" % mean_squared_error(y_train, y_train_pred, squared=False))\n"
   ]
  },
  {
   "cell_type": "markdown",
   "id": "bea05f8a",
   "metadata": {
    "papermill": {
     "duration": 0.029371,
     "end_time": "2021-12-03T08:17:47.163479",
     "exception": false,
     "start_time": "2021-12-03T08:17:47.134108",
     "status": "completed"
    },
    "tags": []
   },
   "source": [
    "На данном этапе была построена, которая подогнала весы. Но остались нетронутыми гиперпараметр, а именно коэффициент регуляризации"
   ]
  },
  {
   "cell_type": "code",
   "execution_count": 12,
   "id": "3f8cddfa",
   "metadata": {
    "execution": {
     "iopub.execute_input": "2021-12-03T08:17:47.225595Z",
     "iopub.status.busy": "2021-12-03T08:17:47.224985Z",
     "iopub.status.idle": "2021-12-03T08:17:57.446011Z",
     "shell.execute_reply": "2021-12-03T08:17:57.445457Z",
     "shell.execute_reply.started": "2021-12-03T08:15:15.882974Z"
    },
    "papermill": {
     "duration": 10.253032,
     "end_time": "2021-12-03T08:17:57.446153",
     "exception": false,
     "start_time": "2021-12-03T08:17:47.193121",
     "status": "completed"
    },
    "tags": []
   },
   "outputs": [
    {
     "name": "stdout",
     "output_type": "stream",
     "text": [
      "Best alpha = 0.0100\n"
     ]
    },
    {
     "data": {
      "text/plain": [
       "Text(0, 0.5, 'CV score')"
      ]
     },
     "execution_count": 12,
     "metadata": {},
     "output_type": "execute_result"
    },
    {
     "data": {
      "image/png": "[encoded data removed]",
      "text/plain": [
       "<Figure size 432x288 with 1 Axes>"
      ]
     },
     "metadata": {},
     "output_type": "display_data"
    }
   ],
   "source": [
    "alphas = np.logspace(-2, 4, 20)\n",
    "searcher = GridSearchCV(lasso_pipeline, [{\"regression__alpha\": alphas}],\n",
    "                        scoring=\"neg_root_mean_squared_error\", cv=10, n_jobs=-1)\n",
    "searcher.fit(x_train, y_train)\n",
    "\n",
    "best_alpha = searcher.best_params_[\"regression__alpha\"]\n",
    "print(\"Best alpha = %.4f\" % best_alpha)\n",
    "\n",
    "plt.plot(alphas, -searcher.cv_results_[\"mean_test_score\"])\n",
    "plt.xscale(\"log\")\n",
    "plt.xlabel(\"alpha\")\n",
    "plt.ylabel(\"CV score\")"
   ]
  },
  {
   "cell_type": "markdown",
   "id": "71ad300b",
   "metadata": {
    "papermill": {
     "duration": 0.030734,
     "end_time": "2021-12-03T08:17:57.508072",
     "exception": false,
     "start_time": "2021-12-03T08:17:57.477338",
     "status": "completed"
    },
    "tags": []
   },
   "source": [
    "Теперь повторим процесс обучения, только уже с найденным гиперпараметром"
   ]
  },
  {
   "cell_type": "code",
   "execution_count": 13,
   "id": "1d6e11dd",
   "metadata": {
    "execution": {
     "iopub.execute_input": "2021-12-03T08:17:57.577072Z",
     "iopub.status.busy": "2021-12-03T08:17:57.573493Z",
     "iopub.status.idle": "2021-12-03T08:17:57.674802Z",
     "shell.execute_reply": "2021-12-03T08:17:57.675302Z",
     "shell.execute_reply.started": "2021-12-03T08:15:57.936844Z"
    },
    "papermill": {
     "duration": 0.136204,
     "end_time": "2021-12-03T08:17:57.675501",
     "exception": false,
     "start_time": "2021-12-03T08:17:57.539297",
     "status": "completed"
    },
    "tags": []
   },
   "outputs": [
    {
     "name": "stdout",
     "output_type": "stream",
     "text": [
      "Test RMSE = 0.1467\n"
     ]
    }
   ],
   "source": [
    "pipeline = Pipeline(steps=[\n",
    "    ('ohe_and_scaling', column_transformer),\n",
    "    ('regression', Lasso(best_alpha))\n",
    "])\n",
    "\n",
    "model = pipeline.fit(x_train, y_train)\n",
    "y_pred = model.predict(x_test)\n",
    "print(\"Test RMSE = %.4f\" % mean_squared_error(y_test, y_pred, squared=False))"
   ]
  },
  {
   "cell_type": "markdown",
   "id": "652fa37f",
   "metadata": {
    "papermill": {
     "duration": 0.031093,
     "end_time": "2021-12-03T08:17:57.738812",
     "exception": false,
     "start_time": "2021-12-03T08:17:57.707719",
     "status": "completed"
    },
    "tags": []
   },
   "source": [
    "Проанализируем данные, которые мы получили. Посмотрим на гистограмму распределения квадратичной ошибки"
   ]
  },
  {
   "cell_type": "code",
   "execution_count": 14,
   "id": "3916c6e4",
   "metadata": {
    "execution": {
     "iopub.execute_input": "2021-12-03T08:17:57.832033Z",
     "iopub.status.busy": "2021-12-03T08:17:57.817607Z",
     "iopub.status.idle": "2021-12-03T08:17:58.406525Z",
     "shell.execute_reply": "2021-12-03T08:17:58.405425Z",
     "shell.execute_reply.started": "2021-12-03T08:16:31.062249Z"
    },
    "papermill": {
     "duration": 0.636656,
     "end_time": "2021-12-03T08:17:58.406679",
     "exception": false,
     "start_time": "2021-12-03T08:17:57.770023",
     "status": "completed"
    },
    "tags": []
   },
   "outputs": [
    {
     "data": {
      "text/plain": [
       "<AxesSubplot:xlabel='SalePrice', ylabel='Density'>"
      ]
     },
     "execution_count": 14,
     "metadata": {},
     "output_type": "execute_result"
    },
    {
     "data": {
      "image/png": "[encoded data removed]",
      "text/plain": [
       "<Figure size 432x288 with 1 Axes>"
      ]
     },
     "metadata": {},
     "output_type": "display_data"
    }
   ],
   "source": [
    "error = (y_train - model.predict(x_train)) ** 2\n",
    "sns.distplot(error)"
   ]
  },
  {
   "cell_type": "markdown",
   "id": "786f1524",
   "metadata": {
    "papermill": {
     "duration": 0.032358,
     "end_time": "2021-12-03T08:17:58.471597",
     "exception": false,
     "start_time": "2021-12-03T08:17:58.439239",
     "status": "completed"
    },
    "tags": []
   },
   "source": [
    "Выбросим из обучающей выборки объекты, которые дают такое большое отклонение"
   ]
  },
  {
   "cell_type": "code",
   "execution_count": 15,
   "id": "18ae8c10",
   "metadata": {
    "execution": {
     "iopub.execute_input": "2021-12-03T08:17:58.543402Z",
     "iopub.status.busy": "2021-12-03T08:17:58.542431Z",
     "iopub.status.idle": "2021-12-03T08:17:58.545460Z",
     "shell.execute_reply": "2021-12-03T08:17:58.544986Z",
     "shell.execute_reply.started": "2021-12-03T08:16:33.900800Z"
    },
    "papermill": {
     "duration": 0.04141,
     "end_time": "2021-12-03T08:17:58.545608",
     "exception": false,
     "start_time": "2021-12-03T08:17:58.504198",
     "status": "completed"
    },
    "tags": []
   },
   "outputs": [],
   "source": [
    "mask = (error < np.quantile(error, 0.95))"
   ]
  },
  {
   "cell_type": "markdown",
   "id": "de3f9b3f",
   "metadata": {
    "papermill": {
     "duration": 0.032479,
     "end_time": "2021-12-03T08:17:58.610355",
     "exception": false,
     "start_time": "2021-12-03T08:17:58.577876",
     "status": "completed"
    },
    "tags": []
   },
   "source": [
    "Попробуем ещё раз создать модель. Только уже с учётом найденного гиперпараметра и улучшенной тренировочной выборки"
   ]
  },
  {
   "cell_type": "code",
   "execution_count": 16,
   "id": "6ee6b49a",
   "metadata": {
    "execution": {
     "iopub.execute_input": "2021-12-03T08:17:58.682716Z",
     "iopub.status.busy": "2021-12-03T08:17:58.682054Z",
     "iopub.status.idle": "2021-12-03T08:17:58.784177Z",
     "shell.execute_reply": "2021-12-03T08:17:58.784713Z",
     "shell.execute_reply.started": "2021-12-03T08:16:36.171826Z"
    },
    "papermill": {
     "duration": 0.141981,
     "end_time": "2021-12-03T08:17:58.784960",
     "exception": false,
     "start_time": "2021-12-03T08:17:58.642979",
     "status": "completed"
    },
    "tags": []
   },
   "outputs": [
    {
     "name": "stdout",
     "output_type": "stream",
     "text": [
      "Test RMSE = 0.1427\n",
      "Test RMSE = 0.3518\n"
     ]
    }
   ],
   "source": [
    "model = pipeline.fit(x_train[mask], y_train[mask])\n",
    "\n",
    "\n",
    "\n",
    "y_pred = model.predict(x_test)\n",
    "y_base = np.ones(y_pred.shape)\n",
    "y_base = y_base * baseline\n",
    "print(\"Test RMSE = %.4f\" % mean_squared_error(y_test, y_pred, squared=False))\n",
    "print(\"Test RMSE = %.4f\" % mean_squared_error(y_base, y_pred, squared=False))"
   ]
  },
  {
   "cell_type": "markdown",
   "id": "010cc090",
   "metadata": {
    "papermill": {
     "duration": 0.032574,
     "end_time": "2021-12-03T08:17:58.850478",
     "exception": false,
     "start_time": "2021-12-03T08:17:58.817904",
     "status": "completed"
    },
    "tags": []
   },
   "source": [
    "Проверим полученную модель на тестовых данных. Только перед этим, как и в случае начальных данных, выборку надо подготовить"
   ]
  },
  {
   "cell_type": "code",
   "execution_count": 17,
   "id": "cb59b438",
   "metadata": {
    "execution": {
     "iopub.execute_input": "2021-12-03T08:17:58.921420Z",
     "iopub.status.busy": "2021-12-03T08:17:58.920804Z",
     "iopub.status.idle": "2021-12-03T08:17:58.980344Z",
     "shell.execute_reply": "2021-12-03T08:17:58.979862Z",
     "shell.execute_reply.started": "2021-12-03T08:16:38.442433Z"
    },
    "papermill": {
     "duration": 0.097449,
     "end_time": "2021-12-03T08:17:58.980482",
     "exception": false,
     "start_time": "2021-12-03T08:17:58.883033",
     "status": "completed"
    },
    "tags": []
   },
   "outputs": [
    {
     "data": {
      "text/html": [
       "<div>\n",
       "<style scoped>\n",
       "    .dataframe tbody tr th:only-of-type {\n",
       "        vertical-align: middle;\n",
       "    }\n",
       "\n",
       "    .dataframe tbody tr th {\n",
       "        vertical-align: top;\n",
       "    }\n",
       "\n",
       "    .dataframe thead th {\n",
       "        text-align: right;\n",
       "    }\n",
       "</style>\n",
       "<table border=\"1\" class=\"dataframe\">\n",
       "  <thead>\n",
       "    <tr style=\"text-align: right;\">\n",
       "      <th></th>\n",
       "      <th>MSSubClass</th>\n",
       "      <th>MSZoning</th>\n",
       "      <th>LotFrontage</th>\n",
       "      <th>LotArea</th>\n",
       "      <th>Street</th>\n",
       "      <th>Alley</th>\n",
       "      <th>LotShape</th>\n",
       "      <th>LandContour</th>\n",
       "      <th>Utilities</th>\n",
       "      <th>LotConfig</th>\n",
       "      <th>...</th>\n",
       "      <th>ScreenPorch</th>\n",
       "      <th>PoolArea</th>\n",
       "      <th>PoolQC</th>\n",
       "      <th>Fence</th>\n",
       "      <th>MiscFeature</th>\n",
       "      <th>MiscVal</th>\n",
       "      <th>MoSold</th>\n",
       "      <th>YrSold</th>\n",
       "      <th>SaleType</th>\n",
       "      <th>SaleCondition</th>\n",
       "    </tr>\n",
       "  </thead>\n",
       "  <tbody>\n",
       "    <tr>\n",
       "      <th>0</th>\n",
       "      <td>20</td>\n",
       "      <td>RH</td>\n",
       "      <td>80.0</td>\n",
       "      <td>11622</td>\n",
       "      <td>Pave</td>\n",
       "      <td>NaN</td>\n",
       "      <td>Reg</td>\n",
       "      <td>Lvl</td>\n",
       "      <td>AllPub</td>\n",
       "      <td>Inside</td>\n",
       "      <td>...</td>\n",
       "      <td>120</td>\n",
       "      <td>0</td>\n",
       "      <td>NaN</td>\n",
       "      <td>MnPrv</td>\n",
       "      <td>NaN</td>\n",
       "      <td>0</td>\n",
       "      <td>6</td>\n",
       "      <td>2010</td>\n",
       "      <td>WD</td>\n",
       "      <td>Normal</td>\n",
       "    </tr>\n",
       "    <tr>\n",
       "      <th>1</th>\n",
       "      <td>20</td>\n",
       "      <td>RL</td>\n",
       "      <td>81.0</td>\n",
       "      <td>14267</td>\n",
       "      <td>Pave</td>\n",
       "      <td>NaN</td>\n",
       "      <td>IR1</td>\n",
       "      <td>Lvl</td>\n",
       "      <td>AllPub</td>\n",
       "      <td>Corner</td>\n",
       "      <td>...</td>\n",
       "      <td>0</td>\n",
       "      <td>0</td>\n",
       "      <td>NaN</td>\n",
       "      <td>NaN</td>\n",
       "      <td>Gar2</td>\n",
       "      <td>12500</td>\n",
       "      <td>6</td>\n",
       "      <td>2010</td>\n",
       "      <td>WD</td>\n",
       "      <td>Normal</td>\n",
       "    </tr>\n",
       "    <tr>\n",
       "      <th>2</th>\n",
       "      <td>60</td>\n",
       "      <td>RL</td>\n",
       "      <td>74.0</td>\n",
       "      <td>13830</td>\n",
       "      <td>Pave</td>\n",
       "      <td>NaN</td>\n",
       "      <td>IR1</td>\n",
       "      <td>Lvl</td>\n",
       "      <td>AllPub</td>\n",
       "      <td>Inside</td>\n",
       "      <td>...</td>\n",
       "      <td>0</td>\n",
       "      <td>0</td>\n",
       "      <td>NaN</td>\n",
       "      <td>MnPrv</td>\n",
       "      <td>NaN</td>\n",
       "      <td>0</td>\n",
       "      <td>3</td>\n",
       "      <td>2010</td>\n",
       "      <td>WD</td>\n",
       "      <td>Normal</td>\n",
       "    </tr>\n",
       "    <tr>\n",
       "      <th>3</th>\n",
       "      <td>60</td>\n",
       "      <td>RL</td>\n",
       "      <td>78.0</td>\n",
       "      <td>9978</td>\n",
       "      <td>Pave</td>\n",
       "      <td>NaN</td>\n",
       "      <td>IR1</td>\n",
       "      <td>Lvl</td>\n",
       "      <td>AllPub</td>\n",
       "      <td>Inside</td>\n",
       "      <td>...</td>\n",
       "      <td>0</td>\n",
       "      <td>0</td>\n",
       "      <td>NaN</td>\n",
       "      <td>NaN</td>\n",
       "      <td>NaN</td>\n",
       "      <td>0</td>\n",
       "      <td>6</td>\n",
       "      <td>2010</td>\n",
       "      <td>WD</td>\n",
       "      <td>Normal</td>\n",
       "    </tr>\n",
       "    <tr>\n",
       "      <th>4</th>\n",
       "      <td>120</td>\n",
       "      <td>RL</td>\n",
       "      <td>43.0</td>\n",
       "      <td>5005</td>\n",
       "      <td>Pave</td>\n",
       "      <td>NaN</td>\n",
       "      <td>IR1</td>\n",
       "      <td>HLS</td>\n",
       "      <td>AllPub</td>\n",
       "      <td>Inside</td>\n",
       "      <td>...</td>\n",
       "      <td>144</td>\n",
       "      <td>0</td>\n",
       "      <td>NaN</td>\n",
       "      <td>NaN</td>\n",
       "      <td>NaN</td>\n",
       "      <td>0</td>\n",
       "      <td>1</td>\n",
       "      <td>2010</td>\n",
       "      <td>WD</td>\n",
       "      <td>Normal</td>\n",
       "    </tr>\n",
       "  </tbody>\n",
       "</table>\n",
       "<p>5 rows × 79 columns</p>\n",
       "</div>"
      ],
      "text/plain": [
       "   MSSubClass MSZoning  LotFrontage  LotArea Street Alley LotShape  \\\n",
       "0          20       RH         80.0    11622   Pave   NaN      Reg   \n",
       "1          20       RL         81.0    14267   Pave   NaN      IR1   \n",
       "2          60       RL         74.0    13830   Pave   NaN      IR1   \n",
       "3          60       RL         78.0     9978   Pave   NaN      IR1   \n",
       "4         120       RL         43.0     5005   Pave   NaN      IR1   \n",
       "\n",
       "  LandContour Utilities LotConfig  ... ScreenPorch PoolArea PoolQC  Fence  \\\n",
       "0         Lvl    AllPub    Inside  ...         120        0    NaN  MnPrv   \n",
       "1         Lvl    AllPub    Corner  ...           0        0    NaN    NaN   \n",
       "2         Lvl    AllPub    Inside  ...           0        0    NaN  MnPrv   \n",
       "3         Lvl    AllPub    Inside  ...           0        0    NaN    NaN   \n",
       "4         HLS    AllPub    Inside  ...         144        0    NaN    NaN   \n",
       "\n",
       "  MiscFeature MiscVal  MoSold  YrSold  SaleType  SaleCondition  \n",
       "0         NaN       0       6    2010        WD         Normal  \n",
       "1        Gar2   12500       6    2010        WD         Normal  \n",
       "2         NaN       0       3    2010        WD         Normal  \n",
       "3         NaN       0       6    2010        WD         Normal  \n",
       "4         NaN       0       1    2010        WD         Normal  \n",
       "\n",
       "[5 rows x 79 columns]"
      ]
     },
     "execution_count": 17,
     "metadata": {},
     "output_type": "execute_result"
    }
   ],
   "source": [
    "test = pd.read_csv('../input/house-prices-advanced-regression-techniques/test.csv')\n",
    "\n",
    "id = test[\"Id\"]\n",
    "test = test.drop(columns=[\"Id\"])\n",
    "\n",
    "test.head()\n"
   ]
  },
  {
   "cell_type": "code",
   "execution_count": 18,
   "id": "a8d5dcc7",
   "metadata": {
    "execution": {
     "iopub.execute_input": "2021-12-03T08:17:59.067008Z",
     "iopub.status.busy": "2021-12-03T08:17:59.062678Z",
     "iopub.status.idle": "2021-12-03T08:17:59.078412Z",
     "shell.execute_reply": "2021-12-03T08:17:59.077809Z",
     "shell.execute_reply.started": "2021-12-03T08:16:41.036281Z"
    },
    "papermill": {
     "duration": 0.064408,
     "end_time": "2021-12-03T08:17:59.078554",
     "exception": false,
     "start_time": "2021-12-03T08:17:59.014146",
     "status": "completed"
    },
    "tags": []
   },
   "outputs": [
    {
     "data": {
      "text/html": [
       "<div>\n",
       "<style scoped>\n",
       "    .dataframe tbody tr th:only-of-type {\n",
       "        vertical-align: middle;\n",
       "    }\n",
       "\n",
       "    .dataframe tbody tr th {\n",
       "        vertical-align: top;\n",
       "    }\n",
       "\n",
       "    .dataframe thead th {\n",
       "        text-align: right;\n",
       "    }\n",
       "</style>\n",
       "<table border=\"1\" class=\"dataframe\">\n",
       "  <thead>\n",
       "    <tr style=\"text-align: right;\">\n",
       "      <th></th>\n",
       "      <th>MSSubClass</th>\n",
       "      <th>MSZoning</th>\n",
       "      <th>LotFrontage</th>\n",
       "      <th>LotArea</th>\n",
       "      <th>Street</th>\n",
       "      <th>Alley</th>\n",
       "      <th>LotShape</th>\n",
       "      <th>LandContour</th>\n",
       "      <th>Utilities</th>\n",
       "      <th>LotConfig</th>\n",
       "      <th>...</th>\n",
       "      <th>ScreenPorch</th>\n",
       "      <th>PoolArea</th>\n",
       "      <th>PoolQC</th>\n",
       "      <th>Fence</th>\n",
       "      <th>MiscFeature</th>\n",
       "      <th>MiscVal</th>\n",
       "      <th>MoSold</th>\n",
       "      <th>YrSold</th>\n",
       "      <th>SaleType</th>\n",
       "      <th>SaleCondition</th>\n",
       "    </tr>\n",
       "  </thead>\n",
       "  <tbody>\n",
       "    <tr>\n",
       "      <th>912</th>\n",
       "      <td>30</td>\n",
       "      <td>RM</td>\n",
       "      <td>51.000000</td>\n",
       "      <td>6120</td>\n",
       "      <td>Pave</td>\n",
       "      <td>Empty</td>\n",
       "      <td>Reg</td>\n",
       "      <td>Lvl</td>\n",
       "      <td>AllPub</td>\n",
       "      <td>Inside</td>\n",
       "      <td>...</td>\n",
       "      <td>120</td>\n",
       "      <td>0</td>\n",
       "      <td>Empty</td>\n",
       "      <td>MnPrv</td>\n",
       "      <td>Shed</td>\n",
       "      <td>620</td>\n",
       "      <td>7</td>\n",
       "      <td>2006</td>\n",
       "      <td>WD</td>\n",
       "      <td>Abnorml</td>\n",
       "    </tr>\n",
       "    <tr>\n",
       "      <th>373</th>\n",
       "      <td>20</td>\n",
       "      <td>RL</td>\n",
       "      <td>79.000000</td>\n",
       "      <td>10634</td>\n",
       "      <td>Pave</td>\n",
       "      <td>Empty</td>\n",
       "      <td>Reg</td>\n",
       "      <td>Lvl</td>\n",
       "      <td>AllPub</td>\n",
       "      <td>Inside</td>\n",
       "      <td>...</td>\n",
       "      <td>0</td>\n",
       "      <td>0</td>\n",
       "      <td>Empty</td>\n",
       "      <td>GdWo</td>\n",
       "      <td>Empty</td>\n",
       "      <td>0</td>\n",
       "      <td>11</td>\n",
       "      <td>2009</td>\n",
       "      <td>WD</td>\n",
       "      <td>Normal</td>\n",
       "    </tr>\n",
       "    <tr>\n",
       "      <th>20</th>\n",
       "      <td>60</td>\n",
       "      <td>RL</td>\n",
       "      <td>101.000000</td>\n",
       "      <td>14215</td>\n",
       "      <td>Pave</td>\n",
       "      <td>Empty</td>\n",
       "      <td>IR1</td>\n",
       "      <td>Lvl</td>\n",
       "      <td>AllPub</td>\n",
       "      <td>Corner</td>\n",
       "      <td>...</td>\n",
       "      <td>0</td>\n",
       "      <td>0</td>\n",
       "      <td>Empty</td>\n",
       "      <td>Empty</td>\n",
       "      <td>Empty</td>\n",
       "      <td>0</td>\n",
       "      <td>11</td>\n",
       "      <td>2006</td>\n",
       "      <td>New</td>\n",
       "      <td>Partial</td>\n",
       "    </tr>\n",
       "    <tr>\n",
       "      <th>800</th>\n",
       "      <td>60</td>\n",
       "      <td>RL</td>\n",
       "      <td>79.000000</td>\n",
       "      <td>12798</td>\n",
       "      <td>Pave</td>\n",
       "      <td>Empty</td>\n",
       "      <td>IR1</td>\n",
       "      <td>HLS</td>\n",
       "      <td>AllPub</td>\n",
       "      <td>Inside</td>\n",
       "      <td>...</td>\n",
       "      <td>0</td>\n",
       "      <td>0</td>\n",
       "      <td>Empty</td>\n",
       "      <td>Empty</td>\n",
       "      <td>Shed</td>\n",
       "      <td>400</td>\n",
       "      <td>5</td>\n",
       "      <td>2008</td>\n",
       "      <td>WD</td>\n",
       "      <td>Normal</td>\n",
       "    </tr>\n",
       "    <tr>\n",
       "      <th>152</th>\n",
       "      <td>60</td>\n",
       "      <td>RL</td>\n",
       "      <td>70.207101</td>\n",
       "      <td>14803</td>\n",
       "      <td>Pave</td>\n",
       "      <td>Empty</td>\n",
       "      <td>IR1</td>\n",
       "      <td>Lvl</td>\n",
       "      <td>AllPub</td>\n",
       "      <td>CulDSac</td>\n",
       "      <td>...</td>\n",
       "      <td>0</td>\n",
       "      <td>0</td>\n",
       "      <td>Empty</td>\n",
       "      <td>GdWo</td>\n",
       "      <td>Empty</td>\n",
       "      <td>0</td>\n",
       "      <td>6</td>\n",
       "      <td>2006</td>\n",
       "      <td>WD</td>\n",
       "      <td>Normal</td>\n",
       "    </tr>\n",
       "  </tbody>\n",
       "</table>\n",
       "<p>5 rows × 79 columns</p>\n",
       "</div>"
      ],
      "text/plain": [
       "     MSSubClass MSZoning  LotFrontage  LotArea Street  Alley LotShape  \\\n",
       "912          30       RM    51.000000     6120   Pave  Empty      Reg   \n",
       "373          20       RL    79.000000    10634   Pave  Empty      Reg   \n",
       "20           60       RL   101.000000    14215   Pave  Empty      IR1   \n",
       "800          60       RL    79.000000    12798   Pave  Empty      IR1   \n",
       "152          60       RL    70.207101    14803   Pave  Empty      IR1   \n",
       "\n",
       "    LandContour Utilities LotConfig  ... ScreenPorch PoolArea PoolQC  Fence  \\\n",
       "912         Lvl    AllPub    Inside  ...         120        0  Empty  MnPrv   \n",
       "373         Lvl    AllPub    Inside  ...           0        0  Empty   GdWo   \n",
       "20          Lvl    AllPub    Corner  ...           0        0  Empty  Empty   \n",
       "800         HLS    AllPub    Inside  ...           0        0  Empty  Empty   \n",
       "152         Lvl    AllPub   CulDSac  ...           0        0  Empty   GdWo   \n",
       "\n",
       "    MiscFeature MiscVal  MoSold  YrSold  SaleType  SaleCondition  \n",
       "912        Shed     620       7    2006        WD        Abnorml  \n",
       "373       Empty       0      11    2009        WD         Normal  \n",
       "20        Empty       0      11    2006       New        Partial  \n",
       "800        Shed     400       5    2008        WD         Normal  \n",
       "152       Empty       0       6    2006        WD         Normal  \n",
       "\n",
       "[5 rows x 79 columns]"
      ]
     },
     "execution_count": 18,
     "metadata": {},
     "output_type": "execute_result"
    }
   ],
   "source": [
    "x_train.head()"
   ]
  },
  {
   "cell_type": "code",
   "execution_count": 19,
   "id": "65bf50c9",
   "metadata": {
    "execution": {
     "iopub.execute_input": "2021-12-03T08:17:59.157834Z",
     "iopub.status.busy": "2021-12-03T08:17:59.156380Z",
     "iopub.status.idle": "2021-12-03T08:17:59.184687Z",
     "shell.execute_reply": "2021-12-03T08:17:59.184119Z",
     "shell.execute_reply.started": "2021-12-03T08:17:13.659976Z"
    },
    "papermill": {
     "duration": 0.070809,
     "end_time": "2021-12-03T08:17:59.184880",
     "exception": false,
     "start_time": "2021-12-03T08:17:59.114071",
     "status": "completed"
    },
    "tags": []
   },
   "outputs": [],
   "source": [
    "numeric_data = test.select_dtypes([np.number])\n",
    "numeric_data_mean = numeric_data.mean()\n",
    "numeric_features = numeric_data.columns\n",
    "\n",
    "test = test.fillna(numeric_data_mean)\n",
    "\n",
    "categorical = list(test.dtypes[test.dtypes == 'object'].index)\n",
    "test[categorical] = test[categorical].fillna('Empty')"
   ]
  },
  {
   "cell_type": "code",
   "execution_count": 20,
   "id": "965b4f4b",
   "metadata": {
    "execution": {
     "iopub.execute_input": "2021-12-03T08:17:59.296044Z",
     "iopub.status.busy": "2021-12-03T08:17:59.282664Z",
     "iopub.status.idle": "2021-12-03T08:17:59.310186Z",
     "shell.execute_reply": "2021-12-03T08:17:59.309585Z",
     "shell.execute_reply.started": "2021-12-03T08:17:15.590475Z"
    },
    "papermill": {
     "duration": 0.091142,
     "end_time": "2021-12-03T08:17:59.310332",
     "exception": false,
     "start_time": "2021-12-03T08:17:59.219190",
     "status": "completed"
    },
    "tags": []
   },
   "outputs": [],
   "source": [
    "y_pred = model.predict(test)\n"
   ]
  },
  {
   "cell_type": "code",
   "execution_count": 21,
   "id": "203de392",
   "metadata": {
    "execution": {
     "iopub.execute_input": "2021-12-03T08:17:59.404313Z",
     "iopub.status.busy": "2021-12-03T08:17:59.403461Z",
     "iopub.status.idle": "2021-12-03T08:17:59.406983Z",
     "shell.execute_reply": "2021-12-03T08:17:59.407458Z",
     "shell.execute_reply.started": "2021-12-03T08:17:18.567668Z"
    },
    "papermill": {
     "duration": 0.062997,
     "end_time": "2021-12-03T08:17:59.407619",
     "exception": false,
     "start_time": "2021-12-03T08:17:59.344622",
     "status": "completed"
    },
    "tags": []
   },
   "outputs": [
    {
     "data": {
      "text/html": [
       "<div>\n",
       "<style scoped>\n",
       "    .dataframe tbody tr th:only-of-type {\n",
       "        vertical-align: middle;\n",
       "    }\n",
       "\n",
       "    .dataframe tbody tr th {\n",
       "        vertical-align: top;\n",
       "    }\n",
       "\n",
       "    .dataframe thead th {\n",
       "        text-align: right;\n",
       "    }\n",
       "</style>\n",
       "<table border=\"1\" class=\"dataframe\">\n",
       "  <thead>\n",
       "    <tr style=\"text-align: right;\">\n",
       "      <th></th>\n",
       "      <th>MSSubClass</th>\n",
       "      <th>MSZoning</th>\n",
       "      <th>LotFrontage</th>\n",
       "      <th>LotArea</th>\n",
       "      <th>Street</th>\n",
       "      <th>Alley</th>\n",
       "      <th>LotShape</th>\n",
       "      <th>LandContour</th>\n",
       "      <th>Utilities</th>\n",
       "      <th>LotConfig</th>\n",
       "      <th>...</th>\n",
       "      <th>ScreenPorch</th>\n",
       "      <th>PoolArea</th>\n",
       "      <th>PoolQC</th>\n",
       "      <th>Fence</th>\n",
       "      <th>MiscFeature</th>\n",
       "      <th>MiscVal</th>\n",
       "      <th>MoSold</th>\n",
       "      <th>YrSold</th>\n",
       "      <th>SaleType</th>\n",
       "      <th>SaleCondition</th>\n",
       "    </tr>\n",
       "  </thead>\n",
       "  <tbody>\n",
       "    <tr>\n",
       "      <th>0</th>\n",
       "      <td>20</td>\n",
       "      <td>RH</td>\n",
       "      <td>80.0</td>\n",
       "      <td>11622</td>\n",
       "      <td>Pave</td>\n",
       "      <td>Empty</td>\n",
       "      <td>Reg</td>\n",
       "      <td>Lvl</td>\n",
       "      <td>AllPub</td>\n",
       "      <td>Inside</td>\n",
       "      <td>...</td>\n",
       "      <td>120</td>\n",
       "      <td>0</td>\n",
       "      <td>Empty</td>\n",
       "      <td>MnPrv</td>\n",
       "      <td>Empty</td>\n",
       "      <td>0</td>\n",
       "      <td>6</td>\n",
       "      <td>2010</td>\n",
       "      <td>WD</td>\n",
       "      <td>Normal</td>\n",
       "    </tr>\n",
       "    <tr>\n",
       "      <th>1</th>\n",
       "      <td>20</td>\n",
       "      <td>RL</td>\n",
       "      <td>81.0</td>\n",
       "      <td>14267</td>\n",
       "      <td>Pave</td>\n",
       "      <td>Empty</td>\n",
       "      <td>IR1</td>\n",
       "      <td>Lvl</td>\n",
       "      <td>AllPub</td>\n",
       "      <td>Corner</td>\n",
       "      <td>...</td>\n",
       "      <td>0</td>\n",
       "      <td>0</td>\n",
       "      <td>Empty</td>\n",
       "      <td>Empty</td>\n",
       "      <td>Gar2</td>\n",
       "      <td>12500</td>\n",
       "      <td>6</td>\n",
       "      <td>2010</td>\n",
       "      <td>WD</td>\n",
       "      <td>Normal</td>\n",
       "    </tr>\n",
       "    <tr>\n",
       "      <th>2</th>\n",
       "      <td>60</td>\n",
       "      <td>RL</td>\n",
       "      <td>74.0</td>\n",
       "      <td>13830</td>\n",
       "      <td>Pave</td>\n",
       "      <td>Empty</td>\n",
       "      <td>IR1</td>\n",
       "      <td>Lvl</td>\n",
       "      <td>AllPub</td>\n",
       "      <td>Inside</td>\n",
       "      <td>...</td>\n",
       "      <td>0</td>\n",
       "      <td>0</td>\n",
       "      <td>Empty</td>\n",
       "      <td>MnPrv</td>\n",
       "      <td>Empty</td>\n",
       "      <td>0</td>\n",
       "      <td>3</td>\n",
       "      <td>2010</td>\n",
       "      <td>WD</td>\n",
       "      <td>Normal</td>\n",
       "    </tr>\n",
       "    <tr>\n",
       "      <th>3</th>\n",
       "      <td>60</td>\n",
       "      <td>RL</td>\n",
       "      <td>78.0</td>\n",
       "      <td>9978</td>\n",
       "      <td>Pave</td>\n",
       "      <td>Empty</td>\n",
       "      <td>IR1</td>\n",
       "      <td>Lvl</td>\n",
       "      <td>AllPub</td>\n",
       "      <td>Inside</td>\n",
       "      <td>...</td>\n",
       "      <td>0</td>\n",
       "      <td>0</td>\n",
       "      <td>Empty</td>\n",
       "      <td>Empty</td>\n",
       "      <td>Empty</td>\n",
       "      <td>0</td>\n",
       "      <td>6</td>\n",
       "      <td>2010</td>\n",
       "      <td>WD</td>\n",
       "      <td>Normal</td>\n",
       "    </tr>\n",
       "    <tr>\n",
       "      <th>4</th>\n",
       "      <td>120</td>\n",
       "      <td>RL</td>\n",
       "      <td>43.0</td>\n",
       "      <td>5005</td>\n",
       "      <td>Pave</td>\n",
       "      <td>Empty</td>\n",
       "      <td>IR1</td>\n",
       "      <td>HLS</td>\n",
       "      <td>AllPub</td>\n",
       "      <td>Inside</td>\n",
       "      <td>...</td>\n",
       "      <td>144</td>\n",
       "      <td>0</td>\n",
       "      <td>Empty</td>\n",
       "      <td>Empty</td>\n",
       "      <td>Empty</td>\n",
       "      <td>0</td>\n",
       "      <td>1</td>\n",
       "      <td>2010</td>\n",
       "      <td>WD</td>\n",
       "      <td>Normal</td>\n",
       "    </tr>\n",
       "  </tbody>\n",
       "</table>\n",
       "<p>5 rows × 79 columns</p>\n",
       "</div>"
      ],
      "text/plain": [
       "   MSSubClass MSZoning  LotFrontage  LotArea Street  Alley LotShape  \\\n",
       "0          20       RH         80.0    11622   Pave  Empty      Reg   \n",
       "1          20       RL         81.0    14267   Pave  Empty      IR1   \n",
       "2          60       RL         74.0    13830   Pave  Empty      IR1   \n",
       "3          60       RL         78.0     9978   Pave  Empty      IR1   \n",
       "4         120       RL         43.0     5005   Pave  Empty      IR1   \n",
       "\n",
       "  LandContour Utilities LotConfig  ... ScreenPorch PoolArea PoolQC  Fence  \\\n",
       "0         Lvl    AllPub    Inside  ...         120        0  Empty  MnPrv   \n",
       "1         Lvl    AllPub    Corner  ...           0        0  Empty  Empty   \n",
       "2         Lvl    AllPub    Inside  ...           0        0  Empty  MnPrv   \n",
       "3         Lvl    AllPub    Inside  ...           0        0  Empty  Empty   \n",
       "4         HLS    AllPub    Inside  ...         144        0  Empty  Empty   \n",
       "\n",
       "  MiscFeature MiscVal  MoSold  YrSold  SaleType  SaleCondition  \n",
       "0       Empty       0       6    2010        WD         Normal  \n",
       "1        Gar2   12500       6    2010        WD         Normal  \n",
       "2       Empty       0       3    2010        WD         Normal  \n",
       "3       Empty       0       6    2010        WD         Normal  \n",
       "4       Empty       0       1    2010        WD         Normal  \n",
       "\n",
       "[5 rows x 79 columns]"
      ]
     },
     "execution_count": 21,
     "metadata": {},
     "output_type": "execute_result"
    }
   ],
   "source": [
    "test.head()"
   ]
  },
  {
   "cell_type": "code",
   "execution_count": 22,
   "id": "424207a0",
   "metadata": {
    "execution": {
     "iopub.execute_input": "2021-12-03T08:17:59.483037Z",
     "iopub.status.busy": "2021-12-03T08:17:59.482212Z",
     "iopub.status.idle": "2021-12-03T08:17:59.485153Z",
     "shell.execute_reply": "2021-12-03T08:17:59.485618Z",
     "shell.execute_reply.started": "2021-12-03T06:12:58.615810Z"
    },
    "papermill": {
     "duration": 0.04335,
     "end_time": "2021-12-03T08:17:59.485803",
     "exception": false,
     "start_time": "2021-12-03T08:17:59.442453",
     "status": "completed"
    },
    "tags": []
   },
   "outputs": [
    {
     "data": {
      "text/plain": [
       "79"
      ]
     },
     "execution_count": 22,
     "metadata": {},
     "output_type": "execute_result"
    }
   ],
   "source": [
    "len(test.columns)"
   ]
  },
  {
   "cell_type": "code",
   "execution_count": 23,
   "id": "e786ac10",
   "metadata": {
    "execution": {
     "iopub.execute_input": "2021-12-03T08:17:59.562080Z",
     "iopub.status.busy": "2021-12-03T08:17:59.561126Z",
     "iopub.status.idle": "2021-12-03T08:17:59.565346Z",
     "shell.execute_reply": "2021-12-03T08:17:59.564626Z",
     "shell.execute_reply.started": "2021-12-03T06:08:32.855933Z"
    },
    "papermill": {
     "duration": 0.044409,
     "end_time": "2021-12-03T08:17:59.565491",
     "exception": false,
     "start_time": "2021-12-03T08:17:59.521082",
     "status": "completed"
    },
    "tags": []
   },
   "outputs": [
    {
     "data": {
      "text/plain": [
       "79"
      ]
     },
     "execution_count": 23,
     "metadata": {},
     "output_type": "execute_result"
    }
   ],
   "source": [
    "len(x_test.columns)"
   ]
  },
  {
   "cell_type": "code",
   "execution_count": 24,
   "id": "df5cb44b",
   "metadata": {
    "execution": {
     "iopub.execute_input": "2021-12-03T08:17:59.646724Z",
     "iopub.status.busy": "2021-12-03T08:17:59.646083Z",
     "iopub.status.idle": "2021-12-03T08:17:59.657594Z",
     "shell.execute_reply": "2021-12-03T08:17:59.657068Z",
     "shell.execute_reply.started": "2021-12-03T08:17:21.796676Z"
    },
    "papermill": {
     "duration": 0.05605,
     "end_time": "2021-12-03T08:17:59.657727",
     "exception": false,
     "start_time": "2021-12-03T08:17:59.601677",
     "status": "completed"
    },
    "tags": []
   },
   "outputs": [
    {
     "name": "stdout",
     "output_type": "stream",
     "text": [
      "        Id  SalePrice\n",
      "0     1461  11.732052\n",
      "1     1462  11.966620\n",
      "2     1463  12.080343\n",
      "3     1464  12.170571\n",
      "4     1465  12.155216\n",
      "...    ...        ...\n",
      "1454  2915  11.506504\n",
      "1455  2916  11.537381\n",
      "1456  2917  12.074154\n",
      "1457  2918  11.698147\n",
      "1458  2919  12.363466\n",
      "\n",
      "[1459 rows x 2 columns]\n"
     ]
    }
   ],
   "source": [
    "result = pd.DataFrame.from_dict({'Id' : id.values, 'SalePrice' : y_pred})\n",
    "print(result)\n",
    "result.to_csv('Result.csv', index = False)"
   ]
  }
 ],
 "metadata": {
  "kernelspec": {
   "display_name": "Python 3",
   "language": "python",
   "name": "python3"
  },
  "language_info": {
   "codemirror_mode": {
    "name": "ipython",
    "version": 3
   },
   "file_extension": ".py",
   "mimetype": "text/x-python",
   "name": "python",
   "nbconvert_exporter": "python",
   "pygments_lexer": "ipython3",
   "version": "3.7.12"
  },
  "papermill": {
   "default_parameters": {},
   "duration": 26.42757,
   "end_time": "2021-12-03T08:18:00.506840",
   "environment_variables": {},
   "exception": null,
   "input_path": "__notebook__.ipynb",
   "output_path": "__notebook__.ipynb",
   "parameters": {},
   "start_time": "2021-12-03T08:17:34.079270",
   "version": "2.3.3"
  }
 },
 "nbformat": 4,
 "nbformat_minor": 5
}
