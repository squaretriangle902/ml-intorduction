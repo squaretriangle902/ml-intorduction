{
 "cells": [
  {
   "cell_type": "markdown",
   "id": "93c2ec65",
   "metadata": {
    "papermill": {
     "duration": 0.077864,
     "end_time": "2021-12-17T16:41:26.901000",
     "exception": false,
     "start_time": "2021-12-17T16:41:26.823136",
     "status": "completed"
    },
    "tags": []
   },
   "source": [
    "# Машинное обучение, ФКН ВШЭ\n",
    "\n",
    "## Практическое задание 4. Классификация. \n",
    "\n",
    "### Общая информация\n",
    "Дата выдачи: 20.10.2020\n",
    "\n",
    "Мягкий дедлайн: 01:59MSK 02.11.2020 (за каждый день просрочки снимается 1 балл)\n",
    "\n",
    "Жесткий дедлайн: 01:59MSK 05.11.2020"
   ]
  },
  {
   "cell_type": "markdown",
   "id": "4386f5c1",
   "metadata": {
    "papermill": {
     "duration": 0.074731,
     "end_time": "2021-12-17T16:41:27.049778",
     "exception": false,
     "start_time": "2021-12-17T16:41:26.975047",
     "status": "completed"
    },
    "tags": []
   },
   "source": [
    "### О задании\n",
    "\n",
    "В этом задании вы:\n",
    "- ознакомитесь с тем, что происходит \"внутри\" метода опорных векторов и логистической регрессии\n",
    "- познакомитесь с калибровкой вероятности\n",
    "- изучите методы трансформации переменных и методы отбора признаков\n",
    "- попробуете оценить экономический эффект модели\n",
    "\n",
    "\n",
    "### Оценивание и штрафы\n",
    "Каждая из задач имеет определенную «стоимость» (указана в скобках около задачи). Максимально допустимая оценка за работу — 10 баллов.\n",
    "\n",
    "Сдавать задание после указанного срока сдачи нельзя. При выставлении неполного балла за задание в связи с наличием ошибок на усмотрение проверяющего предусмотрена возможность исправить работу на указанных в ответном письме условиях.\n",
    "\n",
    "Задание выполняется самостоятельно. «Похожие» решения считаются плагиатом и все задействованные студенты (в том числе те, у кого списали) не могут получить за него больше 0 баллов (подробнее о плагиате см. на странице курса). Если вы нашли решение какого-то из заданий (или его часть) в открытом источнике, необходимо указать ссылку на этот источник в отдельном блоке в конце вашей работы (скорее всего вы будете не единственным, кто это нашел, поэтому чтобы исключить подозрение в плагиате, необходима ссылка на источник).\n",
    "\n",
    "Неэффективная реализация кода может негативно отразиться на оценке.\n",
    "\n",
    "\n",
    "### Формат сдачи\n",
    "Для сдачи задания переименуйте получившийся файл *.ipynb в соответствии со следующим форматом: homework-practice-04-classification-Username.ipynb, где Username — ваша фамилия и имя на латинице именно в таком порядке (например, homework-practice-04-classification-IvanovIvan.ipynb).\n",
    "\n",
    "Для удобства проверки самостоятельно посчитайте свою максимальную оценку (исходя из набора решенных задач) и укажите ниже.\n",
    "\n",
    "**Оценка**: "
   ]
  },
  {
   "cell_type": "code",
   "execution_count": 1,
   "id": "00c55d29",
   "metadata": {
    "execution": {
     "iopub.execute_input": "2021-12-17T16:41:27.206242Z",
     "iopub.status.busy": "2021-12-17T16:41:27.205547Z",
     "iopub.status.idle": "2021-12-17T16:41:28.331164Z",
     "shell.execute_reply": "2021-12-17T16:41:28.330276Z",
     "shell.execute_reply.started": "2021-12-17T15:58:12.332011Z"
    },
    "papermill": {
     "duration": 1.208312,
     "end_time": "2021-12-17T16:41:28.331350",
     "exception": false,
     "start_time": "2021-12-17T16:41:27.123038",
     "status": "completed"
    },
    "tags": []
   },
   "outputs": [],
   "source": [
    "import numpy as np\n",
    "import pandas as pd\n",
    "import matplotlib.pyplot as plt\n",
    "%matplotlib inline\n",
    "\n",
    "pd.set_option('display.max_rows', 100)\n",
    "pd.set_option('display.max_columns', 100)\n",
    "\n",
    "from sklearn.datasets import make_classification\n",
    "from sklearn.model_selection import train_test_split\n",
    "\n",
    "from sklearn.model_selection import GridSearchCV\n",
    "from sklearn.svm import SVC\n",
    "from sklearn.svm import LinearSVC\n",
    "from sklearn.metrics import roc_auc_score, make_scorer\n",
    "from sklearn.metrics import precision_recall_curve, auc\n",
    "from sklearn.metrics import roc_curve\n",
    "from sklearn.linear_model import LogisticRegression\n",
    "from sklearn.calibration import CalibratedClassifierCV"
   ]
  },
  {
   "cell_type": "markdown",
   "id": "f201b1a9",
   "metadata": {
    "papermill": {
     "duration": 0.073494,
     "end_time": "2021-12-17T16:41:28.479574",
     "exception": false,
     "start_time": "2021-12-17T16:41:28.406080",
     "status": "completed"
    },
    "tags": []
   },
   "source": [
    "# Часть 0. SVM, LR и калибровка вероятностей. "
   ]
  },
  {
   "cell_type": "markdown",
   "id": "8c2584ed",
   "metadata": {
    "papermill": {
     "duration": 0.074251,
     "end_time": "2021-12-17T16:41:28.626883",
     "exception": false,
     "start_time": "2021-12-17T16:41:28.552632",
     "status": "completed"
    },
    "tags": []
   },
   "source": [
    "Сгенерируем синтетические данные."
   ]
  },
  {
   "cell_type": "code",
   "execution_count": 2,
   "id": "e1aefd1a",
   "metadata": {
    "execution": {
     "iopub.execute_input": "2021-12-17T16:41:28.776731Z",
     "iopub.status.busy": "2021-12-17T16:41:28.776050Z",
     "iopub.status.idle": "2021-12-17T16:41:28.793649Z",
     "shell.execute_reply": "2021-12-17T16:41:28.794282Z",
     "shell.execute_reply.started": "2021-12-17T15:58:17.398049Z"
    },
    "papermill": {
     "duration": 0.094247,
     "end_time": "2021-12-17T16:41:28.794469",
     "exception": false,
     "start_time": "2021-12-17T16:41:28.700222",
     "status": "completed"
    },
    "tags": []
   },
   "outputs": [],
   "source": [
    "X, y = make_classification(\n",
    "    n_samples=10000, n_features=10, n_informative=5, n_redundant=5,\n",
    "    random_state=42)\n",
    "\n",
    "X_train, X_test, y_train, y_test = train_test_split(\n",
    "    X, y, test_size=0.3, random_state=42)"
   ]
  },
  {
   "cell_type": "markdown",
   "id": "665032c7",
   "metadata": {
    "papermill": {
     "duration": 0.072684,
     "end_time": "2021-12-17T16:41:28.942608",
     "exception": false,
     "start_time": "2021-12-17T16:41:28.869924",
     "status": "completed"
    },
    "tags": []
   },
   "source": [
    "__Задание 1.__ Обучение и применение метода опорных векторов и логистической регрессии.\n",
    "\n",
    "__(1 балл)__\n",
    "\n",
    "Обучите метод опорных векторов. На занятиях мы проходили линейный вариант без ядрового перехода, что соответствует линейному ядру (`LinearSVC` или же `SVC(kernel='linear')` в `sklearn.svm`). Подберите параметр регуляризации `C` (можете воспользоваться кросс-валидацией или отделить валидационную выборку от обучающей). "
   ]
  },
  {
   "cell_type": "markdown",
   "id": "8032c3df",
   "metadata": {
    "papermill": {
     "duration": 0.072994,
     "end_time": "2021-12-17T16:41:29.089528",
     "exception": false,
     "start_time": "2021-12-17T16:41:29.016534",
     "status": "completed"
    },
    "tags": []
   },
   "source": [
    "Обучение метода опорных векторов"
   ]
  },
  {
   "cell_type": "code",
   "execution_count": 3,
   "id": "631f72f0",
   "metadata": {
    "execution": {
     "iopub.execute_input": "2021-12-17T16:41:29.239088Z",
     "iopub.status.busy": "2021-12-17T16:41:29.238460Z",
     "iopub.status.idle": "2021-12-17T16:45:26.131425Z",
     "shell.execute_reply": "2021-12-17T16:45:26.131962Z",
     "shell.execute_reply.started": "2021-12-17T15:58:20.308185Z"
    },
    "papermill": {
     "duration": 236.969478,
     "end_time": "2021-12-17T16:45:26.132157",
     "exception": false,
     "start_time": "2021-12-17T16:41:29.162679",
     "status": "completed"
    },
    "tags": []
   },
   "outputs": [
    {
     "data": {
      "text/plain": [
       "GridSearchCV(cv=5, estimator=SVC(kernel='linear'),\n",
       "             param_grid=[{'C': array([0.1       , 0.37857143, 0.65714286, 0.93571429, 1.21428571,\n",
       "       1.49285714, 1.77142857, 2.05      , 2.32857143, 2.60714286,\n",
       "       2.88571429, 3.16428571, 3.44285714, 3.72142857, 4.        ])}],\n",
       "             scoring=make_scorer(roc_auc_score))"
      ]
     },
     "execution_count": 3,
     "metadata": {},
     "output_type": "execute_result"
    }
   ],
   "source": [
    "c_linspace = np.linspace(0.1, 4, 15)\n",
    "searcher = GridSearchCV(SVC(kernel = 'linear'), [{'C': c_linspace}], scoring = make_scorer(roc_auc_score), cv = 5)\n",
    "searcher.fit(X_train, y_train)"
   ]
  },
  {
   "cell_type": "markdown",
   "id": "f917b516",
   "metadata": {
    "papermill": {
     "duration": 0.073337,
     "end_time": "2021-12-17T16:45:26.279603",
     "exception": false,
     "start_time": "2021-12-17T16:45:26.206266",
     "status": "completed"
    },
    "tags": []
   },
   "source": [
    "Подборка параметра регуляризации"
   ]
  },
  {
   "cell_type": "code",
   "execution_count": 4,
   "id": "35793c7f",
   "metadata": {
    "execution": {
     "iopub.execute_input": "2021-12-17T16:45:26.435014Z",
     "iopub.status.busy": "2021-12-17T16:45:26.434091Z",
     "iopub.status.idle": "2021-12-17T16:45:26.436818Z",
     "shell.execute_reply": "2021-12-17T16:45:26.436315Z",
     "shell.execute_reply.started": "2021-12-17T16:02:31.877332Z"
    },
    "papermill": {
     "duration": 0.081988,
     "end_time": "2021-12-17T16:45:26.436984",
     "exception": false,
     "start_time": "2021-12-17T16:45:26.354996",
     "status": "completed"
    },
    "tags": []
   },
   "outputs": [],
   "source": [
    "best_c = searcher.best_params_['C']"
   ]
  },
  {
   "cell_type": "markdown",
   "id": "9497d363",
   "metadata": {
    "papermill": {
     "duration": 0.074578,
     "end_time": "2021-12-17T16:45:26.586057",
     "exception": false,
     "start_time": "2021-12-17T16:45:26.511479",
     "status": "completed"
    },
    "tags": []
   },
   "source": [
    "Обучение метода опорных векторов с подобранным гиперпараметром"
   ]
  },
  {
   "cell_type": "code",
   "execution_count": 5,
   "id": "1e14c544",
   "metadata": {
    "execution": {
     "iopub.execute_input": "2021-12-17T16:45:26.738099Z",
     "iopub.status.busy": "2021-12-17T16:45:26.737468Z",
     "iopub.status.idle": "2021-12-17T16:45:43.831190Z",
     "shell.execute_reply": "2021-12-17T16:45:43.831649Z",
     "shell.execute_reply.started": "2021-12-17T16:02:34.524472Z"
    },
    "papermill": {
     "duration": 17.171279,
     "end_time": "2021-12-17T16:45:43.831842",
     "exception": false,
     "start_time": "2021-12-17T16:45:26.660563",
     "status": "completed"
    },
    "tags": []
   },
   "outputs": [
    {
     "data": {
      "text/plain": [
       "SVC(C=1.4928571428571429, kernel='linear', probability=True)"
      ]
     },
     "execution_count": 5,
     "metadata": {},
     "output_type": "execute_result"
    }
   ],
   "source": [
    "svm = SVC(kernel = 'linear', C = best_c, probability = True)\n",
    "svm.fit(X_train, y_train)"
   ]
  },
  {
   "cell_type": "code",
   "execution_count": 6,
   "id": "9882a422",
   "metadata": {
    "execution": {
     "iopub.execute_input": "2021-12-17T16:45:43.987017Z",
     "iopub.status.busy": "2021-12-17T16:45:43.986039Z",
     "iopub.status.idle": "2021-12-17T16:45:44.119089Z",
     "shell.execute_reply": "2021-12-17T16:45:44.118399Z",
     "shell.execute_reply.started": "2021-12-17T16:02:56.014848Z"
    },
    "papermill": {
     "duration": 0.212734,
     "end_time": "2021-12-17T16:45:44.119246",
     "exception": false,
     "start_time": "2021-12-17T16:45:43.906512",
     "status": "completed"
    },
    "tags": []
   },
   "outputs": [
    {
     "name": "stdout",
     "output_type": "stream",
     "text": [
      "[ 0.75777743 -3.65929867 -1.14446017 ... -2.14802118  1.59939048\n",
      "  2.1412368 ]\n"
     ]
    }
   ],
   "source": [
    "y_pred = svm.decision_function(X_test)\n",
    "print(y_pred)"
   ]
  },
  {
   "cell_type": "markdown",
   "id": "1aa95b15",
   "metadata": {
    "papermill": {
     "duration": 0.073855,
     "end_time": "2021-12-17T16:45:44.267770",
     "exception": false,
     "start_time": "2021-12-17T16:45:44.193915",
     "status": "completed"
    },
    "tags": []
   },
   "source": [
    "На тестовой части посчитайте AUC-ROC, AUC-PR с точностью до 5 знаков. Постройте ROC и PR кривые, сравните их с ответами случайного классификатора. Заметим, что с помощью `sklearn` можно посчитать обе метрики двумя разными способами - в чем их различия? Сравните результаты. "
   ]
  },
  {
   "cell_type": "markdown",
   "id": "80246bf1",
   "metadata": {
    "papermill": {
     "duration": 0.07766,
     "end_time": "2021-12-17T16:45:44.420696",
     "exception": false,
     "start_time": "2021-12-17T16:45:44.343036",
     "status": "completed"
    },
    "tags": []
   },
   "source": [
    "ROC-кривая - это кривая ошибок. В качестве меры качества берется площадь криволинейной трапеции - AUC. AUC-PR более точная мера качества"
   ]
  },
  {
   "cell_type": "markdown",
   "id": "dc921de3",
   "metadata": {
    "papermill": {
     "duration": 0.075507,
     "end_time": "2021-12-17T16:45:44.571103",
     "exception": false,
     "start_time": "2021-12-17T16:45:44.495596",
     "status": "completed"
    },
    "tags": []
   },
   "source": [
    "AUC-ROC"
   ]
  },
  {
   "cell_type": "code",
   "execution_count": 7,
   "id": "d831bd28",
   "metadata": {
    "execution": {
     "iopub.execute_input": "2021-12-17T16:45:44.742536Z",
     "iopub.status.busy": "2021-12-17T16:45:44.741550Z",
     "iopub.status.idle": "2021-12-17T16:45:44.750046Z",
     "shell.execute_reply": "2021-12-17T16:45:44.750647Z",
     "shell.execute_reply.started": "2021-12-17T16:02:59.277794Z"
    },
    "papermill": {
     "duration": 0.096286,
     "end_time": "2021-12-17T16:45:44.750824",
     "exception": false,
     "start_time": "2021-12-17T16:45:44.654538",
     "status": "completed"
    },
    "tags": []
   },
   "outputs": [
    {
     "name": "stdout",
     "output_type": "stream",
     "text": [
      "0.8479009081610928\n"
     ]
    }
   ],
   "source": [
    "pr_test, rec_test, thr_test = precision_recall_curve(y_test, y_pred)\n",
    "print(roc_auc_score(y_test, y_pred))"
   ]
  },
  {
   "cell_type": "markdown",
   "id": "5ee4bbfe",
   "metadata": {
    "papermill": {
     "duration": 0.103114,
     "end_time": "2021-12-17T16:45:44.929946",
     "exception": false,
     "start_time": "2021-12-17T16:45:44.826832",
     "status": "completed"
    },
    "tags": []
   },
   "source": [
    "AUC-PR"
   ]
  },
  {
   "cell_type": "code",
   "execution_count": 8,
   "id": "831ccec6",
   "metadata": {
    "execution": {
     "iopub.execute_input": "2021-12-17T16:45:45.094952Z",
     "iopub.status.busy": "2021-12-17T16:45:45.093815Z",
     "iopub.status.idle": "2021-12-17T16:45:45.099211Z",
     "shell.execute_reply": "2021-12-17T16:45:45.099786Z",
     "shell.execute_reply.started": "2021-12-17T16:03:01.362296Z"
    },
    "papermill": {
     "duration": 0.089206,
     "end_time": "2021-12-17T16:45:45.100019",
     "exception": false,
     "start_time": "2021-12-17T16:45:45.010813",
     "status": "completed"
    },
    "tags": []
   },
   "outputs": [
    {
     "name": "stdout",
     "output_type": "stream",
     "text": [
      "0.8149021468453433\n"
     ]
    }
   ],
   "source": [
    "print(auc(rec_test, pr_test))"
   ]
  },
  {
   "cell_type": "markdown",
   "id": "2982b633",
   "metadata": {
    "papermill": {
     "duration": 0.0806,
     "end_time": "2021-12-17T16:45:45.260339",
     "exception": false,
     "start_time": "2021-12-17T16:45:45.179739",
     "status": "completed"
    },
    "tags": []
   },
   "source": [
    "Случайный классификатор"
   ]
  },
  {
   "cell_type": "code",
   "execution_count": 9,
   "id": "7dae2773",
   "metadata": {
    "execution": {
     "iopub.execute_input": "2021-12-17T16:45:45.427823Z",
     "iopub.status.busy": "2021-12-17T16:45:45.426664Z",
     "iopub.status.idle": "2021-12-17T16:45:45.436079Z",
     "shell.execute_reply": "2021-12-17T16:45:45.436701Z",
     "shell.execute_reply.started": "2021-12-17T16:03:02.848584Z"
    },
    "papermill": {
     "duration": 0.094465,
     "end_time": "2021-12-17T16:45:45.436908",
     "exception": false,
     "start_time": "2021-12-17T16:45:45.342443",
     "status": "completed"
    },
    "tags": []
   },
   "outputs": [
    {
     "name": "stdout",
     "output_type": "stream",
     "text": [
      "0.5027494642645212\n",
      "0.5116311612332264\n"
     ]
    }
   ],
   "source": [
    "y_random = np.random.random(size = len(y_pred))\n",
    "pr_random, rec_random, thr_random = precision_recall_curve(y_test, y_random)\n",
    "print(roc_auc_score(y_test, y_random))\n",
    "print(auc(rec_random, pr_random))"
   ]
  },
  {
   "cell_type": "code",
   "execution_count": 10,
   "id": "77054a8d",
   "metadata": {
    "execution": {
     "iopub.execute_input": "2021-12-17T16:45:45.601514Z",
     "iopub.status.busy": "2021-12-17T16:45:45.600813Z",
     "iopub.status.idle": "2021-12-17T16:45:45.954776Z",
     "shell.execute_reply": "2021-12-17T16:45:45.954232Z",
     "shell.execute_reply.started": "2021-12-17T16:03:06.664419Z"
    },
    "papermill": {
     "duration": 0.438343,
     "end_time": "2021-12-17T16:45:45.954929",
     "exception": false,
     "start_time": "2021-12-17T16:45:45.516586",
     "status": "completed"
    },
    "tags": []
   },
   "outputs": [
    {
     "data": {
      "image/png": "[encoded data removed]",
      "text/plain": [
       "<Figure size 1080x864 with 2 Axes>"
      ]
     },
     "metadata": {
      "needs_background": "light"
     },
     "output_type": "display_data"
    }
   ],
   "source": [
    "fpr_pred, tpr_pred = roc_curve(y_test, y_pred)[:2]\n",
    "fpr_random, tpr_random = roc_curve(y_test, y_random)[:2]\n",
    "fig, ax = plt.subplots(2, 1, figsize = (15,12))\n",
    "ax[0].plot(fpr_pred, tpr_pred, label = '')\n",
    "ax[1].plot(rec_test, pr_test, label = '')\n",
    "ax[0].plot(fpr_random, tpr_random, label = '')\n",
    "ax[1].plot(rec_random, pr_random, label = '')\n",
    "ax[0].set_title('AUC-ROC')\n",
    "ax[1].set_title('AUC-PR')\n",
    "plt.show()"
   ]
  },
  {
   "cell_type": "markdown",
   "id": "dd2a914b",
   "metadata": {
    "papermill": {
     "duration": 0.078067,
     "end_time": "2021-12-17T16:45:46.111624",
     "exception": false,
     "start_time": "2021-12-17T16:45:46.033557",
     "status": "completed"
    },
    "tags": []
   },
   "source": [
    "А теперь проделайте все то же самое для логистической регрессии (LR) — обучение, подбор параметра регуляризации (используйте L2-регуляризацию), вычисление всех метрик и построение кривых. Сравните результаты LR и SVM с точки зрения всех вычисленных критериев качества, объясните различия (если они есть)."
   ]
  },
  {
   "cell_type": "markdown",
   "id": "b7004c4f",
   "metadata": {
    "papermill": {
     "duration": 0.076735,
     "end_time": "2021-12-17T16:45:46.265986",
     "exception": false,
     "start_time": "2021-12-17T16:45:46.189251",
     "status": "completed"
    },
    "tags": []
   },
   "source": [
    "Обучение логистической регрессии"
   ]
  },
  {
   "cell_type": "code",
   "execution_count": 11,
   "id": "b92638dd",
   "metadata": {
    "execution": {
     "iopub.execute_input": "2021-12-17T16:45:46.423400Z",
     "iopub.status.busy": "2021-12-17T16:45:46.422747Z",
     "iopub.status.idle": "2021-12-17T16:45:48.073689Z",
     "shell.execute_reply": "2021-12-17T16:45:48.074717Z",
     "shell.execute_reply.started": "2021-12-17T16:03:21.847552Z"
    },
    "papermill": {
     "duration": 1.731551,
     "end_time": "2021-12-17T16:45:48.075016",
     "exception": false,
     "start_time": "2021-12-17T16:45:46.343465",
     "status": "completed"
    },
    "tags": []
   },
   "outputs": [
    {
     "data": {
      "text/plain": [
       "GridSearchCV(cv=5, estimator=LogisticRegression(),\n",
       "             param_grid=[{'C': array([0.25      , 0.58928571, 0.92857143, 1.26785714, 1.60714286,\n",
       "       1.94642857, 2.28571429, 2.625     , 2.96428571, 3.30357143,\n",
       "       3.64285714, 3.98214286, 4.32142857, 4.66071429, 5.        ])}],\n",
       "             scoring=make_scorer(roc_auc_score))"
      ]
     },
     "execution_count": 11,
     "metadata": {},
     "output_type": "execute_result"
    }
   ],
   "source": [
    "c_linspace = np.linspace(0.25, 5, 15)\n",
    "searcher = GridSearchCV(LogisticRegression(solver='lbfgs'), [{'C': c_linspace}], scoring=make_scorer(roc_auc_score), cv=5)\n",
    "searcher.fit(X_train, y_train)"
   ]
  },
  {
   "cell_type": "code",
   "execution_count": 12,
   "id": "c02facc4",
   "metadata": {
    "execution": {
     "iopub.execute_input": "2021-12-17T16:45:48.281507Z",
     "iopub.status.busy": "2021-12-17T16:45:48.280769Z",
     "iopub.status.idle": "2021-12-17T16:45:48.283256Z",
     "shell.execute_reply": "2021-12-17T16:45:48.282652Z",
     "shell.execute_reply.started": "2021-12-17T16:03:25.746055Z"
    },
    "papermill": {
     "duration": 0.083569,
     "end_time": "2021-12-17T16:45:48.283390",
     "exception": false,
     "start_time": "2021-12-17T16:45:48.199821",
     "status": "completed"
    },
    "tags": []
   },
   "outputs": [],
   "source": [
    "best_c_logreg = searcher.best_params_['C']"
   ]
  },
  {
   "cell_type": "code",
   "execution_count": 13,
   "id": "bdf07784",
   "metadata": {
    "execution": {
     "iopub.execute_input": "2021-12-17T16:45:48.443041Z",
     "iopub.status.busy": "2021-12-17T16:45:48.442215Z",
     "iopub.status.idle": "2021-12-17T16:45:48.465972Z",
     "shell.execute_reply": "2021-12-17T16:45:48.466868Z",
     "shell.execute_reply.started": "2021-12-17T16:03:27.823716Z"
    },
    "papermill": {
     "duration": 0.106646,
     "end_time": "2021-12-17T16:45:48.467141",
     "exception": false,
     "start_time": "2021-12-17T16:45:48.360495",
     "status": "completed"
    },
    "tags": []
   },
   "outputs": [],
   "source": [
    "logit = LogisticRegression(C=best_c_logreg, solver='lbfgs')\n",
    "logit.fit(X_train, y_train)\n",
    "logit_probas = logit.predict_proba(X_test)"
   ]
  },
  {
   "cell_type": "code",
   "execution_count": 14,
   "id": "e9c1bb95",
   "metadata": {
    "execution": {
     "iopub.execute_input": "2021-12-17T16:45:48.680995Z",
     "iopub.status.busy": "2021-12-17T16:45:48.680348Z",
     "iopub.status.idle": "2021-12-17T16:45:48.686718Z",
     "shell.execute_reply": "2021-12-17T16:45:48.687564Z",
     "shell.execute_reply.started": "2021-12-17T16:03:32.743292Z"
    },
    "papermill": {
     "duration": 0.090109,
     "end_time": "2021-12-17T16:45:48.687793",
     "exception": false,
     "start_time": "2021-12-17T16:45:48.597684",
     "status": "completed"
    },
    "tags": []
   },
   "outputs": [
    {
     "name": "stdout",
     "output_type": "stream",
     "text": [
      "0.8478715710595716\n",
      "0.8291440467036588\n"
     ]
    }
   ],
   "source": [
    "pr_test, rec_test, thr_test = precision_recall_curve(y_test, logit_probas[:, 1])\n",
    "print(roc_auc_score(y_test, logit_probas[:, 1]))\n",
    "print(auc(rec_test, pr_test))"
   ]
  },
  {
   "cell_type": "code",
   "execution_count": 15,
   "id": "a69b6a01",
   "metadata": {
    "execution": {
     "iopub.execute_input": "2021-12-17T16:45:48.853367Z",
     "iopub.status.busy": "2021-12-17T16:45:48.852499Z",
     "iopub.status.idle": "2021-12-17T16:45:49.121325Z",
     "shell.execute_reply": "2021-12-17T16:45:49.120773Z",
     "shell.execute_reply.started": "2021-12-17T16:03:34.928107Z"
    },
    "papermill": {
     "duration": 0.353686,
     "end_time": "2021-12-17T16:45:49.121468",
     "exception": false,
     "start_time": "2021-12-17T16:45:48.767782",
     "status": "completed"
    },
    "tags": []
   },
   "outputs": [
    {
     "data": {
      "image/png": "[encoded data removed]",
      "text/plain": [
       "<Figure size 1080x864 with 2 Axes>"
      ]
     },
     "metadata": {
      "needs_background": "light"
     },
     "output_type": "display_data"
    }
   ],
   "source": [
    "fpr_pred, tpr_pred = roc_curve(y_test, logit_probas[:, 1])[:2]\n",
    "fig, ax = plt.subplots(2, 1, figsize = (15,12))\n",
    "ax[0].plot(fpr_pred, tpr_pred, label = '')\n",
    "ax[1].plot(rec_test, pr_test, label = '')\n",
    "ax[0].set_title('AUC-ROC')\n",
    "ax[1].set_title('AUC-PR')\n",
    "plt.show()"
   ]
  },
  {
   "cell_type": "markdown",
   "id": "269ed1a9",
   "metadata": {
    "papermill": {
     "duration": 0.081132,
     "end_time": "2021-12-17T16:45:49.282360",
     "exception": false,
     "start_time": "2021-12-17T16:45:49.201228",
     "status": "completed"
    },
    "tags": []
   },
   "source": [
    "В названии метода опорных векторов присутствуют некоторые \"опорные векторы\". Сгенерируйте синтетический датасет с помощью `make_classification` с 2 признаками, обучите на нём метод опорных векторов. Визуализируйте разделяющую прямую, все объекты и выделите опорные вектора (атрибут `support_vectors_`). В этот раз, если необходимо, вместо `LinearSVC` воспользуйтесь `SVC(kernel='linear')`, так как только в нём есть информация об опорных векторах."
   ]
  },
  {
   "cell_type": "markdown",
   "id": "1c2c611f",
   "metadata": {
    "papermill": {
     "duration": 0.081032,
     "end_time": "2021-12-17T16:45:49.442679",
     "exception": false,
     "start_time": "2021-12-17T16:45:49.361647",
     "status": "completed"
    },
    "tags": []
   },
   "source": [
    "Генерация синтетических данных, разбитие выборок и обучение модели"
   ]
  },
  {
   "cell_type": "code",
   "execution_count": 16,
   "id": "ca9fa746",
   "metadata": {
    "execution": {
     "iopub.execute_input": "2021-12-17T16:45:49.609140Z",
     "iopub.status.busy": "2021-12-17T16:45:49.608433Z",
     "iopub.status.idle": "2021-12-17T16:46:18.996722Z",
     "shell.execute_reply": "2021-12-17T16:46:18.996174Z",
     "shell.execute_reply.started": "2021-12-17T16:03:38.049165Z"
    },
    "papermill": {
     "duration": 29.474431,
     "end_time": "2021-12-17T16:46:18.996898",
     "exception": false,
     "start_time": "2021-12-17T16:45:49.522467",
     "status": "completed"
    },
    "tags": []
   },
   "outputs": [
    {
     "data": {
      "text/plain": [
       "GridSearchCV(cv=5, estimator=SVC(kernel='linear'),\n",
       "             param_grid=[{'C': array([0.25      , 0.58928571, 0.92857143, 1.26785714, 1.60714286,\n",
       "       1.94642857, 2.28571429, 2.625     , 2.96428571, 3.30357143,\n",
       "       3.64285714, 3.98214286, 4.32142857, 4.66071429, 5.        ])}],\n",
       "             scoring=make_scorer(roc_auc_score))"
      ]
     },
     "execution_count": 16,
     "metadata": {},
     "output_type": "execute_result"
    }
   ],
   "source": [
    "X, y = make_classification(n_samples=10000, n_features=2, n_informative=2, n_redundant=0, random_state=42)\n",
    "X_train, X_test, y_train, y_test = train_test_split(X, y, test_size=0.3, random_state=42)\n",
    "c_linspace = np.linspace(0.25, 5, 15)\n",
    "searcher = GridSearchCV(SVC(kernel='linear'), [{'C': c_linspace}], scoring=make_scorer(roc_auc_score), cv=5)\n",
    "searcher.fit(X_train, y_train)"
   ]
  },
  {
   "cell_type": "markdown",
   "id": "39e16f27",
   "metadata": {
    "papermill": {
     "duration": 0.07992,
     "end_time": "2021-12-17T16:46:19.158727",
     "exception": false,
     "start_time": "2021-12-17T16:46:19.078807",
     "status": "completed"
    },
    "tags": []
   },
   "source": [
    "Подбор гиперпараметра, обучение с подобранным гиперпараметром"
   ]
  },
  {
   "cell_type": "code",
   "execution_count": 17,
   "id": "84c66a43",
   "metadata": {
    "execution": {
     "iopub.execute_input": "2021-12-17T16:46:19.325064Z",
     "iopub.status.busy": "2021-12-17T16:46:19.324387Z",
     "iopub.status.idle": "2021-12-17T16:46:20.150680Z",
     "shell.execute_reply": "2021-12-17T16:46:20.150122Z",
     "shell.execute_reply.started": "2021-12-17T16:04:09.953488Z"
    },
    "papermill": {
     "duration": 0.911502,
     "end_time": "2021-12-17T16:46:20.150842",
     "exception": false,
     "start_time": "2021-12-17T16:46:19.239340",
     "status": "completed"
    },
    "tags": []
   },
   "outputs": [],
   "source": [
    "best_c_svm = searcher.best_params_['C']\n",
    "svm = SVC(C=best_c_svm, kernel='linear')\n",
    "svm.fit(X_train, y_train)\n",
    "vectors = svm.support_vectors_"
   ]
  },
  {
   "cell_type": "markdown",
   "id": "7cde1cd0",
   "metadata": {
    "papermill": {
     "duration": 0.079478,
     "end_time": "2021-12-17T16:46:20.311266",
     "exception": false,
     "start_time": "2021-12-17T16:46:20.231788",
     "status": "completed"
    },
    "tags": []
   },
   "source": [
    "Визуализация разделяющей прямой"
   ]
  },
  {
   "cell_type": "code",
   "execution_count": 18,
   "id": "fde3be03",
   "metadata": {
    "execution": {
     "iopub.execute_input": "2021-12-17T16:46:20.498483Z",
     "iopub.status.busy": "2021-12-17T16:46:20.497738Z",
     "iopub.status.idle": "2021-12-17T16:46:20.826262Z",
     "shell.execute_reply": "2021-12-17T16:46:20.826764Z",
     "shell.execute_reply.started": "2021-12-17T16:04:16.430520Z"
    },
    "papermill": {
     "duration": 0.436279,
     "end_time": "2021-12-17T16:46:20.826953",
     "exception": false,
     "start_time": "2021-12-17T16:46:20.390674",
     "status": "completed"
    },
    "tags": []
   },
   "outputs": [
    {
     "data": {
      "image/png": "[encoded data removed]",
      "text/plain": [
       "<Figure size 1440x720 with 1 Axes>"
      ]
     },
     "metadata": {
      "needs_background": "light"
     },
     "output_type": "display_data"
    }
   ],
   "source": [
    "w = svm.coef_[0] \n",
    "a = -w[0] / w[1]\n",
    "xx = np.linspace(-5, 5)\n",
    "yy = a * xx - (svm.intercept_[0]) / w[1]\n",
    "fig, ax = plt.subplots(figsize = (20, 10))\n",
    "ax.scatter(X[y > 0][:, 0], X[y > 0][:, 1], color = 'green', label = 'Positive')\n",
    "ax.scatter(X[y == 0][:, 0], X[y == 0][:, 1], color = 'blue', label = 'Negative')\n",
    "ax.plot(xx, yy, color = 'red', linewidth = 5, label = 'Separating line')\n",
    "ax.legend()\n",
    "ax.grid()\n",
    "plt.show()"
   ]
  },
  {
   "cell_type": "markdown",
   "id": "81e8f5cc",
   "metadata": {
    "papermill": {
     "duration": 0.083699,
     "end_time": "2021-12-17T16:46:20.996274",
     "exception": false,
     "start_time": "2021-12-17T16:46:20.912575",
     "status": "completed"
    },
    "tags": []
   },
   "source": [
    "__Задание 2.__ Калибровка вероятностей.\n",
    "\n",
    "__(1 балл)__\n",
    "\n",
    "Перейдём к оценке качества выдаваемых алгоритмами вероятностей. Начнём с калибровочных кривых. \n",
    "\n",
    "Допустим, алгоритм возвращает некоторые числа от нуля до единицы. Хорошо ли они оценивают вероятность? Для этого разобьем отрезок $[0, 1]$ на несколько маленьких отрезков одинаковой длины. Рассмотрим $i$-й отрезок с границами $[a_i, b_i]$ и предсказания $p_1, p_2, \\dots, p_k$, которые попали в него. Пусть им соответствуют истинные ответы $y_1, y_2, \\dots, y_k$. Если алгоритм выдает корректные вероятности, то среди этих истинных ответов должно быть примерно $(a_i + b_i) / 2$ единиц. Иными словами, если нарисовать кривую, у которой по оси X отложены центры отрезков, а по оси Y — доли единичных ответов этих в отрезках, то она должна оказаться диагональной. Ниже приведена функция, которая должна рисовать такие кривые. В ней допущено две ошибки — найдите и исправьте их."
   ]
  },
  {
   "cell_type": "code",
   "execution_count": 19,
   "id": "d85ac7d7",
   "metadata": {
    "execution": {
     "iopub.execute_input": "2021-12-17T16:46:21.167516Z",
     "iopub.status.busy": "2021-12-17T16:46:21.166718Z",
     "iopub.status.idle": "2021-12-17T16:46:21.173382Z",
     "shell.execute_reply": "2021-12-17T16:46:21.173897Z",
     "shell.execute_reply.started": "2021-12-17T16:04:20.092093Z"
    },
    "papermill": {
     "duration": 0.093447,
     "end_time": "2021-12-17T16:46:21.174067",
     "exception": false,
     "start_time": "2021-12-17T16:46:21.080620",
     "status": "completed"
    },
    "tags": []
   },
   "outputs": [],
   "source": [
    "def plot_calibration_curve(y_test, preds):\n",
    "    bin_middle_points = []\n",
    "    bin_real_ratios = []\n",
    "    n_bins = 10\n",
    "    for i in range(n_bins):\n",
    "        l = 1.0 / n_bins * i\n",
    "        r = 1.0 / n_bins * (i + 1)\n",
    "        bin_middle_points.append(l + (r - l) / 2) \n",
    "        bin_real_ratios.append(np.sum(y_test[((preds >= l) & (preds < r))]) / len(y_test[(preds >= l) & (preds < r)])) \n",
    "    plt.figure(figsize=(6,6))\n",
    "    plt.plot(bin_middle_points, bin_real_ratios)\n",
    "    plt.ylim([-0.05, 1.05])\n",
    "    plt.grid()"
   ]
  },
  {
   "cell_type": "markdown",
   "id": "7c19e1da",
   "metadata": {
    "papermill": {
     "duration": 0.083754,
     "end_time": "2021-12-17T16:46:21.342357",
     "exception": false,
     "start_time": "2021-12-17T16:46:21.258603",
     "status": "completed"
    },
    "tags": []
   },
   "source": [
    "Сгенерируйте синтетический датасет аналогично использованному в самом первом задании. Постройте калибровочные кривые на тестовой части для логистической регрессии и метода опорных векторов (не забудьте перевести его предсказания в $[0;1]$). Изучите распределение ответов классификаторов (постройте гистограммы с помощью `plt.hist`). Чем они различаются? Чем вы можете объяснить это?"
   ]
  },
  {
   "cell_type": "code",
   "execution_count": 20,
   "id": "3d657ece",
   "metadata": {
    "execution": {
     "iopub.execute_input": "2021-12-17T16:46:21.512504Z",
     "iopub.status.busy": "2021-12-17T16:46:21.511838Z",
     "iopub.status.idle": "2021-12-17T16:46:21.524205Z",
     "shell.execute_reply": "2021-12-17T16:46:21.523613Z",
     "shell.execute_reply.started": "2021-12-17T16:04:22.804217Z"
    },
    "papermill": {
     "duration": 0.099104,
     "end_time": "2021-12-17T16:46:21.524361",
     "exception": false,
     "start_time": "2021-12-17T16:46:21.425257",
     "status": "completed"
    },
    "tags": []
   },
   "outputs": [],
   "source": [
    "X, y = make_classification(n_samples = 10000, n_features = 10, n_informative = 5, n_redundant = 5, random_state = 42)\n",
    "X_train, X_test, y_train, y_test = train_test_split(X, y, test_size = 0.3, random_state = 42)"
   ]
  },
  {
   "cell_type": "markdown",
   "id": "bfb5e74b",
   "metadata": {
    "papermill": {
     "duration": 0.082654,
     "end_time": "2021-12-17T16:46:21.690602",
     "exception": false,
     "start_time": "2021-12-17T16:46:21.607948",
     "status": "completed"
    },
    "tags": []
   },
   "source": [
    "Метод опорных векторов"
   ]
  },
  {
   "cell_type": "code",
   "execution_count": 21,
   "id": "643b47e5",
   "metadata": {
    "execution": {
     "iopub.execute_input": "2021-12-17T16:46:21.863462Z",
     "iopub.status.busy": "2021-12-17T16:46:21.862788Z",
     "iopub.status.idle": "2021-12-17T16:46:22.274002Z",
     "shell.execute_reply": "2021-12-17T16:46:22.274828Z",
     "shell.execute_reply.started": "2021-12-17T16:04:25.340600Z"
    },
    "papermill": {
     "duration": 0.500677,
     "end_time": "2021-12-17T16:46:22.275124",
     "exception": false,
     "start_time": "2021-12-17T16:46:21.774447",
     "status": "completed"
    },
    "tags": []
   },
   "outputs": [
    {
     "name": "stderr",
     "output_type": "stream",
     "text": [
      "/opt/conda/lib/python3.7/site-packages/sklearn/svm/_base.py:977: ConvergenceWarning: Liblinear failed to converge, increase the number of iterations.\n",
      "  \"the number of iterations.\", ConvergenceWarning)\n"
     ]
    },
    {
     "data": {
      "text/plain": [
       "array([0.57916014, 0.16666113, 0.36399424, ..., 0.26729269, 0.66287677,\n",
       "       0.72034667])"
      ]
     },
     "execution_count": 21,
     "metadata": {},
     "output_type": "execute_result"
    }
   ],
   "source": [
    "svm = LinearSVC()\n",
    "svm.fit(X_train, y_train)\n",
    "svm_pred = svm.decision_function(X_test)\n",
    "svm_pred = 1 / (1 + np.exp(-1 * svm_pred))\n",
    "svm_pred"
   ]
  },
  {
   "cell_type": "code",
   "execution_count": 22,
   "id": "4e951ab0",
   "metadata": {
    "execution": {
     "iopub.execute_input": "2021-12-17T16:46:22.501555Z",
     "iopub.status.busy": "2021-12-17T16:46:22.500860Z",
     "iopub.status.idle": "2021-12-17T16:46:22.689312Z",
     "shell.execute_reply": "2021-12-17T16:46:22.688761Z",
     "shell.execute_reply.started": "2021-12-17T16:04:27.912924Z"
    },
    "papermill": {
     "duration": 0.278771,
     "end_time": "2021-12-17T16:46:22.689450",
     "exception": false,
     "start_time": "2021-12-17T16:46:22.410679",
     "status": "completed"
    },
    "tags": []
   },
   "outputs": [
    {
     "name": "stderr",
     "output_type": "stream",
     "text": [
      "/opt/conda/lib/python3.7/site-packages/ipykernel_launcher.py:9: RuntimeWarning: invalid value encountered in long_scalars\n",
      "  if __name__ == '__main__':\n"
     ]
    },
    {
     "data": {
      "image/png": "[encoded data removed]",
      "text/plain": [
       "<Figure size 432x432 with 1 Axes>"
      ]
     },
     "metadata": {
      "needs_background": "light"
     },
     "output_type": "display_data"
    }
   ],
   "source": [
    "plot_calibration_curve(y_test, svm_pred)\n",
    "plt.show()"
   ]
  },
  {
   "cell_type": "markdown",
   "id": "f0501497",
   "metadata": {
    "papermill": {
     "duration": 0.086222,
     "end_time": "2021-12-17T16:46:22.860789",
     "exception": false,
     "start_time": "2021-12-17T16:46:22.774567",
     "status": "completed"
    },
    "tags": []
   },
   "source": [
    "Логистическая регрессия"
   ]
  },
  {
   "cell_type": "code",
   "execution_count": 23,
   "id": "2761f7a1",
   "metadata": {
    "execution": {
     "iopub.execute_input": "2021-12-17T16:46:23.041549Z",
     "iopub.status.busy": "2021-12-17T16:46:23.040510Z",
     "iopub.status.idle": "2021-12-17T16:46:23.068281Z",
     "shell.execute_reply": "2021-12-17T16:46:23.068947Z",
     "shell.execute_reply.started": "2021-12-17T16:04:30.190789Z"
    },
    "papermill": {
     "duration": 0.121556,
     "end_time": "2021-12-17T16:46:23.069250",
     "exception": false,
     "start_time": "2021-12-17T16:46:22.947694",
     "status": "completed"
    },
    "tags": []
   },
   "outputs": [
    {
     "data": {
      "text/plain": [
       "array([[0.29121259, 0.70878741],\n",
       "       [0.98758794, 0.01241206],\n",
       "       [0.82093626, 0.17906374],\n",
       "       ...,\n",
       "       [0.94018647, 0.05981353],\n",
       "       [0.13508322, 0.86491678],\n",
       "       [0.07144774, 0.92855226]])"
      ]
     },
     "execution_count": 23,
     "metadata": {},
     "output_type": "execute_result"
    }
   ],
   "source": [
    "logit = LogisticRegression(solver = 'lbfgs')\n",
    "logit.fit(X_train, y_train)\n",
    "logit_pred = logit.predict_proba(X_test)\n",
    "logit_pred"
   ]
  },
  {
   "cell_type": "code",
   "execution_count": 24,
   "id": "0080e166",
   "metadata": {
    "execution": {
     "iopub.execute_input": "2021-12-17T16:46:23.300085Z",
     "iopub.status.busy": "2021-12-17T16:46:23.297171Z",
     "iopub.status.idle": "2021-12-17T16:46:23.490424Z",
     "shell.execute_reply": "2021-12-17T16:46:23.489360Z",
     "shell.execute_reply.started": "2021-12-17T16:04:40.474539Z"
    },
    "papermill": {
     "duration": 0.284153,
     "end_time": "2021-12-17T16:46:23.490658",
     "exception": false,
     "start_time": "2021-12-17T16:46:23.206505",
     "status": "completed"
    },
    "tags": []
   },
   "outputs": [
    {
     "data": {
      "image/png": "[encoded data removed]",
      "text/plain": [
       "<Figure size 432x432 with 1 Axes>"
      ]
     },
     "metadata": {
      "needs_background": "light"
     },
     "output_type": "display_data"
    }
   ],
   "source": [
    "plot_calibration_curve(y_test, logit_pred[:, 1])\n",
    "plt.show()"
   ]
  },
  {
   "cell_type": "code",
   "execution_count": 25,
   "id": "7174c409",
   "metadata": {
    "execution": {
     "iopub.execute_input": "2021-12-17T16:46:23.710676Z",
     "iopub.status.busy": "2021-12-17T16:46:23.709602Z",
     "iopub.status.idle": "2021-12-17T16:46:24.220086Z",
     "shell.execute_reply": "2021-12-17T16:46:24.219449Z",
     "shell.execute_reply.started": "2021-12-17T16:04:48.004730Z"
    },
    "papermill": {
     "duration": 0.636214,
     "end_time": "2021-12-17T16:46:24.220254",
     "exception": false,
     "start_time": "2021-12-17T16:46:23.584040",
     "status": "completed"
    },
    "tags": []
   },
   "outputs": [
    {
     "data": {
      "image/png": "[encoded data removed]",
      "text/plain": [
       "<Figure size 1440x720 with 2 Axes>"
      ]
     },
     "metadata": {
      "needs_background": "light"
     },
     "output_type": "display_data"
    }
   ],
   "source": [
    "fig, ax = plt.subplots(1, 2, figsize = (20, 10))\n",
    "ax[0].hist(logit_pred[:, 1], label = 'Логистическая регрессия', bins = 10, ec = 'black')\n",
    "ax[1].hist(svm_pred, label = 'Опорные вектора', bins = 10, ec = 'black')\n",
    "ax[0].grid()\n",
    "ax[0].legend()\n",
    "ax[1].grid()\n",
    "ax[1].legend()\n",
    "plt.show()"
   ]
  },
  {
   "cell_type": "markdown",
   "id": "edfd8613",
   "metadata": {
    "papermill": {
     "duration": 0.086424,
     "end_time": "2021-12-17T16:46:24.395157",
     "exception": false,
     "start_time": "2021-12-17T16:46:24.308733",
     "status": "completed"
    },
    "tags": []
   },
   "source": [
    "Воспользуйтесь `CalibratedClassifierCV` из `sklearn` для калибровки вероятностей метода опорных векторов на обучении и постройте с его помощью предсказания для тестовой выборки. Нарисуйте для них калибровочную кривую. Улучшилась ли она?"
   ]
  },
  {
   "cell_type": "code",
   "execution_count": 26,
   "id": "386d81ce",
   "metadata": {
    "execution": {
     "iopub.execute_input": "2021-12-17T16:46:24.578903Z",
     "iopub.status.busy": "2021-12-17T16:46:24.578207Z",
     "iopub.status.idle": "2021-12-17T16:46:31.297491Z",
     "shell.execute_reply": "2021-12-17T16:46:31.296765Z",
     "shell.execute_reply.started": "2021-12-17T16:04:53.859543Z"
    },
    "papermill": {
     "duration": 6.810963,
     "end_time": "2021-12-17T16:46:31.297638",
     "exception": false,
     "start_time": "2021-12-17T16:46:24.486675",
     "status": "completed"
    },
    "tags": []
   },
   "outputs": [
    {
     "name": "stderr",
     "output_type": "stream",
     "text": [
      "/opt/conda/lib/python3.7/site-packages/sklearn/svm/_base.py:977: ConvergenceWarning: Liblinear failed to converge, increase the number of iterations.\n",
      "  \"the number of iterations.\", ConvergenceWarning)\n",
      "/opt/conda/lib/python3.7/site-packages/sklearn/svm/_base.py:977: ConvergenceWarning: Liblinear failed to converge, increase the number of iterations.\n",
      "  \"the number of iterations.\", ConvergenceWarning)\n"
     ]
    },
    {
     "data": {
      "image/png": "[encoded data removed]",
      "text/plain": [
       "<Figure size 432x432 with 1 Axes>"
      ]
     },
     "metadata": {
      "needs_background": "light"
     },
     "output_type": "display_data"
    }
   ],
   "source": [
    "calibrated = CalibratedClassifierCV(LinearSVC(max_iter = 5000))\n",
    "calibrated.fit(X_train, y_train)\n",
    "calibrated_predicts = calibrated.predict_proba(X_test)\n",
    "plot_calibration_curve(y_test, calibrated_predicts[:, 1])"
   ]
  },
  {
   "cell_type": "markdown",
   "id": "2dc37435",
   "metadata": {
    "papermill": {
     "duration": 0.088606,
     "end_time": "2021-12-17T16:46:31.475258",
     "exception": false,
     "start_time": "2021-12-17T16:46:31.386652",
     "status": "completed"
    },
    "tags": []
   },
   "source": [
    "# Часть 1. Работа с переменными."
   ]
  },
  {
   "cell_type": "markdown",
   "id": "1ea5db50",
   "metadata": {
    "papermill": {
     "duration": 0.088185,
     "end_time": "2021-12-17T16:46:31.652021",
     "exception": false,
     "start_time": "2021-12-17T16:46:31.563836",
     "status": "completed"
    },
    "tags": []
   },
   "source": [
    "В этой части мы научимся обрабатывать категориальные переменные, так как закодировать их в виде чисел недостаточно (это задаёт некоторый порядок, которого на категориальных переменных может и не быть). Существует два основных способа обработки категориальных значений:\n",
    "- One-hot-кодирование\n",
    "- Счётчики (CTR, mean-target кодирование, ...) — каждый категориальный признак заменяется на среднее значение целевой переменной по всем объектам, имеющим одинаковое значение в этом признаке.\n",
    "\n",
    "Начнём с one-hot-кодирования. Допустим наш категориальный признак $f_j(x)$ принимает значения из множества $C=\\{c_1, \\dots, c_m\\}$. Заменим его на $m$ бинарных признаков $b_1(x), \\dots, b_m(x)$, каждый из которых является индикатором одного из возможных категориальных значений:\n",
    "$$\n",
    "b_i(x) = [f_j(x) = c_i]\n",
    "$$"
   ]
  },
  {
   "cell_type": "markdown",
   "id": "72d2bd56",
   "metadata": {
    "papermill": {
     "duration": 0.090044,
     "end_time": "2021-12-17T16:46:31.830520",
     "exception": false,
     "start_time": "2021-12-17T16:46:31.740476",
     "status": "completed"
    },
    "tags": []
   },
   "source": [
    "__Подготовка данных.__\n",
    "\n",
    "Загрузим данные [UCI Bank Marketing Dataset](https://archive.ics.uci.edu/ml/datasets/bank+marketing). Этот датасет содержит информацию о банковском телефонном маркетинге, объектом в нем является телефонный звонок потенциальному клиенту с предложением некоторой услуги (утверждается, что это краткосрочный депозит), целевой переменной - ответ клиента (согласился ли он открыть депозит?). В качестве признакового описания используются характеристики клиента (образование, брак и т.д.), данные о звонке и различные экономические индикаторы - более подробная информация представлена в файле `bank-additional-names.txt`."
   ]
  },
  {
   "cell_type": "code",
   "execution_count": 27,
   "id": "a9a2f051",
   "metadata": {
    "execution": {
     "iopub.execute_input": "2021-12-17T16:46:32.012263Z",
     "iopub.status.busy": "2021-12-17T16:46:32.011569Z",
     "iopub.status.idle": "2021-12-17T16:46:32.206066Z",
     "shell.execute_reply": "2021-12-17T16:46:32.205285Z",
     "shell.execute_reply.started": "2021-12-17T16:05:13.470824Z"
    },
    "papermill": {
     "duration": 0.286513,
     "end_time": "2021-12-17T16:46:32.206253",
     "exception": false,
     "start_time": "2021-12-17T16:46:31.919740",
     "status": "completed"
    },
    "tags": []
   },
   "outputs": [],
   "source": [
    "df = pd.read_csv('../input/bankclass/bank-additional-full.csv', sep=';')"
   ]
  },
  {
   "cell_type": "code",
   "execution_count": 28,
   "id": "4eaa1a8d",
   "metadata": {
    "execution": {
     "iopub.execute_input": "2021-12-17T16:46:32.390625Z",
     "iopub.status.busy": "2021-12-17T16:46:32.389962Z",
     "iopub.status.idle": "2021-12-17T16:46:32.414222Z",
     "shell.execute_reply": "2021-12-17T16:46:32.413696Z",
     "shell.execute_reply.started": "2021-12-17T16:05:16.312341Z"
    },
    "papermill": {
     "duration": 0.118817,
     "end_time": "2021-12-17T16:46:32.414369",
     "exception": false,
     "start_time": "2021-12-17T16:46:32.295552",
     "status": "completed"
    },
    "tags": []
   },
   "outputs": [
    {
     "data": {
      "text/html": [
       "<div>\n",
       "<style scoped>\n",
       "    .dataframe tbody tr th:only-of-type {\n",
       "        vertical-align: middle;\n",
       "    }\n",
       "\n",
       "    .dataframe tbody tr th {\n",
       "        vertical-align: top;\n",
       "    }\n",
       "\n",
       "    .dataframe thead th {\n",
       "        text-align: right;\n",
       "    }\n",
       "</style>\n",
       "<table border=\"1\" class=\"dataframe\">\n",
       "  <thead>\n",
       "    <tr style=\"text-align: right;\">\n",
       "      <th></th>\n",
       "      <th>age</th>\n",
       "      <th>job</th>\n",
       "      <th>marital</th>\n",
       "      <th>education</th>\n",
       "      <th>default</th>\n",
       "      <th>housing</th>\n",
       "      <th>loan</th>\n",
       "      <th>contact</th>\n",
       "      <th>month</th>\n",
       "      <th>day_of_week</th>\n",
       "      <th>duration</th>\n",
       "      <th>campaign</th>\n",
       "      <th>pdays</th>\n",
       "      <th>previous</th>\n",
       "      <th>poutcome</th>\n",
       "      <th>emp.var.rate</th>\n",
       "      <th>cons.price.idx</th>\n",
       "      <th>cons.conf.idx</th>\n",
       "      <th>euribor3m</th>\n",
       "      <th>nr.employed</th>\n",
       "      <th>y</th>\n",
       "    </tr>\n",
       "  </thead>\n",
       "  <tbody>\n",
       "    <tr>\n",
       "      <th>0</th>\n",
       "      <td>56</td>\n",
       "      <td>housemaid</td>\n",
       "      <td>married</td>\n",
       "      <td>basic.4y</td>\n",
       "      <td>no</td>\n",
       "      <td>no</td>\n",
       "      <td>no</td>\n",
       "      <td>telephone</td>\n",
       "      <td>may</td>\n",
       "      <td>mon</td>\n",
       "      <td>261</td>\n",
       "      <td>1</td>\n",
       "      <td>999</td>\n",
       "      <td>0</td>\n",
       "      <td>nonexistent</td>\n",
       "      <td>1.1</td>\n",
       "      <td>93.994</td>\n",
       "      <td>-36.4</td>\n",
       "      <td>4.857</td>\n",
       "      <td>5191.0</td>\n",
       "      <td>no</td>\n",
       "    </tr>\n",
       "    <tr>\n",
       "      <th>1</th>\n",
       "      <td>57</td>\n",
       "      <td>services</td>\n",
       "      <td>married</td>\n",
       "      <td>high.school</td>\n",
       "      <td>unknown</td>\n",
       "      <td>no</td>\n",
       "      <td>no</td>\n",
       "      <td>telephone</td>\n",
       "      <td>may</td>\n",
       "      <td>mon</td>\n",
       "      <td>149</td>\n",
       "      <td>1</td>\n",
       "      <td>999</td>\n",
       "      <td>0</td>\n",
       "      <td>nonexistent</td>\n",
       "      <td>1.1</td>\n",
       "      <td>93.994</td>\n",
       "      <td>-36.4</td>\n",
       "      <td>4.857</td>\n",
       "      <td>5191.0</td>\n",
       "      <td>no</td>\n",
       "    </tr>\n",
       "    <tr>\n",
       "      <th>2</th>\n",
       "      <td>37</td>\n",
       "      <td>services</td>\n",
       "      <td>married</td>\n",
       "      <td>high.school</td>\n",
       "      <td>no</td>\n",
       "      <td>yes</td>\n",
       "      <td>no</td>\n",
       "      <td>telephone</td>\n",
       "      <td>may</td>\n",
       "      <td>mon</td>\n",
       "      <td>226</td>\n",
       "      <td>1</td>\n",
       "      <td>999</td>\n",
       "      <td>0</td>\n",
       "      <td>nonexistent</td>\n",
       "      <td>1.1</td>\n",
       "      <td>93.994</td>\n",
       "      <td>-36.4</td>\n",
       "      <td>4.857</td>\n",
       "      <td>5191.0</td>\n",
       "      <td>no</td>\n",
       "    </tr>\n",
       "    <tr>\n",
       "      <th>3</th>\n",
       "      <td>40</td>\n",
       "      <td>admin.</td>\n",
       "      <td>married</td>\n",
       "      <td>basic.6y</td>\n",
       "      <td>no</td>\n",
       "      <td>no</td>\n",
       "      <td>no</td>\n",
       "      <td>telephone</td>\n",
       "      <td>may</td>\n",
       "      <td>mon</td>\n",
       "      <td>151</td>\n",
       "      <td>1</td>\n",
       "      <td>999</td>\n",
       "      <td>0</td>\n",
       "      <td>nonexistent</td>\n",
       "      <td>1.1</td>\n",
       "      <td>93.994</td>\n",
       "      <td>-36.4</td>\n",
       "      <td>4.857</td>\n",
       "      <td>5191.0</td>\n",
       "      <td>no</td>\n",
       "    </tr>\n",
       "    <tr>\n",
       "      <th>4</th>\n",
       "      <td>56</td>\n",
       "      <td>services</td>\n",
       "      <td>married</td>\n",
       "      <td>high.school</td>\n",
       "      <td>no</td>\n",
       "      <td>no</td>\n",
       "      <td>yes</td>\n",
       "      <td>telephone</td>\n",
       "      <td>may</td>\n",
       "      <td>mon</td>\n",
       "      <td>307</td>\n",
       "      <td>1</td>\n",
       "      <td>999</td>\n",
       "      <td>0</td>\n",
       "      <td>nonexistent</td>\n",
       "      <td>1.1</td>\n",
       "      <td>93.994</td>\n",
       "      <td>-36.4</td>\n",
       "      <td>4.857</td>\n",
       "      <td>5191.0</td>\n",
       "      <td>no</td>\n",
       "    </tr>\n",
       "  </tbody>\n",
       "</table>\n",
       "</div>"
      ],
      "text/plain": [
       "   age        job  marital    education  default housing loan    contact  \\\n",
       "0   56  housemaid  married     basic.4y       no      no   no  telephone   \n",
       "1   57   services  married  high.school  unknown      no   no  telephone   \n",
       "2   37   services  married  high.school       no     yes   no  telephone   \n",
       "3   40     admin.  married     basic.6y       no      no   no  telephone   \n",
       "4   56   services  married  high.school       no      no  yes  telephone   \n",
       "\n",
       "  month day_of_week  duration  campaign  pdays  previous     poutcome  \\\n",
       "0   may         mon       261         1    999         0  nonexistent   \n",
       "1   may         mon       149         1    999         0  nonexistent   \n",
       "2   may         mon       226         1    999         0  nonexistent   \n",
       "3   may         mon       151         1    999         0  nonexistent   \n",
       "4   may         mon       307         1    999         0  nonexistent   \n",
       "\n",
       "   emp.var.rate  cons.price.idx  cons.conf.idx  euribor3m  nr.employed   y  \n",
       "0           1.1          93.994          -36.4      4.857       5191.0  no  \n",
       "1           1.1          93.994          -36.4      4.857       5191.0  no  \n",
       "2           1.1          93.994          -36.4      4.857       5191.0  no  \n",
       "3           1.1          93.994          -36.4      4.857       5191.0  no  \n",
       "4           1.1          93.994          -36.4      4.857       5191.0  no  "
      ]
     },
     "execution_count": 28,
     "metadata": {},
     "output_type": "execute_result"
    }
   ],
   "source": [
    "df.head()"
   ]
  },
  {
   "cell_type": "markdown",
   "id": "7adba1df",
   "metadata": {
    "papermill": {
     "duration": 0.089024,
     "end_time": "2021-12-17T16:46:32.592665",
     "exception": false,
     "start_time": "2021-12-17T16:46:32.503641",
     "status": "completed"
    },
    "tags": []
   },
   "source": [
    "__Задание 3 (0.5 балла).__ Разделите выборку на обучающую и тестовую в соотношении 3:1. Зафиксируйте `random_state=777`, также используйте `stratify`. Один из столбцов в данных не несет информации для решения задачи — какой? Отбросьте его. \n",
    "\n"
   ]
  },
  {
   "cell_type": "code",
   "execution_count": 29,
   "id": "38cc140a",
   "metadata": {
    "execution": {
     "iopub.execute_input": "2021-12-17T16:46:32.780056Z",
     "iopub.status.busy": "2021-12-17T16:46:32.779339Z",
     "iopub.status.idle": "2021-12-17T16:46:32.855884Z",
     "shell.execute_reply": "2021-12-17T16:46:32.855290Z",
     "shell.execute_reply.started": "2021-12-17T16:06:04.323796Z"
    },
    "papermill": {
     "duration": 0.173948,
     "end_time": "2021-12-17T16:46:32.856041",
     "exception": false,
     "start_time": "2021-12-17T16:46:32.682093",
     "status": "completed"
    },
    "tags": []
   },
   "outputs": [],
   "source": [
    "y = df['y'].apply(lambda x: 0 if x == 'no' else 1)\n",
    "X = df.drop(columns = ['y'])\n",
    "X_train, X_test, y_train, y_test = train_test_split(X, y, test_size = 0.25, random_state = 777, stratify = y)"
   ]
  },
  {
   "cell_type": "code",
   "execution_count": 30,
   "id": "86e5e780",
   "metadata": {
    "execution": {
     "iopub.execute_input": "2021-12-17T16:46:33.044915Z",
     "iopub.status.busy": "2021-12-17T16:46:33.044188Z",
     "iopub.status.idle": "2021-12-17T16:46:33.052992Z",
     "shell.execute_reply": "2021-12-17T16:46:33.053636Z",
     "shell.execute_reply.started": "2021-12-17T16:06:06.406219Z"
    },
    "papermill": {
     "duration": 0.107525,
     "end_time": "2021-12-17T16:46:33.053819",
     "exception": false,
     "start_time": "2021-12-17T16:46:32.946294",
     "status": "completed"
    },
    "tags": []
   },
   "outputs": [
    {
     "name": "stderr",
     "output_type": "stream",
     "text": [
      "/opt/conda/lib/python3.7/site-packages/pandas/core/frame.py:4913: SettingWithCopyWarning: \n",
      "A value is trying to be set on a copy of a slice from a DataFrame\n",
      "\n",
      "See the caveats in the documentation: https://pandas.pydata.org/pandas-docs/stable/user_guide/indexing.html#returning-a-view-versus-a-copy\n",
      "  errors=errors,\n"
     ]
    }
   ],
   "source": [
    "X_train.drop(columns=['duration'], inplace=True)\n",
    "X_test.drop(columns=['duration'], inplace=True)"
   ]
  },
  {
   "cell_type": "markdown",
   "id": "693b8e82",
   "metadata": {
    "papermill": {
     "duration": 0.088788,
     "end_time": "2021-12-17T16:46:33.233495",
     "exception": false,
     "start_time": "2021-12-17T16:46:33.144707",
     "status": "completed"
    },
    "tags": []
   },
   "source": [
    "Закодируйте категориальные признаки с помощью `OrdinalEncoder`. Посчитайте качество (в этом задании будем работать c `AUC-PR`) при применении логистической регрессии. Замерьте время, потребовавшееся на обучение модели (с учетом кодирования признаков)."
   ]
  },
  {
   "cell_type": "markdown",
   "id": "c97b2966",
   "metadata": {
    "papermill": {
     "duration": 0.090527,
     "end_time": "2021-12-17T16:46:33.413735",
     "exception": false,
     "start_time": "2021-12-17T16:46:33.323208",
     "status": "completed"
    },
    "tags": []
   },
   "source": [
    "Кодирование категориальных признаков"
   ]
  },
  {
   "cell_type": "code",
   "execution_count": 31,
   "id": "1e9e9eea",
   "metadata": {
    "execution": {
     "iopub.execute_input": "2021-12-17T16:46:33.598997Z",
     "iopub.status.busy": "2021-12-17T16:46:33.598304Z",
     "iopub.status.idle": "2021-12-17T16:46:33.608030Z",
     "shell.execute_reply": "2021-12-17T16:46:33.608523Z",
     "shell.execute_reply.started": "2021-12-17T16:24:57.741229Z"
    },
    "papermill": {
     "duration": 0.105632,
     "end_time": "2021-12-17T16:46:33.608716",
     "exception": false,
     "start_time": "2021-12-17T16:46:33.503084",
     "status": "completed"
    },
    "tags": []
   },
   "outputs": [],
   "source": [
    "from sklearn.preprocessing import OrdinalEncoder\n",
    "from sklearn.compose import ColumnTransformer\n",
    "from sklearn.pipeline import Pipeline\n",
    "from sklearn.preprocessing import OneHotEncoder\n",
    "\n",
    "categorical = [\n",
    "    'job', 'marital', 'education',\n",
    "    'default', 'housing', 'loan',\n",
    "    'contact', 'month', 'day_of_week',\n",
    "    'poutcome'\n",
    "]\n",
    "\n",
    "col_transformer = ColumnTransformer([('ordinal', OrdinalEncoder(), categorical)])\n",
    "pipeline = Pipeline(steps=[('encoding', col_transformer), ('logit', LogisticRegression(solver='lbfgs'))])"
   ]
  },
  {
   "cell_type": "markdown",
   "id": "c94ff01f",
   "metadata": {
    "papermill": {
     "duration": 0.088915,
     "end_time": "2021-12-17T16:46:33.787024",
     "exception": false,
     "start_time": "2021-12-17T16:46:33.698109",
     "status": "completed"
    },
    "tags": []
   },
   "source": [
    "Обучение и предсказание модели"
   ]
  },
  {
   "cell_type": "code",
   "execution_count": 32,
   "id": "b0e9953f",
   "metadata": {
    "execution": {
     "iopub.execute_input": "2021-12-17T16:46:33.974176Z",
     "iopub.status.busy": "2021-12-17T16:46:33.973439Z",
     "iopub.status.idle": "2021-12-17T16:46:37.402304Z",
     "shell.execute_reply": "2021-12-17T16:46:37.403288Z",
     "shell.execute_reply.started": "2021-12-17T16:25:00.647746Z"
    },
    "papermill": {
     "duration": 3.526586,
     "end_time": "2021-12-17T16:46:37.403607",
     "exception": false,
     "start_time": "2021-12-17T16:46:33.877021",
     "status": "completed"
    },
    "tags": []
   },
   "outputs": [
    {
     "name": "stdout",
     "output_type": "stream",
     "text": [
      "434 ms ± 7.74 ms per loop (mean ± std. dev. of 7 runs, 1 loop each)\n"
     ]
    }
   ],
   "source": [
    "%%timeit\n",
    "model = pipeline.fit(X_train, y_train)"
   ]
  },
  {
   "cell_type": "code",
   "execution_count": 33,
   "id": "fd67cbe2",
   "metadata": {
    "execution": {
     "iopub.execute_input": "2021-12-17T16:46:37.643518Z",
     "iopub.status.busy": "2021-12-17T16:46:37.642811Z",
     "iopub.status.idle": "2021-12-17T16:46:38.109442Z",
     "shell.execute_reply": "2021-12-17T16:46:38.110596Z",
     "shell.execute_reply.started": "2021-12-17T16:25:08.167013Z"
    },
    "papermill": {
     "duration": 0.565308,
     "end_time": "2021-12-17T16:46:38.110927",
     "exception": false,
     "start_time": "2021-12-17T16:46:37.545619",
     "status": "completed"
    },
    "tags": []
   },
   "outputs": [
    {
     "name": "stdout",
     "output_type": "stream",
     "text": [
      "0.30648202370701677\n"
     ]
    }
   ],
   "source": [
    "model = pipeline.fit(X_train, y_train)\n",
    "pred = model.predict_proba(X_test)\n",
    "pr_test,rec_test,thr_test = precision_recall_curve(y_test.values, pred[:, 1])\n",
    "print(format(auc(rec_test, pr_test)))"
   ]
  },
  {
   "cell_type": "markdown",
   "id": "e496fe04",
   "metadata": {
    "papermill": {
     "duration": 0.090106,
     "end_time": "2021-12-17T16:46:38.343029",
     "exception": false,
     "start_time": "2021-12-17T16:46:38.252923",
     "status": "completed"
    },
    "tags": []
   },
   "source": [
    "__Задание 4 (0.5 балла).__ Закодируйте все категориальные признаки с помощью one-hot-кодирования. Обучите логистическую регрессию и посмотрите, как изменилось качество модели (с тем, что было до кодирования). Измерьте время, потребовавшееся на кодирование категориальных признаков и обучение модели.\n",
    "\n"
   ]
  },
  {
   "cell_type": "code",
   "execution_count": 34,
   "id": "bc40f49e",
   "metadata": {
    "execution": {
     "iopub.execute_input": "2021-12-17T16:46:38.529333Z",
     "iopub.status.busy": "2021-12-17T16:46:38.528624Z",
     "iopub.status.idle": "2021-12-17T16:46:38.531438Z",
     "shell.execute_reply": "2021-12-17T16:46:38.530902Z",
     "shell.execute_reply.started": "2021-12-17T16:25:12.660951Z"
    },
    "papermill": {
     "duration": 0.098408,
     "end_time": "2021-12-17T16:46:38.531581",
     "exception": false,
     "start_time": "2021-12-17T16:46:38.433173",
     "status": "completed"
    },
    "tags": []
   },
   "outputs": [],
   "source": [
    "col_transformer = ColumnTransformer([('ohe', OneHotEncoder(), categorical)])\n",
    "pipeline = Pipeline(steps = [('encoding', col_transformer), ('logit', LogisticRegression(solver='liblinear'))])"
   ]
  },
  {
   "cell_type": "code",
   "execution_count": 35,
   "id": "cdb1c7ac",
   "metadata": {
    "execution": {
     "iopub.execute_input": "2021-12-17T16:46:38.719809Z",
     "iopub.status.busy": "2021-12-17T16:46:38.719132Z",
     "iopub.status.idle": "2021-12-17T16:46:40.900061Z",
     "shell.execute_reply": "2021-12-17T16:46:40.899500Z",
     "shell.execute_reply.started": "2021-12-17T16:25:29.595907Z"
    },
    "papermill": {
     "duration": 2.277968,
     "end_time": "2021-12-17T16:46:40.900245",
     "exception": false,
     "start_time": "2021-12-17T16:46:38.622277",
     "status": "completed"
    },
    "tags": []
   },
   "outputs": [
    {
     "name": "stdout",
     "output_type": "stream",
     "text": [
      "272 ms ± 2.3 ms per loop (mean ± std. dev. of 7 runs, 1 loop each)\n"
     ]
    }
   ],
   "source": [
    "%%timeit\n",
    "model2 = pipeline.fit(X_train, y_train)"
   ]
  },
  {
   "cell_type": "code",
   "execution_count": 36,
   "id": "3db0836c",
   "metadata": {
    "execution": {
     "iopub.execute_input": "2021-12-17T16:46:41.123423Z",
     "iopub.status.busy": "2021-12-17T16:46:41.117136Z",
     "iopub.status.idle": "2021-12-17T16:46:41.417712Z",
     "shell.execute_reply": "2021-12-17T16:46:41.416948Z",
     "shell.execute_reply.started": "2021-12-17T16:25:47.908787Z"
    },
    "papermill": {
     "duration": 0.4258,
     "end_time": "2021-12-17T16:46:41.417936",
     "exception": false,
     "start_time": "2021-12-17T16:46:40.992136",
     "status": "completed"
    },
    "tags": []
   },
   "outputs": [
    {
     "name": "stdout",
     "output_type": "stream",
     "text": [
      "0.4069016514059173\n"
     ]
    }
   ],
   "source": [
    "model2 = pipeline.fit(X_train, y_train)\n",
    "pred = model2.predict_proba(X_test)\n",
    "pr_test,rec_test,thr_test = precision_recall_curve(y_test.values, pred[:, 1])\n",
    "print(format(auc(rec_test, pr_test)))"
   ]
  },
  {
   "cell_type": "markdown",
   "id": "512b2bd7",
   "metadata": {
    "papermill": {
     "duration": 0.090616,
     "end_time": "2021-12-17T16:46:41.600619",
     "exception": false,
     "start_time": "2021-12-17T16:46:41.510003",
     "status": "completed"
    },
    "tags": []
   },
   "source": [
    "Отметим, что такие признаки сами по себе являются классификаторами и, обучаясь на них, мы допускаем \"утечку\" целевой переменной в признаки. Это ведёт к переобучению, поэтому считать такие признаки необходимо таким образом, чтобы при вычислении для конкретного объекта его целевая метка не использовалась. Это можно делать следующими способами:\n",
    "1. Вычислять значение счётчика по всем объектам расположенным выше в датасете (например, если у нас выборка отсортирована по времени).\n",
    "2. Вычислять по фолдам, то есть делить выборку на некоторое количество частей и подсчитывать значение признаков по всем фолдам кроме текущего (как делается в кросс-валидации).\n",
    "3. Внесение некоторого шума в посчитанные признаки. \n",
    "\n",
    "__Задание 6.__ Реализуйте корректное вычисление счётчиков самым простым способом — добавление шума к значениям (постарайтесь найти баланс между борьбой с переобучением и сохранением полезности признаков). Снова обучите логистическую регрессию, оцените качество. Сделайте выводы.\n",
    "\n",
    "__(0.5 балла)__"
   ]
  },
  {
   "cell_type": "code",
   "execution_count": 37,
   "id": "f4aa9d12",
   "metadata": {
    "execution": {
     "iopub.execute_input": "2021-12-17T16:46:41.785697Z",
     "iopub.status.busy": "2021-12-17T16:46:41.785043Z",
     "iopub.status.idle": "2021-12-17T16:46:41.795121Z",
     "shell.execute_reply": "2021-12-17T16:46:41.794559Z",
     "shell.execute_reply.started": "2021-12-17T16:29:15.948383Z"
    },
    "papermill": {
     "duration": 0.103836,
     "end_time": "2021-12-17T16:46:41.795282",
     "exception": false,
     "start_time": "2021-12-17T16:46:41.691446",
     "status": "completed"
    },
    "tags": []
   },
   "outputs": [],
   "source": [
    "from sklearn.base import TransformerMixin, BaseEstimator\n",
    "\n",
    "class NoisyCounterTransformer(BaseEstimator, TransformerMixin):\n",
    "    def __init__(self, categorical):\n",
    "        self.cat = categorical\n",
    "    \n",
    "    def fit(self, X, y):\n",
    "        self.avg = {}\n",
    "        for feature in self.cat:\n",
    "            gby = X.groupby(feature)\n",
    "            indexes, keys = list(gby.groups.values()), list(gby.groups.keys())\n",
    "            self.avg.update({feature: {keys[i]: y[indexes[i]].mean() for i in range(len(keys))}})\n",
    "        return self\n",
    "    \n",
    "    def transform(self, X):\n",
    "        X_c = X.copy()\n",
    "        for feature in self.cat:\n",
    "            X_c.loc[:, feature] = X_c.loc[:, feature].replace(self.avg[feature]) + np.random.normal(0, 0.05, X_c.shape[0])\n",
    "        return X_c\n",
    "            \n",
    "    def fit_transform(self, X, y):\n",
    "        self.fit(X, y)\n",
    "        return self.transform(X)"
   ]
  },
  {
   "cell_type": "code",
   "execution_count": 38,
   "id": "0e7d26b8",
   "metadata": {
    "execution": {
     "iopub.execute_input": "2021-12-17T16:46:41.989930Z",
     "iopub.status.busy": "2021-12-17T16:46:41.989198Z",
     "iopub.status.idle": "2021-12-17T16:46:42.508895Z",
     "shell.execute_reply": "2021-12-17T16:46:42.509795Z",
     "shell.execute_reply.started": "2021-12-17T16:30:09.010684Z"
    },
    "papermill": {
     "duration": 0.621849,
     "end_time": "2021-12-17T16:46:42.510213",
     "exception": false,
     "start_time": "2021-12-17T16:46:41.888364",
     "status": "completed"
    },
    "tags": []
   },
   "outputs": [
    {
     "name": "stdout",
     "output_type": "stream",
     "text": [
      "0.42446632858234956\n"
     ]
    }
   ],
   "source": [
    "c = NoisyCounterTransformer(categorical=categorical)\n",
    "c.fit(X_train, y_train)\n",
    "X_train_counted = c.transform(X_train)\n",
    "X_test_counted = c.transform(X_test)\n",
    "logit = LogisticRegression(solver='liblinear')\n",
    "logit.fit(X_train_counted, y_train)\n",
    "pred = logit.predict_proba(X_test_counted)\n",
    "pr_test, rec_test, thr_test = precision_recall_curve(y_test.values, pred[:, 1])\n",
    "print(format(auc(rec_test, pr_test)))"
   ]
  },
  {
   "cell_type": "markdown",
   "id": "7ccd6103",
   "metadata": {
    "papermill": {
     "duration": 0.092057,
     "end_time": "2021-12-17T16:46:42.743425",
     "exception": false,
     "start_time": "2021-12-17T16:46:42.651368",
     "status": "completed"
    },
    "tags": []
   },
   "source": [
    "__(Бонусная часть, 0.5 балла)__ Посчитайте корректные счётчики первым или вторым способов из описанных выше (не забудьте добавить и шум). \n",
    "\n"
   ]
  },
  {
   "cell_type": "markdown",
   "id": "91eb399e",
   "metadata": {
    "papermill": {
     "duration": 0.091986,
     "end_time": "2021-12-17T16:46:42.926534",
     "exception": false,
     "start_time": "2021-12-17T16:46:42.834548",
     "status": "completed"
    },
    "tags": []
   },
   "source": [
    "А теперь ответьте на следующий вопрос: что будет, если некоторая категория встречается в выборке всего несколько раз? По этой причине производится сглаживание счётчиков. Например, на практике хорошие результаты показывает использование сглаживания средним по всей выборке:\n",
    "$$\n",
    "g_j(x, X) = \\frac{\\sum_{i=1}^{\\ell} [f_j(x) = f_j(x_i)][y_i = +1] + C \\times global\\_mean}{\\sum_{i=1}^{\\ell} [f_j(x) = f_j(x_i)] + C}\n",
    "$$\n",
    "где $global\\_mean$ — доля объектов положительного класса в выборке, $C$ — параметр, определяющий степень сглаживания (например, можно использовать 10 или подобрать для каждого признака свой). Основная идея в том, что мы \"разбавляем\" среднее значение по некоторой категории глобальным средним значением. И тем меньше, чем большее количество объектов этой категории встречается в выборке. \n",
    "\n",
    "Однако для сглаживания вместо среднего значения целевой переменной можно использовать любое другое значение от 0 до 1 (этот параметр иногда называют $prior$). Можно сделать несколько признаков с разными значениями параметра. На практике в задачах бинарной классификации полезными бывают даже отрицательные значения!\n"
   ]
  },
  {
   "cell_type": "markdown",
   "id": "c969783b",
   "metadata": {
    "papermill": {
     "duration": 0.091807,
     "end_time": "2021-12-17T16:46:43.111095",
     "exception": false,
     "start_time": "2021-12-17T16:46:43.019288",
     "status": "completed"
    },
    "tags": []
   },
   "source": [
    "__Задание 7 (1 балл).__ Добавьте сглаживание, описанное выше и повторите эксперименты."
   ]
  },
  {
   "cell_type": "code",
   "execution_count": 39,
   "id": "1b2b3e02",
   "metadata": {
    "execution": {
     "iopub.execute_input": "2021-12-17T16:46:43.305208Z",
     "iopub.status.busy": "2021-12-17T16:46:43.301983Z",
     "iopub.status.idle": "2021-12-17T16:46:43.308637Z",
     "shell.execute_reply": "2021-12-17T16:46:43.307933Z",
     "shell.execute_reply.started": "2021-12-17T16:31:03.624680Z"
    },
    "papermill": {
     "duration": 0.105808,
     "end_time": "2021-12-17T16:46:43.308801",
     "exception": false,
     "start_time": "2021-12-17T16:46:43.202993",
     "status": "completed"
    },
    "tags": []
   },
   "outputs": [],
   "source": [
    "class SmoothCounterTransformer(BaseEstimator, TransformerMixin):\n",
    "    def __init__(self, categorical, C=10):\n",
    "        self.cat = categorical\n",
    "        self.C = C\n",
    "    \n",
    "    def fit(self, X, y):\n",
    "        self.global_mean = np.sum(y) / len(y)\n",
    "        self.avg = {}\n",
    "        for feature in self.cat:\n",
    "            gby = X.groupby(feature)\n",
    "            indexes, keys = list(gby.groups.values()), list(gby.groups.keys())\n",
    "            self.avg.update({feature: {keys[i]: (y[indexes[i]].sum() + self.C * self.global_mean) /\n",
    "                                       (len(indexes[i]) + self.C) for i in range(len(keys))}})\n",
    "        return self\n",
    "    \n",
    "    def transform(self, X):\n",
    "        X_c = X.copy()\n",
    "        for feature in self.cat:\n",
    "            X_c.loc[:, feature] = X_c.loc[:, feature].replace(self.avg[feature]) + np.random.normal(0, 0.05, X_c.shape[0])\n",
    "        return X_c\n",
    "            \n",
    "    def fit_transform(self, X, y):\n",
    "        self.fit(X, y)\n",
    "        return self.transform(X)"
   ]
  },
  {
   "cell_type": "code",
   "execution_count": 40,
   "id": "d1a69a73",
   "metadata": {
    "execution": {
     "iopub.execute_input": "2021-12-17T16:46:43.498873Z",
     "iopub.status.busy": "2021-12-17T16:46:43.497463Z",
     "iopub.status.idle": "2021-12-17T16:46:44.013885Z",
     "shell.execute_reply": "2021-12-17T16:46:44.015566Z",
     "shell.execute_reply.started": "2021-12-17T16:31:38.534564Z"
    },
    "papermill": {
     "duration": 0.614988,
     "end_time": "2021-12-17T16:46:44.015996",
     "exception": false,
     "start_time": "2021-12-17T16:46:43.401008",
     "status": "completed"
    },
    "tags": []
   },
   "outputs": [
    {
     "name": "stdout",
     "output_type": "stream",
     "text": [
      "0.42406733477545316\n"
     ]
    }
   ],
   "source": [
    "c = SmoothCounterTransformer(categorical=categorical, C=10)\n",
    "c.fit(X_train, y_train)\n",
    "X_train_counted = c.transform(X_train)\n",
    "X_test_counted = c.transform(X_test)\n",
    "logit = LogisticRegression(solver='liblinear')\n",
    "logit.fit(X_train_counted, y_train)\n",
    "pred = logit.predict_proba(X_test_counted)\n",
    "pr_test,rec_test,thr_test = precision_recall_curve(y_test.values, pred[:, 1])\n",
    "print(format(auc(rec_test, pr_test)))"
   ]
  },
  {
   "cell_type": "markdown",
   "id": "d45992b6",
   "metadata": {
    "papermill": {
     "duration": 0.091692,
     "end_time": "2021-12-17T16:46:44.248047",
     "exception": false,
     "start_time": "2021-12-17T16:46:44.156355",
     "status": "completed"
    },
    "tags": []
   },
   "source": [
    "__Задание 8 (0.5 балла).__ В данных имеется признак \"возраст клиента\". Сейчас мы интерпретируем его как числовой, что в общем случае для линейной модели может быть неверной гипотезой. Тем не менее, у этого признака есть довольно много уникальных значений (сколько?), поэтому применять к нему one-hot кодирование может оказаться излишним. Попробуйте закодировать возраст с помощью счетчиков. Стало ли лучше?\n",
    "\n"
   ]
  },
  {
   "cell_type": "code",
   "execution_count": 41,
   "id": "950573fb",
   "metadata": {
    "execution": {
     "iopub.execute_input": "2021-12-17T16:46:44.445829Z",
     "iopub.status.busy": "2021-12-17T16:46:44.445189Z",
     "iopub.status.idle": "2021-12-17T16:46:44.447641Z",
     "shell.execute_reply": "2021-12-17T16:46:44.448224Z",
     "shell.execute_reply.started": "2021-12-17T16:32:12.207247Z"
    },
    "papermill": {
     "duration": 0.107971,
     "end_time": "2021-12-17T16:46:44.448394",
     "exception": false,
     "start_time": "2021-12-17T16:46:44.340423",
     "status": "completed"
    },
    "tags": []
   },
   "outputs": [],
   "source": [
    "X_train['age'].nunique()\n",
    "\n",
    "categorical = [\n",
    "    'job', 'marital', 'education',\n",
    "    'default', 'housing', 'loan',\n",
    "    'contact', 'month', 'day_of_week',\n",
    "    'poutcome', 'age',\n",
    "]"
   ]
  },
  {
   "cell_type": "code",
   "execution_count": 42,
   "id": "d40a7bb3",
   "metadata": {
    "execution": {
     "iopub.execute_input": "2021-12-17T16:46:44.638933Z",
     "iopub.status.busy": "2021-12-17T16:46:44.637965Z",
     "iopub.status.idle": "2021-12-17T16:46:45.188924Z",
     "shell.execute_reply": "2021-12-17T16:46:45.187879Z",
     "shell.execute_reply.started": "2021-12-17T16:32:38.899319Z"
    },
    "papermill": {
     "duration": 0.649252,
     "end_time": "2021-12-17T16:46:45.189153",
     "exception": false,
     "start_time": "2021-12-17T16:46:44.539901",
     "status": "completed"
    },
    "tags": []
   },
   "outputs": [
    {
     "name": "stdout",
     "output_type": "stream",
     "text": [
      "0.42315574655596633\n"
     ]
    }
   ],
   "source": [
    "c = SmoothCounterTransformer(categorical=categorical, C=10)\n",
    "c.fit(X_train, y_train)\n",
    "X_train_counted = c.transform(X_train)\n",
    "X_test_counted = c.transform(X_test)\n",
    "logit = LogisticRegression(solver='liblinear')\n",
    "logit.fit(X_train_counted, y_train)\n",
    "pred = logit.predict_proba(X_test_counted)\n",
    "pr_test,rec_test,thr_test = precision_recall_curve(y_test.values, pred[:, 1])\n",
    "print(format(auc(rec_test, pr_test)))"
   ]
  },
  {
   "cell_type": "markdown",
   "id": "5894422c",
   "metadata": {
    "papermill": {
     "duration": 0.092803,
     "end_time": "2021-12-17T16:46:45.425240",
     "exception": false,
     "start_time": "2021-12-17T16:46:45.332437",
     "status": "completed"
    },
    "tags": []
   },
   "source": [
    "Можно пойти и в обратную сторону. У нас есть признаки \"месяц и день недели\" для звонка. Попробуйте интерпретировать их как числовые (месяц от 0 до 12, дни недели от 0 до 4). Стало ли лучше в этот раз?"
   ]
  },
  {
   "cell_type": "code",
   "execution_count": 43,
   "id": "6db5ae7d",
   "metadata": {
    "execution": {
     "iopub.execute_input": "2021-12-17T16:46:45.635575Z",
     "iopub.status.busy": "2021-12-17T16:46:45.634836Z",
     "iopub.status.idle": "2021-12-17T16:46:45.636748Z",
     "shell.execute_reply": "2021-12-17T16:46:45.637249Z",
     "shell.execute_reply.started": "2021-12-17T16:33:13.630458Z"
    },
    "papermill": {
     "duration": 0.100449,
     "end_time": "2021-12-17T16:46:45.637427",
     "exception": false,
     "start_time": "2021-12-17T16:46:45.536978",
     "status": "completed"
    },
    "tags": []
   },
   "outputs": [],
   "source": [
    "categorical = [\n",
    "    'job', 'marital', 'education',\n",
    "    'default', 'housing', 'loan',\n",
    "    'contact', 'poutcome', 'age',\n",
    "]\n",
    "\n",
    "months = {'jan': 0,'feb': 1,'mar': 2,\n",
    "          'apr': 3,'may': 4,'jun': 5,\n",
    "          'jul': 6,'aug': 7,'sep': 8,\n",
    "          'oct': 9,'nov': 10,'dec': 11 }\n",
    "\n",
    "weekdays = {'mon': 0,'tue': 1,'wed': 2,'thu': 3,'fri': 4}"
   ]
  },
  {
   "cell_type": "code",
   "execution_count": 44,
   "id": "82f240c8",
   "metadata": {
    "execution": {
     "iopub.execute_input": "2021-12-17T16:46:45.824444Z",
     "iopub.status.busy": "2021-12-17T16:46:45.823693Z",
     "iopub.status.idle": "2021-12-17T16:46:46.418938Z",
     "shell.execute_reply": "2021-12-17T16:46:46.419785Z",
     "shell.execute_reply.started": "2021-12-17T16:33:29.074221Z"
    },
    "papermill": {
     "duration": 0.690814,
     "end_time": "2021-12-17T16:46:46.420074",
     "exception": false,
     "start_time": "2021-12-17T16:46:45.729260",
     "status": "completed"
    },
    "tags": []
   },
   "outputs": [
    {
     "name": "stdout",
     "output_type": "stream",
     "text": [
      "0.42437167770290685\n"
     ]
    }
   ],
   "source": [
    "c = SmoothCounterTransformer(categorical=categorical, C=10)\n",
    "c.fit(X_train, y_train)\n",
    "X_train_counted = c.transform(X_train)\n",
    "X_train_counted.loc[:, 'day_of_week'] = X_train_counted['day_of_week'].replace(weekdays)\n",
    "X_train_counted.loc[:, 'month'] = X_train_counted['month'].replace(months)\n",
    "X_test_counted = c.transform(X_test)\n",
    "X_test_counted.loc[:, 'day_of_week'] = X_test_counted['day_of_week'].replace(weekdays)\n",
    "X_test_counted.loc[:, 'month'] = X_test_counted['month'].replace(months)\n",
    "logit = LogisticRegression(solver='liblinear')\n",
    "logit.fit(X_train_counted, y_train)\n",
    "pred = logit.predict_proba(X_test_counted)\n",
    "pr_test,rec_test,thr_test = precision_recall_curve(y_test.values, pred[:, 1])\n",
    "print(format(auc(rec_test, pr_test)))"
   ]
  },
  {
   "cell_type": "markdown",
   "id": "843a15cf",
   "metadata": {
    "papermill": {
     "duration": 0.092069,
     "end_time": "2021-12-17T16:46:46.655761",
     "exception": false,
     "start_time": "2021-12-17T16:46:46.563692",
     "status": "completed"
    },
    "tags": []
   },
   "source": [
    "__Замечание.__ Усложнение методов вычисления счётчиков не делают результаты модели гарантированно лучше. Особенно с учётом того, что логистическая регрессия не такая сложная модель, чтобы переобучаться. Поэтому вы необязательно должны были получать на каждом шаге всё лучшие и лучшие результаты (но необходимые результаты у вас должны были получиться).\n",
    "\n",
    "Как вы должны были заметить, счётчики являются хорошей альтернативой one-hot-кодированию. Напишите, какие плюсы и минусы использования счётчиков по сравнению с one-hot-кодированием вы заметили.\n",
    "\n",
    "__Ответ:__ "
   ]
  },
  {
   "cell_type": "markdown",
   "id": "2d66a3e1",
   "metadata": {
    "papermill": {
     "duration": 0.092442,
     "end_time": "2021-12-17T16:46:46.840545",
     "exception": false,
     "start_time": "2021-12-17T16:46:46.748103",
     "status": "completed"
    },
    "tags": []
   },
   "source": [
    "# Часть 2. Отбор признаков"
   ]
  },
  {
   "cell_type": "markdown",
   "id": "cea23d69",
   "metadata": {
    "papermill": {
     "duration": 0.092778,
     "end_time": "2021-12-17T16:46:47.025400",
     "exception": false,
     "start_time": "2021-12-17T16:46:46.932622",
     "status": "completed"
    },
    "tags": []
   },
   "source": [
    "Важной частью процесса построения модели является отбор признаков. На практике многие признаки оказывают малое влияние на модель (при этом их расчёт занимает время) или даже негативно сказываются на качестве модели. Попробуем несколько подходов отбора признаков, оценим, как они влияют на качество модели и сколько времени занимают.\n",
    "\n",
    "Обратимся к тому же датасету про банковский телефонный маркетинг."
   ]
  },
  {
   "cell_type": "code",
   "execution_count": 45,
   "id": "706637ba",
   "metadata": {
    "execution": {
     "iopub.execute_input": "2021-12-17T16:46:47.217935Z",
     "iopub.status.busy": "2021-12-17T16:46:47.216896Z",
     "iopub.status.idle": "2021-12-17T16:46:47.219666Z",
     "shell.execute_reply": "2021-12-17T16:46:47.219059Z"
    },
    "papermill": {
     "duration": 0.099005,
     "end_time": "2021-12-17T16:46:47.219802",
     "exception": false,
     "start_time": "2021-12-17T16:46:47.120797",
     "status": "completed"
    },
    "tags": []
   },
   "outputs": [],
   "source": [
    "# df = pd.read_csv('bank-additional/bank-additional-full.csv', sep=';')\n",
    "\n",
    "# X = df.drop(columns=['duration', 'y'])\n",
    "# y = (df.y == 'yes')\n",
    "\n",
    "# X_train, X_test, y_train, y_test = train_test_split(X, y, test_size=0.2, random_state=777, stratify=y)"
   ]
  },
  {
   "cell_type": "markdown",
   "id": "6460a7b0",
   "metadata": {
    "papermill": {
     "duration": 0.092488,
     "end_time": "2021-12-17T16:46:47.405006",
     "exception": false,
     "start_time": "2021-12-17T16:46:47.312518",
     "status": "completed"
    },
    "tags": []
   },
   "source": [
    "Как вы помните, в данных много категориальных признаков (сейчас давайте интерпретировать возраст как числовой). Давайте закодируем их с помощью one-hot кодирования. Исходные колонки с категориальными признаками можно удалить. Сколько признаков мы получили?"
   ]
  },
  {
   "cell_type": "code",
   "execution_count": 46,
   "id": "5e3771ce",
   "metadata": {
    "execution": {
     "iopub.execute_input": "2021-12-17T16:46:47.594955Z",
     "iopub.status.busy": "2021-12-17T16:46:47.593915Z",
     "iopub.status.idle": "2021-12-17T16:46:47.597291Z",
     "shell.execute_reply": "2021-12-17T16:46:47.597897Z"
    },
    "papermill": {
     "duration": 0.100005,
     "end_time": "2021-12-17T16:46:47.598080",
     "exception": false,
     "start_time": "2021-12-17T16:46:47.498075",
     "status": "completed"
    },
    "tags": []
   },
   "outputs": [],
   "source": []
  },
  {
   "cell_type": "markdown",
   "id": "0ffa9b91",
   "metadata": {
    "papermill": {
     "duration": 0.091785,
     "end_time": "2021-12-17T16:46:47.782103",
     "exception": false,
     "start_time": "2021-12-17T16:46:47.690318",
     "status": "completed"
    },
    "tags": []
   },
   "source": [
    "В качестве основной модели будем использовать логистическую регрессию, а целевой метрики — `AUC-PR`. Обучите модель и посчитайте качество на тестовой выборке. Давайте запомним полученное значение."
   ]
  },
  {
   "cell_type": "code",
   "execution_count": 47,
   "id": "e630df9b",
   "metadata": {
    "execution": {
     "iopub.execute_input": "2021-12-17T16:46:47.972693Z",
     "iopub.status.busy": "2021-12-17T16:46:47.971618Z",
     "iopub.status.idle": "2021-12-17T16:46:47.974992Z",
     "shell.execute_reply": "2021-12-17T16:46:47.975461Z"
    },
    "papermill": {
     "duration": 0.099578,
     "end_time": "2021-12-17T16:46:47.975637",
     "exception": false,
     "start_time": "2021-12-17T16:46:47.876059",
     "status": "completed"
    },
    "tags": []
   },
   "outputs": [],
   "source": []
  },
  {
   "cell_type": "markdown",
   "id": "56fe93de",
   "metadata": {
    "papermill": {
     "duration": 0.091917,
     "end_time": "2021-12-17T16:46:48.160839",
     "exception": false,
     "start_time": "2021-12-17T16:46:48.068922",
     "status": "completed"
    },
    "tags": []
   },
   "source": [
    "### Встроенные методы"
   ]
  },
  {
   "cell_type": "markdown",
   "id": "ec5eeff4",
   "metadata": {
    "papermill": {
     "duration": 0.094342,
     "end_time": "2021-12-17T16:46:48.347416",
     "exception": false,
     "start_time": "2021-12-17T16:46:48.253074",
     "status": "completed"
    },
    "tags": []
   },
   "source": [
    "Допустим, мы хотим оставить только 40 лучших признаков. Попробуем сделать это несколькими способами.\n",
    "\n",
    "Начнём с отборам признаков с помощью линейной модели. Как известно, веса линейной модели означают вклад каждого признака в предсказание модели, а значит, модуль этого вклада можно интерпретировать как важность признаков. Такой метод отбора называются встроенным или embedded methods, так как он заложен в особенности модели.\n",
    "\n",
    "__Задание 8 (0.5 балла).__ Оставьте 40 признаков с наибольшим модулем соответствующего параметра линейной модели. Обучите модели заново и оцените её качество. Замерьте скорость такого отбора признаков.\n",
    "\n",
    "Изменилось ли качество? Как?\n",
    "\n"
   ]
  },
  {
   "cell_type": "code",
   "execution_count": 48,
   "id": "35da6456",
   "metadata": {
    "execution": {
     "iopub.execute_input": "2021-12-17T16:46:48.538078Z",
     "iopub.status.busy": "2021-12-17T16:46:48.537078Z",
     "iopub.status.idle": "2021-12-17T16:46:48.540483Z",
     "shell.execute_reply": "2021-12-17T16:46:48.540942Z"
    },
    "papermill": {
     "duration": 0.099333,
     "end_time": "2021-12-17T16:46:48.541114",
     "exception": false,
     "start_time": "2021-12-17T16:46:48.441781",
     "status": "completed"
    },
    "tags": []
   },
   "outputs": [],
   "source": []
  },
  {
   "cell_type": "markdown",
   "id": "8233700c",
   "metadata": {
    "papermill": {
     "duration": 0.092198,
     "end_time": "2021-12-17T16:46:48.726139",
     "exception": false,
     "start_time": "2021-12-17T16:46:48.633941",
     "status": "completed"
    },
    "tags": []
   },
   "source": [
    "А теперь давайте подумаем, что мы не учли. Мы предположили, что признаки вносят вклад равномерно, но не учли их масштаба. Если мы умножим один из признаков в 100 раз, то без учёта регуляризации его вес уменьшится в эти же 100 раз. А мы на основе этого отбираем признаки! Давайте сначала отмасштабируем признаки одним из способов, а только потом будем удалять признаки. \n",
    "\n",
    "Кстати, в таком случае надо пересчитать качество на всех признаках (сделайте это ниже). Если вы сделали нормирование признаков в самом начале, то попробуйте отобрать признаки на неотмасштабированных данных.\n",
    "\n",
    "Что получилось?"
   ]
  },
  {
   "cell_type": "code",
   "execution_count": 49,
   "id": "a205a535",
   "metadata": {
    "execution": {
     "iopub.execute_input": "2021-12-17T16:46:48.917050Z",
     "iopub.status.busy": "2021-12-17T16:46:48.916245Z",
     "iopub.status.idle": "2021-12-17T16:46:48.918553Z",
     "shell.execute_reply": "2021-12-17T16:46:48.919045Z"
    },
    "papermill": {
     "duration": 0.100509,
     "end_time": "2021-12-17T16:46:48.919221",
     "exception": false,
     "start_time": "2021-12-17T16:46:48.818712",
     "status": "completed"
    },
    "tags": []
   },
   "outputs": [],
   "source": []
  },
  {
   "cell_type": "markdown",
   "id": "299064d3",
   "metadata": {
    "papermill": {
     "duration": 0.096412,
     "end_time": "2021-12-17T16:46:49.109181",
     "exception": false,
     "start_time": "2021-12-17T16:46:49.012769",
     "status": "completed"
    },
    "tags": []
   },
   "source": [
    "Вопрос на засыпку: one-hot кодирование возвращает нам единичные признаки-индикаторы. Попробуйте также отскалировать их, как и обычные числовые, и снова выбрать 40 главных по вкладу признаков. Изменился ли их список? Изменится ли качество?"
   ]
  },
  {
   "cell_type": "code",
   "execution_count": 50,
   "id": "472a96d3",
   "metadata": {
    "execution": {
     "iopub.execute_input": "2021-12-17T16:46:49.298564Z",
     "iopub.status.busy": "2021-12-17T16:46:49.297040Z",
     "iopub.status.idle": "2021-12-17T16:46:49.301360Z",
     "shell.execute_reply": "2021-12-17T16:46:49.300777Z"
    },
    "papermill": {
     "duration": 0.099558,
     "end_time": "2021-12-17T16:46:49.301502",
     "exception": false,
     "start_time": "2021-12-17T16:46:49.201944",
     "status": "completed"
    },
    "tags": []
   },
   "outputs": [],
   "source": []
  },
  {
   "cell_type": "markdown",
   "id": "bdc245bc",
   "metadata": {
    "papermill": {
     "duration": 0.092163,
     "end_time": "2021-12-17T16:46:49.486474",
     "exception": false,
     "start_time": "2021-12-17T16:46:49.394311",
     "status": "completed"
    },
    "tags": []
   },
   "source": [
    "### Методы фильтрации\n",
    "\n",
    "\n",
    "Давайте отбирать признаки умнее, а именно через подсчёт некоторой функции для каждого признака. На основании значений этой функции будем оставлять наиболее важные признаки. Методы этого семейства называют фильтрующими или  filter methods. \n",
    "\n",
    "В качестве такой функции будем считать t-статистику:\n",
    "\n",
    "$$t(j) = \\frac{|\\mu_+ - \\mu_-|}{\\sqrt{\\frac{n_+ \\sigma^2_+ + n_- \\sigma^2_-}{n_+ + n_-}}},$$\n",
    "\n",
    "где $\\mu$, $\\sigma$, $n$ соответственно среднее, стандартное отклонение и количество объектов каждого из классов.\n",
    "\n",
    "__Задание 9 (0.5 балла).__ Оставьте 40 признаков с наибольшим значением $t$ и замерьте качество. Не забудьте замерить скорость отбора признаков в этом случае.\n",
    "\n"
   ]
  },
  {
   "cell_type": "code",
   "execution_count": 51,
   "id": "a8a7c240",
   "metadata": {
    "execution": {
     "iopub.execute_input": "2021-12-17T16:46:49.675058Z",
     "iopub.status.busy": "2021-12-17T16:46:49.674401Z",
     "iopub.status.idle": "2021-12-17T16:46:49.677133Z",
     "shell.execute_reply": "2021-12-17T16:46:49.677713Z"
    },
    "papermill": {
     "duration": 0.098584,
     "end_time": "2021-12-17T16:46:49.677892",
     "exception": false,
     "start_time": "2021-12-17T16:46:49.579308",
     "status": "completed"
    },
    "tags": []
   },
   "outputs": [],
   "source": []
  },
  {
   "cell_type": "markdown",
   "id": "b06f838b",
   "metadata": {
    "papermill": {
     "duration": 0.092582,
     "end_time": "2021-12-17T16:46:49.863477",
     "exception": false,
     "start_time": "2021-12-17T16:46:49.770895",
     "status": "completed"
    },
    "tags": []
   },
   "source": [
    "### Методы-обёртки\n",
    "\n",
    "__Задание 10 (1 балл).__ \n",
    "\n",
    "Третий из рассматриваемых нами методов работает следующим образом: мы исключаем по очереди один из признаков и смотрим, как это влияет на качество. Удаляем признаки таким жадным способом, пока не окажется выполненым некоторое условие (количество признаков или ухудшение качества).\n",
    "\n",
    "Заметим, что нельзя оценивать качество по тестовой выборке, иначе мы можем переобучиться, как, например, при настройке гиперпараметров. Разделите обучающую выборку на 2 части, на одной из них обучайте модель без одного из признаков,  на второй части оценивайте качество. Исходную тестовую выборку стоит использовать только для финальной оценки качества.\n",
    "\n",
    "Снова оставьте только 40 признаков и оцените качество на тестовой выборке. Сколько времени занял такой отбор признаков?"
   ]
  },
  {
   "cell_type": "code",
   "execution_count": 52,
   "id": "46a0d1bb",
   "metadata": {
    "execution": {
     "iopub.execute_input": "2021-12-17T16:46:50.056130Z",
     "iopub.status.busy": "2021-12-17T16:46:50.055447Z",
     "iopub.status.idle": "2021-12-17T16:46:50.058401Z",
     "shell.execute_reply": "2021-12-17T16:46:50.058948Z"
    },
    "papermill": {
     "duration": 0.101941,
     "end_time": "2021-12-17T16:46:50.059118",
     "exception": false,
     "start_time": "2021-12-17T16:46:49.957177",
     "status": "completed"
    },
    "tags": []
   },
   "outputs": [],
   "source": []
  },
  {
   "cell_type": "markdown",
   "id": "506b0d20",
   "metadata": {
    "papermill": {
     "duration": 0.094785,
     "end_time": "2021-12-17T16:46:50.247329",
     "exception": false,
     "start_time": "2021-12-17T16:46:50.152544",
     "status": "completed"
    },
    "tags": []
   },
   "source": [
    "Стоит отметить, что с помощью такого метода можно пойти и в обратную сторону. Попробуйте _добавлять_ по одному самому полезному признаку в выборку до тех пор, пока не наберется 40 штук. Найдется ли порог, при котором добавление следующих признаков будет только ухудшать качество модели?"
   ]
  },
  {
   "cell_type": "code",
   "execution_count": 53,
   "id": "40f53fce",
   "metadata": {
    "execution": {
     "iopub.execute_input": "2021-12-17T16:46:50.436595Z",
     "iopub.status.busy": "2021-12-17T16:46:50.435930Z",
     "iopub.status.idle": "2021-12-17T16:46:50.438605Z",
     "shell.execute_reply": "2021-12-17T16:46:50.439133Z"
    },
    "papermill": {
     "duration": 0.098968,
     "end_time": "2021-12-17T16:46:50.439300",
     "exception": false,
     "start_time": "2021-12-17T16:46:50.340332",
     "status": "completed"
    },
    "tags": []
   },
   "outputs": [],
   "source": []
  },
  {
   "cell_type": "markdown",
   "id": "6700e6fd",
   "metadata": {
    "papermill": {
     "duration": 0.103981,
     "end_time": "2021-12-17T16:46:50.648796",
     "exception": false,
     "start_time": "2021-12-17T16:46:50.544815",
     "status": "completed"
    },
    "tags": []
   },
   "source": [
    "Давайте подведём итоги по отбору признаков. Назовите преимущества и недостатки каждого из методов. Какой метод привёл к наилучшему качеству?\n",
    "\n",
    "**Ответ:** "
   ]
  },
  {
   "cell_type": "markdown",
   "id": "edca7ffc",
   "metadata": {
    "papermill": {
     "duration": 0.10425,
     "end_time": "2021-12-17T16:46:50.854154",
     "exception": false,
     "start_time": "2021-12-17T16:46:50.749904",
     "status": "completed"
    },
    "tags": []
   },
   "source": [
    "# Часть 3. Оценка экономического эффекта модели\n",
    "\n",
    "В данной части мы займемся тем, что от вас скорее всего потребуется на реальной работе (помимо перекладки `json`, разумеется). А именно: мы соберем несколько специализированных метрик качества, попытаемся настроить модель на максимизацию _прибыли_ и оценим, сколько вообще получится заработать на этом. Разумеется, здесь будет сделано множество упрощающих жизнь допущений, но обо всем по порядку. \n",
    "\n",
    "__Задание 11 (1 балл).__ Допустим, работники вашего колл-центра получают за один звонок клиенту 1 доллар. При согласии клиента на предлагаемые условия он принесет в банк 10 долларов.\n",
    "\n",
    "Если вы всё прослушали на экономике, то напомним, что выручка — это сколько денег нам принесли клиенты, а прибыль — выручка за вычетом расходов на зарплату и прочее.\n",
    "\n",
    "Загрузите данные о телемаркетинге из предыдущего блока заданий. В этой части не нужно делить выборку - мы будем использовать кросс-валидацию. Используйте 5 фолдов, сделайте `shuffle=True, random_state=500`. По кросс-валидации у вас получится 5 вариантов обучающей и тестовой выборки. Обучите логистическую регрессию на каждой обучающей выборке (воспользуйтесь one-hot для категориальных признаков, гиперпараметры оставьте со значениями по умолчанию) и сделайте предсказания для соответствующих тестовых выборок. Допустим, всем положительным прогнозам ваши сотрудники решили позвонить. Посчитайте на всех тестовых выборках выручку и усредните. Сколько денег вы в среднем заработаете? Также вычислите стандартное отклонение.\n",
    "\n",
    "Сколько из заработанных денег придётся отдать операторам вашего колл-центра?"
   ]
  },
  {
   "cell_type": "code",
   "execution_count": 54,
   "id": "02998af0",
   "metadata": {
    "execution": {
     "iopub.execute_input": "2021-12-17T16:46:51.050651Z",
     "iopub.status.busy": "2021-12-17T16:46:51.049806Z",
     "iopub.status.idle": "2021-12-17T16:46:51.051793Z",
     "shell.execute_reply": "2021-12-17T16:46:51.051269Z"
    },
    "papermill": {
     "duration": 0.101719,
     "end_time": "2021-12-17T16:46:51.051958",
     "exception": false,
     "start_time": "2021-12-17T16:46:50.950239",
     "status": "completed"
    },
    "tags": []
   },
   "outputs": [],
   "source": []
  },
  {
   "cell_type": "markdown",
   "id": "1c1a7be0",
   "metadata": {
    "papermill": {
     "duration": 0.097098,
     "end_time": "2021-12-17T16:46:51.243828",
     "exception": false,
     "start_time": "2021-12-17T16:46:51.146730",
     "status": "completed"
    },
    "tags": []
   },
   "source": [
    "Внесем некоторую долю случайности. Пусть теперь согласный на условия клиент будет приносить не 10 долларов, а случайную величину, равномерно распределенную в интервале $[0;20)$. Проделайте все те же самые действия. Для имитации реальной ситуации **НЕ** фиксируйте `random_seed` при подсчете выручки с клиента. Что получилось?"
   ]
  },
  {
   "cell_type": "code",
   "execution_count": 55,
   "id": "50ac26c4",
   "metadata": {
    "execution": {
     "iopub.execute_input": "2021-12-17T16:46:51.437563Z",
     "iopub.status.busy": "2021-12-17T16:46:51.436473Z",
     "iopub.status.idle": "2021-12-17T16:46:51.439087Z",
     "shell.execute_reply": "2021-12-17T16:46:51.438486Z"
    },
    "papermill": {
     "duration": 0.100401,
     "end_time": "2021-12-17T16:46:51.439232",
     "exception": false,
     "start_time": "2021-12-17T16:46:51.338831",
     "status": "completed"
    },
    "tags": []
   },
   "outputs": [],
   "source": []
  },
  {
   "cell_type": "markdown",
   "id": "e485a556",
   "metadata": {
    "papermill": {
     "duration": 0.094726,
     "end_time": "2021-12-17T16:46:51.628254",
     "exception": false,
     "start_time": "2021-12-17T16:46:51.533528",
     "status": "completed"
    },
    "tags": []
   },
   "source": [
    "Настройте по кросс-валидации коэффициент регуляризации модели для максимизации прибыли (считайте как случайную величину выше). Удалось ли получить какой-то выигрыш? При каком коэффициенте регуляризациии прибыль максимальна? Постройте график зависимости ожидаемой прибыли от коэффициента, также укажите стандартные отклонения (вам поможет `plt.errorbar`)."
   ]
  },
  {
   "cell_type": "code",
   "execution_count": 56,
   "id": "381c4554",
   "metadata": {
    "execution": {
     "iopub.execute_input": "2021-12-17T16:46:51.822700Z",
     "iopub.status.busy": "2021-12-17T16:46:51.821672Z",
     "iopub.status.idle": "2021-12-17T16:46:51.824117Z",
     "shell.execute_reply": "2021-12-17T16:46:51.823541Z"
    },
    "papermill": {
     "duration": 0.101157,
     "end_time": "2021-12-17T16:46:51.824275",
     "exception": false,
     "start_time": "2021-12-17T16:46:51.723118",
     "status": "completed"
    },
    "tags": []
   },
   "outputs": [],
   "source": []
  },
  {
   "cell_type": "markdown",
   "id": "bfda2e16",
   "metadata": {
    "papermill": {
     "duration": 0.094456,
     "end_time": "2021-12-17T16:46:52.013700",
     "exception": false,
     "start_time": "2021-12-17T16:46:51.919244",
     "status": "completed"
    },
    "tags": []
   },
   "source": [
    "Попробуйте запустить перебор несколько раз. Находится ли каждый раз один и тот же \"лучший\" коэффициент? Присутствует ли какая-то закономерность? Какие вы можете сделать из этого выводы?"
   ]
  },
  {
   "cell_type": "code",
   "execution_count": 57,
   "id": "7b8b4f62",
   "metadata": {
    "execution": {
     "iopub.execute_input": "2021-12-17T16:46:52.206266Z",
     "iopub.status.busy": "2021-12-17T16:46:52.205264Z",
     "iopub.status.idle": "2021-12-17T16:46:52.208507Z",
     "shell.execute_reply": "2021-12-17T16:46:52.209137Z"
    },
    "papermill": {
     "duration": 0.101345,
     "end_time": "2021-12-17T16:46:52.209308",
     "exception": false,
     "start_time": "2021-12-17T16:46:52.107963",
     "status": "completed"
    },
    "tags": []
   },
   "outputs": [],
   "source": []
  },
  {
   "cell_type": "markdown",
   "id": "500242a8",
   "metadata": {
    "papermill": {
     "duration": 0.093445,
     "end_time": "2021-12-17T16:46:52.397585",
     "exception": false,
     "start_time": "2021-12-17T16:46:52.304140",
     "status": "completed"
    },
    "tags": []
   },
   "source": [
    "__Задание 12 (1 балл).__ Выше мы уже описали примерную экономическую модель вашей задачи. Как вы считаете, что для вашего бизнеса важнее — хороший precision или recall модели? Почему?\n",
    "\n",
    "__Ответ:__\n",
    "\n"
   ]
  },
  {
   "cell_type": "markdown",
   "id": "950438f5",
   "metadata": {
    "papermill": {
     "duration": 0.093428,
     "end_time": "2021-12-17T16:46:52.585486",
     "exception": false,
     "start_time": "2021-12-17T16:46:52.492058",
     "status": "completed"
    },
    "tags": []
   },
   "source": [
    "Вспомним, что на самом деле логистическая регрессия предсказывает нам вероятности положительного класса для объекта. Возможно, путем настройки порога бинаризации этих вероятностей мы сможем получить какой-то выигрыш? Проверьте ваши рассуждения выше с помощью настройки порога бинаризации на кросс-валидации для максимизации прибыли. Воспользуйтесь сеткой от 0 до 1 с шагом 0.01. Напомним, что снижение порога дает нам более высокий recall и более низкий precision, и наоборот."
   ]
  },
  {
   "cell_type": "code",
   "execution_count": 58,
   "id": "d4933d53",
   "metadata": {
    "execution": {
     "iopub.execute_input": "2021-12-17T16:46:52.776656Z",
     "iopub.status.busy": "2021-12-17T16:46:52.775597Z",
     "iopub.status.idle": "2021-12-17T16:46:52.778718Z",
     "shell.execute_reply": "2021-12-17T16:46:52.779316Z"
    },
    "papermill": {
     "duration": 0.100599,
     "end_time": "2021-12-17T16:46:52.779491",
     "exception": false,
     "start_time": "2021-12-17T16:46:52.678892",
     "status": "completed"
    },
    "tags": []
   },
   "outputs": [],
   "source": []
  },
  {
   "cell_type": "markdown",
   "id": "27e69f9a",
   "metadata": {
    "papermill": {
     "duration": 0.098183,
     "end_time": "2021-12-17T16:46:52.974716",
     "exception": false,
     "start_time": "2021-12-17T16:46:52.876533",
     "status": "completed"
    },
    "tags": []
   },
   "source": [
    "Постройте график зависимости прибыли от порога бинаризации, также отметьте на нем стандартные отклонения. Выделите наилучший порог. \n",
    "\n",
    "\n",
    "__Вопрос:__ Замечаете ли вы какую-то закономерность? Для правильного ответа на этот вопрос попробуйте запустить несколько раз и задумайтесь, почему порог получается в какой-то конкретной области?"
   ]
  },
  {
   "cell_type": "code",
   "execution_count": 59,
   "id": "a748039e",
   "metadata": {
    "execution": {
     "iopub.execute_input": "2021-12-17T16:46:53.232689Z",
     "iopub.status.busy": "2021-12-17T16:46:53.232029Z",
     "iopub.status.idle": "2021-12-17T16:46:53.234611Z",
     "shell.execute_reply": "2021-12-17T16:46:53.235134Z"
    },
    "papermill": {
     "duration": 0.163858,
     "end_time": "2021-12-17T16:46:53.235313",
     "exception": false,
     "start_time": "2021-12-17T16:46:53.071455",
     "status": "completed"
    },
    "tags": []
   },
   "outputs": [],
   "source": []
  },
  {
   "cell_type": "markdown",
   "id": "704ea439",
   "metadata": {
    "papermill": {
     "duration": 0.093972,
     "end_time": "2021-12-17T16:46:53.423801",
     "exception": false,
     "start_time": "2021-12-17T16:46:53.329829",
     "status": "completed"
    },
    "tags": []
   },
   "source": [
    "Каковы значения precision и recall на выбранном пороге? Оцените по кросс-валидации. Также вычислите стандартное отклонение."
   ]
  },
  {
   "cell_type": "code",
   "execution_count": 60,
   "id": "df3a8d67",
   "metadata": {
    "execution": {
     "iopub.execute_input": "2021-12-17T16:46:53.616546Z",
     "iopub.status.busy": "2021-12-17T16:46:53.615835Z",
     "iopub.status.idle": "2021-12-17T16:46:53.618535Z",
     "shell.execute_reply": "2021-12-17T16:46:53.619043Z"
    },
    "papermill": {
     "duration": 0.100733,
     "end_time": "2021-12-17T16:46:53.619211",
     "exception": false,
     "start_time": "2021-12-17T16:46:53.518478",
     "status": "completed"
    },
    "tags": []
   },
   "outputs": [],
   "source": []
  },
  {
   "cell_type": "markdown",
   "id": "a258b9d1",
   "metadata": {
    "papermill": {
     "duration": 0.096193,
     "end_time": "2021-12-17T16:46:53.810569",
     "exception": false,
     "start_time": "2021-12-17T16:46:53.714376",
     "status": "completed"
    },
    "tags": []
   },
   "source": [
    "Как вы, вероятно, уже поняли, ваша модель склоняется к более высокому recall. Попробуйте оценить качество модели с помощью `PR-AUC` в зоне recall $\\geq$ 0.5. Сделайте это следующим образом - выберите только те пороги, на которых достигается необходимый recall, затем интерпретируйте отсеченный в единичном квадрате прямоугольник как новый единичный квадрат и посчитайте площадь под отсеченной кривой. "
   ]
  },
  {
   "cell_type": "code",
   "execution_count": 61,
   "id": "570b8e00",
   "metadata": {
    "execution": {
     "iopub.execute_input": "2021-12-17T16:46:54.007988Z",
     "iopub.status.busy": "2021-12-17T16:46:54.006930Z",
     "iopub.status.idle": "2021-12-17T16:46:54.011321Z",
     "shell.execute_reply": "2021-12-17T16:46:54.010722Z"
    },
    "papermill": {
     "duration": 0.104027,
     "end_time": "2021-12-17T16:46:54.011483",
     "exception": false,
     "start_time": "2021-12-17T16:46:53.907456",
     "status": "completed"
    },
    "tags": []
   },
   "outputs": [],
   "source": []
  },
  {
   "cell_type": "markdown",
   "id": "4ea21b49",
   "metadata": {
    "papermill": {
     "duration": 0.09499,
     "end_time": "2021-12-17T16:46:54.200994",
     "exception": false,
     "start_time": "2021-12-17T16:46:54.106004",
     "status": "completed"
    },
    "tags": []
   },
   "source": [
    "__Бонус (0.01 балла):__ что вы кушали в день сдачи данного ДЗ на завтрак?\n",
    "\n",
    "__Ответ:__"
   ]
  }
 ],
 "metadata": {
  "kernelspec": {
   "display_name": "Python 3",
   "language": "python",
   "name": "python3"
  },
  "language_info": {
   "codemirror_mode": {
    "name": "ipython",
    "version": 3
   },
   "file_extension": ".py",
   "mimetype": "text/x-python",
   "name": "python",
   "nbconvert_exporter": "python",
   "pygments_lexer": "ipython3",
   "version": "3.7.12"
  },
  "papermill": {
   "default_parameters": {},
   "duration": 338.026069,
   "end_time": "2021-12-17T16:46:55.008729",
   "environment_variables": {},
   "exception": null,
   "input_path": "__notebook__.ipynb",
   "output_path": "__notebook__.ipynb",
   "parameters": {},
   "start_time": "2021-12-17T16:41:16.982660",
   "version": "2.3.3"
  }
 },
 "nbformat": 4,
 "nbformat_minor": 5
}
