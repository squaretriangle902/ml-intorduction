{
 "cells": [
  {
   "cell_type": "code",
   "execution_count": 1,
   "id": "63b8d4fa",
   "metadata": {
    "execution": {
     "iopub.execute_input": "2021-12-10T15:37:44.352237Z",
     "iopub.status.busy": "2021-12-10T15:37:44.351292Z",
     "iopub.status.idle": "2021-12-10T15:37:46.190554Z",
     "shell.execute_reply": "2021-12-10T15:37:46.189885Z",
     "shell.execute_reply.started": "2021-12-10T14:48:29.517706Z"
    },
    "papermill": {
     "duration": 1.876917,
     "end_time": "2021-12-10T15:37:46.190718",
     "exception": false,
     "start_time": "2021-12-10T15:37:44.313801",
     "status": "completed"
    },
    "tags": []
   },
   "outputs": [],
   "source": [
    "import numpy as np \n",
    "import pandas as pd \n",
    "import matplotlib.pyplot as plt \n",
    "import seaborn as sns \n",
    "import os\n",
    "import nltk\n",
    "from sklearn.pipeline import Pipeline\n",
    "from sklearn.feature_extraction.text import TfidfVectorizer\n",
    "from sklearn.model_selection import train_test_split\n",
    "from nltk import word_tokenize          \n",
    "from nltk.stem import WordNetLemmatizer \n",
    "from sklearn.linear_model import LogisticRegression\n",
    "from sklearn.metrics import accuracy_score"
   ]
  },
  {
   "cell_type": "code",
   "execution_count": 2,
   "id": "61528d56",
   "metadata": {
    "execution": {
     "iopub.execute_input": "2021-12-10T15:37:46.229792Z",
     "iopub.status.busy": "2021-12-10T15:37:46.229119Z",
     "iopub.status.idle": "2021-12-10T15:37:47.006271Z",
     "shell.execute_reply": "2021-12-10T15:37:47.005686Z",
     "shell.execute_reply.started": "2021-12-10T15:06:40.541256Z"
    },
    "papermill": {
     "duration": 0.79817,
     "end_time": "2021-12-10T15:37:47.006409",
     "exception": false,
     "start_time": "2021-12-10T15:37:46.208239",
     "status": "completed"
    },
    "tags": []
   },
   "outputs": [],
   "source": [
    "train = pd.DataFrame(pd.read_json('../input/cooking/train.json'))\n",
    "test = pd.DataFrame(pd.read_json('../input/cooking/test.json'))"
   ]
  },
  {
   "cell_type": "code",
   "execution_count": 3,
   "id": "a95262ad",
   "metadata": {
    "execution": {
     "iopub.execute_input": "2021-12-10T15:37:47.047792Z",
     "iopub.status.busy": "2021-12-10T15:37:47.046793Z",
     "iopub.status.idle": "2021-12-10T15:37:47.060150Z",
     "shell.execute_reply": "2021-12-10T15:37:47.060656Z",
     "shell.execute_reply.started": "2021-12-10T15:06:44.381619Z"
    },
    "papermill": {
     "duration": 0.037206,
     "end_time": "2021-12-10T15:37:47.060838",
     "exception": false,
     "start_time": "2021-12-10T15:37:47.023632",
     "status": "completed"
    },
    "tags": []
   },
   "outputs": [
    {
     "data": {
      "text/html": [
       "<div>\n",
       "<style scoped>\n",
       "    .dataframe tbody tr th:only-of-type {\n",
       "        vertical-align: middle;\n",
       "    }\n",
       "\n",
       "    .dataframe tbody tr th {\n",
       "        vertical-align: top;\n",
       "    }\n",
       "\n",
       "    .dataframe thead th {\n",
       "        text-align: right;\n",
       "    }\n",
       "</style>\n",
       "<table border=\"1\" class=\"dataframe\">\n",
       "  <thead>\n",
       "    <tr style=\"text-align: right;\">\n",
       "      <th></th>\n",
       "      <th>id</th>\n",
       "      <th>cuisine</th>\n",
       "      <th>ingredients</th>\n",
       "    </tr>\n",
       "  </thead>\n",
       "  <tbody>\n",
       "    <tr>\n",
       "      <th>0</th>\n",
       "      <td>10259</td>\n",
       "      <td>greek</td>\n",
       "      <td>[romaine lettuce, black olives, grape tomatoes...</td>\n",
       "    </tr>\n",
       "    <tr>\n",
       "      <th>1</th>\n",
       "      <td>25693</td>\n",
       "      <td>southern_us</td>\n",
       "      <td>[plain flour, ground pepper, salt, tomatoes, g...</td>\n",
       "    </tr>\n",
       "    <tr>\n",
       "      <th>2</th>\n",
       "      <td>20130</td>\n",
       "      <td>filipino</td>\n",
       "      <td>[eggs, pepper, salt, mayonaise, cooking oil, g...</td>\n",
       "    </tr>\n",
       "    <tr>\n",
       "      <th>3</th>\n",
       "      <td>22213</td>\n",
       "      <td>indian</td>\n",
       "      <td>[water, vegetable oil, wheat, salt]</td>\n",
       "    </tr>\n",
       "    <tr>\n",
       "      <th>4</th>\n",
       "      <td>13162</td>\n",
       "      <td>indian</td>\n",
       "      <td>[black pepper, shallots, cornflour, cayenne pe...</td>\n",
       "    </tr>\n",
       "  </tbody>\n",
       "</table>\n",
       "</div>"
      ],
      "text/plain": [
       "      id      cuisine                                        ingredients\n",
       "0  10259        greek  [romaine lettuce, black olives, grape tomatoes...\n",
       "1  25693  southern_us  [plain flour, ground pepper, salt, tomatoes, g...\n",
       "2  20130     filipino  [eggs, pepper, salt, mayonaise, cooking oil, g...\n",
       "3  22213       indian                [water, vegetable oil, wheat, salt]\n",
       "4  13162       indian  [black pepper, shallots, cornflour, cayenne pe..."
      ]
     },
     "execution_count": 3,
     "metadata": {},
     "output_type": "execute_result"
    }
   ],
   "source": [
    "train.head()"
   ]
  },
  {
   "cell_type": "code",
   "execution_count": 4,
   "id": "17a06ba4",
   "metadata": {
    "execution": {
     "iopub.execute_input": "2021-12-10T15:37:47.110863Z",
     "iopub.status.busy": "2021-12-10T15:37:47.109711Z",
     "iopub.status.idle": "2021-12-10T15:37:47.118253Z",
     "shell.execute_reply": "2021-12-10T15:37:47.117608Z",
     "shell.execute_reply.started": "2021-12-10T15:06:46.075605Z"
    },
    "papermill": {
     "duration": 0.040184,
     "end_time": "2021-12-10T15:37:47.118398",
     "exception": false,
     "start_time": "2021-12-10T15:37:47.078214",
     "status": "completed"
    },
    "tags": []
   },
   "outputs": [
    {
     "data": {
      "text/plain": [
       "array(['greek', 'southern_us', 'filipino', 'indian', 'jamaican',\n",
       "       'spanish', 'italian', 'mexican', 'chinese', 'british', 'thai',\n",
       "       'vietnamese', 'cajun_creole', 'brazilian', 'french', 'japanese',\n",
       "       'irish', 'korean', 'moroccan', 'russian'], dtype=object)"
      ]
     },
     "execution_count": 4,
     "metadata": {},
     "output_type": "execute_result"
    }
   ],
   "source": [
    "train['cuisine'].unique()"
   ]
  },
  {
   "cell_type": "code",
   "execution_count": 5,
   "id": "daa85a2e",
   "metadata": {
    "execution": {
     "iopub.execute_input": "2021-12-10T15:37:47.173350Z",
     "iopub.status.busy": "2021-12-10T15:37:47.172454Z",
     "iopub.status.idle": "2021-12-10T15:37:47.632033Z",
     "shell.execute_reply": "2021-12-10T15:37:47.632589Z",
     "shell.execute_reply.started": "2021-12-10T15:06:47.953261Z"
    },
    "papermill": {
     "duration": 0.496186,
     "end_time": "2021-12-10T15:37:47.632817",
     "exception": false,
     "start_time": "2021-12-10T15:37:47.136631",
     "status": "completed"
    },
    "tags": []
   },
   "outputs": [
    {
     "data": {
      "text/plain": [
       "<AxesSubplot:>"
      ]
     },
     "execution_count": 5,
     "metadata": {},
     "output_type": "execute_result"
    },
    {
     "data": {
      "image/png": "[encoded data removed]",
      "text/plain": [
       "<Figure size 432x288 with 1 Axes>"
      ]
     },
     "metadata": {
      "needs_background": "light"
     },
     "output_type": "display_data"
    }
   ],
   "source": [
    "train['ingredients'].str.len().hist()"
   ]
  },
  {
   "cell_type": "code",
   "execution_count": 6,
   "id": "a5f12ecb",
   "metadata": {
    "execution": {
     "iopub.execute_input": "2021-12-10T15:37:47.679801Z",
     "iopub.status.busy": "2021-12-10T15:37:47.677041Z",
     "iopub.status.idle": "2021-12-10T15:37:47.801204Z",
     "shell.execute_reply": "2021-12-10T15:37:47.801665Z",
     "shell.execute_reply.started": "2021-12-10T15:06:50.150300Z"
    },
    "papermill": {
     "duration": 0.149739,
     "end_time": "2021-12-10T15:37:47.801862",
     "exception": false,
     "start_time": "2021-12-10T15:37:47.652123",
     "status": "completed"
    },
    "tags": []
   },
   "outputs": [
    {
     "data": {
      "text/html": [
       "<div>\n",
       "<style scoped>\n",
       "    .dataframe tbody tr th:only-of-type {\n",
       "        vertical-align: middle;\n",
       "    }\n",
       "\n",
       "    .dataframe tbody tr th {\n",
       "        vertical-align: top;\n",
       "    }\n",
       "\n",
       "    .dataframe thead tr th {\n",
       "        text-align: left;\n",
       "    }\n",
       "\n",
       "    .dataframe thead tr:last-of-type th {\n",
       "        text-align: right;\n",
       "    }\n",
       "</style>\n",
       "<table border=\"1\" class=\"dataframe\">\n",
       "  <thead>\n",
       "    <tr>\n",
       "      <th></th>\n",
       "      <th colspan=\"8\" halign=\"left\">id</th>\n",
       "    </tr>\n",
       "    <tr>\n",
       "      <th></th>\n",
       "      <th>count</th>\n",
       "      <th>mean</th>\n",
       "      <th>std</th>\n",
       "      <th>min</th>\n",
       "      <th>25%</th>\n",
       "      <th>50%</th>\n",
       "      <th>75%</th>\n",
       "      <th>max</th>\n",
       "    </tr>\n",
       "    <tr>\n",
       "      <th>cuisine</th>\n",
       "      <th></th>\n",
       "      <th></th>\n",
       "      <th></th>\n",
       "      <th></th>\n",
       "      <th></th>\n",
       "      <th></th>\n",
       "      <th></th>\n",
       "      <th></th>\n",
       "    </tr>\n",
       "  </thead>\n",
       "  <tbody>\n",
       "    <tr>\n",
       "      <th>brazilian</th>\n",
       "      <td>467.0</td>\n",
       "      <td>25472.366167</td>\n",
       "      <td>14283.106437</td>\n",
       "      <td>203.0</td>\n",
       "      <td>13174.00</td>\n",
       "      <td>25620.0</td>\n",
       "      <td>37723.00</td>\n",
       "      <td>49683.0</td>\n",
       "    </tr>\n",
       "    <tr>\n",
       "      <th>british</th>\n",
       "      <td>804.0</td>\n",
       "      <td>25212.152985</td>\n",
       "      <td>14266.986737</td>\n",
       "      <td>168.0</td>\n",
       "      <td>12647.75</td>\n",
       "      <td>25205.5</td>\n",
       "      <td>37975.00</td>\n",
       "      <td>49648.0</td>\n",
       "    </tr>\n",
       "    <tr>\n",
       "      <th>cajun_creole</th>\n",
       "      <td>1546.0</td>\n",
       "      <td>24765.837646</td>\n",
       "      <td>14019.280693</td>\n",
       "      <td>29.0</td>\n",
       "      <td>12664.25</td>\n",
       "      <td>24247.0</td>\n",
       "      <td>36679.50</td>\n",
       "      <td>49702.0</td>\n",
       "    </tr>\n",
       "    <tr>\n",
       "      <th>chinese</th>\n",
       "      <td>2673.0</td>\n",
       "      <td>24755.108118</td>\n",
       "      <td>14392.581659</td>\n",
       "      <td>3.0</td>\n",
       "      <td>12199.00</td>\n",
       "      <td>24941.0</td>\n",
       "      <td>37286.00</td>\n",
       "      <td>49673.0</td>\n",
       "    </tr>\n",
       "    <tr>\n",
       "      <th>filipino</th>\n",
       "      <td>755.0</td>\n",
       "      <td>24885.507285</td>\n",
       "      <td>14317.468463</td>\n",
       "      <td>87.0</td>\n",
       "      <td>12833.00</td>\n",
       "      <td>24976.0</td>\n",
       "      <td>37534.50</td>\n",
       "      <td>49682.0</td>\n",
       "    </tr>\n",
       "    <tr>\n",
       "      <th>french</th>\n",
       "      <td>2646.0</td>\n",
       "      <td>24634.241497</td>\n",
       "      <td>14091.200530</td>\n",
       "      <td>2.0</td>\n",
       "      <td>12429.00</td>\n",
       "      <td>24363.5</td>\n",
       "      <td>36754.75</td>\n",
       "      <td>49696.0</td>\n",
       "    </tr>\n",
       "    <tr>\n",
       "      <th>greek</th>\n",
       "      <td>1175.0</td>\n",
       "      <td>24658.258723</td>\n",
       "      <td>14525.186898</td>\n",
       "      <td>34.0</td>\n",
       "      <td>11965.50</td>\n",
       "      <td>24762.0</td>\n",
       "      <td>37225.00</td>\n",
       "      <td>49710.0</td>\n",
       "    </tr>\n",
       "    <tr>\n",
       "      <th>indian</th>\n",
       "      <td>3003.0</td>\n",
       "      <td>25165.607393</td>\n",
       "      <td>14340.912253</td>\n",
       "      <td>16.0</td>\n",
       "      <td>12642.50</td>\n",
       "      <td>25307.0</td>\n",
       "      <td>37539.00</td>\n",
       "      <td>49716.0</td>\n",
       "    </tr>\n",
       "    <tr>\n",
       "      <th>irish</th>\n",
       "      <td>667.0</td>\n",
       "      <td>24995.655172</td>\n",
       "      <td>14429.338971</td>\n",
       "      <td>44.0</td>\n",
       "      <td>12046.50</td>\n",
       "      <td>25495.0</td>\n",
       "      <td>37140.00</td>\n",
       "      <td>49714.0</td>\n",
       "    </tr>\n",
       "    <tr>\n",
       "      <th>italian</th>\n",
       "      <td>7838.0</td>\n",
       "      <td>24736.780301</td>\n",
       "      <td>14339.738071</td>\n",
       "      <td>4.0</td>\n",
       "      <td>12348.50</td>\n",
       "      <td>24693.0</td>\n",
       "      <td>37207.25</td>\n",
       "      <td>49708.0</td>\n",
       "    </tr>\n",
       "    <tr>\n",
       "      <th>jamaican</th>\n",
       "      <td>526.0</td>\n",
       "      <td>24477.600760</td>\n",
       "      <td>14397.487070</td>\n",
       "      <td>30.0</td>\n",
       "      <td>12245.25</td>\n",
       "      <td>23994.0</td>\n",
       "      <td>36024.00</td>\n",
       "      <td>49638.0</td>\n",
       "    </tr>\n",
       "    <tr>\n",
       "      <th>japanese</th>\n",
       "      <td>1423.0</td>\n",
       "      <td>24867.964863</td>\n",
       "      <td>14392.669513</td>\n",
       "      <td>32.0</td>\n",
       "      <td>12979.00</td>\n",
       "      <td>24464.0</td>\n",
       "      <td>37496.00</td>\n",
       "      <td>49536.0</td>\n",
       "    </tr>\n",
       "    <tr>\n",
       "      <th>korean</th>\n",
       "      <td>830.0</td>\n",
       "      <td>25060.720482</td>\n",
       "      <td>14330.996146</td>\n",
       "      <td>79.0</td>\n",
       "      <td>12546.25</td>\n",
       "      <td>25721.0</td>\n",
       "      <td>37321.75</td>\n",
       "      <td>49642.0</td>\n",
       "    </tr>\n",
       "    <tr>\n",
       "      <th>mexican</th>\n",
       "      <td>6438.0</td>\n",
       "      <td>24886.905561</td>\n",
       "      <td>14484.494206</td>\n",
       "      <td>1.0</td>\n",
       "      <td>12380.00</td>\n",
       "      <td>24831.0</td>\n",
       "      <td>37487.50</td>\n",
       "      <td>49717.0</td>\n",
       "    </tr>\n",
       "    <tr>\n",
       "      <th>moroccan</th>\n",
       "      <td>821.0</td>\n",
       "      <td>25485.309379</td>\n",
       "      <td>14299.924633</td>\n",
       "      <td>63.0</td>\n",
       "      <td>14032.00</td>\n",
       "      <td>26430.0</td>\n",
       "      <td>37787.00</td>\n",
       "      <td>49667.0</td>\n",
       "    </tr>\n",
       "    <tr>\n",
       "      <th>russian</th>\n",
       "      <td>489.0</td>\n",
       "      <td>25599.642127</td>\n",
       "      <td>14625.513241</td>\n",
       "      <td>40.0</td>\n",
       "      <td>12586.00</td>\n",
       "      <td>26207.0</td>\n",
       "      <td>37988.00</td>\n",
       "      <td>49703.0</td>\n",
       "    </tr>\n",
       "    <tr>\n",
       "      <th>southern_us</th>\n",
       "      <td>4320.0</td>\n",
       "      <td>24675.439583</td>\n",
       "      <td>14338.782190</td>\n",
       "      <td>9.0</td>\n",
       "      <td>12179.00</td>\n",
       "      <td>24640.0</td>\n",
       "      <td>37084.25</td>\n",
       "      <td>49713.0</td>\n",
       "    </tr>\n",
       "    <tr>\n",
       "      <th>spanish</th>\n",
       "      <td>989.0</td>\n",
       "      <td>25252.100101</td>\n",
       "      <td>14652.037081</td>\n",
       "      <td>0.0</td>\n",
       "      <td>12662.00</td>\n",
       "      <td>26310.0</td>\n",
       "      <td>38209.00</td>\n",
       "      <td>49666.0</td>\n",
       "    </tr>\n",
       "    <tr>\n",
       "      <th>thai</th>\n",
       "      <td>1539.0</td>\n",
       "      <td>24715.289799</td>\n",
       "      <td>14351.105877</td>\n",
       "      <td>21.0</td>\n",
       "      <td>12386.00</td>\n",
       "      <td>24705.0</td>\n",
       "      <td>37196.50</td>\n",
       "      <td>49691.0</td>\n",
       "    </tr>\n",
       "    <tr>\n",
       "      <th>vietnamese</th>\n",
       "      <td>825.0</td>\n",
       "      <td>24642.495758</td>\n",
       "      <td>14610.336559</td>\n",
       "      <td>107.0</td>\n",
       "      <td>11023.00</td>\n",
       "      <td>25042.0</td>\n",
       "      <td>37302.00</td>\n",
       "      <td>49652.0</td>\n",
       "    </tr>\n",
       "  </tbody>\n",
       "</table>\n",
       "</div>"
      ],
      "text/plain": [
       "                  id                                                        \\\n",
       "               count          mean           std    min       25%      50%   \n",
       "cuisine                                                                      \n",
       "brazilian      467.0  25472.366167  14283.106437  203.0  13174.00  25620.0   \n",
       "british        804.0  25212.152985  14266.986737  168.0  12647.75  25205.5   \n",
       "cajun_creole  1546.0  24765.837646  14019.280693   29.0  12664.25  24247.0   \n",
       "chinese       2673.0  24755.108118  14392.581659    3.0  12199.00  24941.0   \n",
       "filipino       755.0  24885.507285  14317.468463   87.0  12833.00  24976.0   \n",
       "french        2646.0  24634.241497  14091.200530    2.0  12429.00  24363.5   \n",
       "greek         1175.0  24658.258723  14525.186898   34.0  11965.50  24762.0   \n",
       "indian        3003.0  25165.607393  14340.912253   16.0  12642.50  25307.0   \n",
       "irish          667.0  24995.655172  14429.338971   44.0  12046.50  25495.0   \n",
       "italian       7838.0  24736.780301  14339.738071    4.0  12348.50  24693.0   \n",
       "jamaican       526.0  24477.600760  14397.487070   30.0  12245.25  23994.0   \n",
       "japanese      1423.0  24867.964863  14392.669513   32.0  12979.00  24464.0   \n",
       "korean         830.0  25060.720482  14330.996146   79.0  12546.25  25721.0   \n",
       "mexican       6438.0  24886.905561  14484.494206    1.0  12380.00  24831.0   \n",
       "moroccan       821.0  25485.309379  14299.924633   63.0  14032.00  26430.0   \n",
       "russian        489.0  25599.642127  14625.513241   40.0  12586.00  26207.0   \n",
       "southern_us   4320.0  24675.439583  14338.782190    9.0  12179.00  24640.0   \n",
       "spanish        989.0  25252.100101  14652.037081    0.0  12662.00  26310.0   \n",
       "thai          1539.0  24715.289799  14351.105877   21.0  12386.00  24705.0   \n",
       "vietnamese     825.0  24642.495758  14610.336559  107.0  11023.00  25042.0   \n",
       "\n",
       "                                 \n",
       "                   75%      max  \n",
       "cuisine                          \n",
       "brazilian     37723.00  49683.0  \n",
       "british       37975.00  49648.0  \n",
       "cajun_creole  36679.50  49702.0  \n",
       "chinese       37286.00  49673.0  \n",
       "filipino      37534.50  49682.0  \n",
       "french        36754.75  49696.0  \n",
       "greek         37225.00  49710.0  \n",
       "indian        37539.00  49716.0  \n",
       "irish         37140.00  49714.0  \n",
       "italian       37207.25  49708.0  \n",
       "jamaican      36024.00  49638.0  \n",
       "japanese      37496.00  49536.0  \n",
       "korean        37321.75  49642.0  \n",
       "mexican       37487.50  49717.0  \n",
       "moroccan      37787.00  49667.0  \n",
       "russian       37988.00  49703.0  \n",
       "southern_us   37084.25  49713.0  \n",
       "spanish       38209.00  49666.0  \n",
       "thai          37196.50  49691.0  \n",
       "vietnamese    37302.00  49652.0  "
      ]
     },
     "execution_count": 6,
     "metadata": {},
     "output_type": "execute_result"
    }
   ],
   "source": [
    "train.groupby('cuisine').describe()"
   ]
  },
  {
   "cell_type": "code",
   "execution_count": 7,
   "id": "c9316b66",
   "metadata": {
    "execution": {
     "iopub.execute_input": "2021-12-10T15:37:47.854886Z",
     "iopub.status.busy": "2021-12-10T15:37:47.853942Z",
     "iopub.status.idle": "2021-12-10T15:37:48.239214Z",
     "shell.execute_reply": "2021-12-10T15:37:48.239855Z",
     "shell.execute_reply.started": "2021-12-10T15:06:52.616999Z"
    },
    "papermill": {
     "duration": 0.41952,
     "end_time": "2021-12-10T15:37:48.240022",
     "exception": false,
     "start_time": "2021-12-10T15:37:47.820502",
     "status": "completed"
    },
    "tags": []
   },
   "outputs": [
    {
     "data": {
      "text/plain": [
       "<AxesSubplot:>"
      ]
     },
     "execution_count": 7,
     "metadata": {},
     "output_type": "execute_result"
    },
    {
     "data": {
      "image/png": "[encoded data removed]",
      "text/plain": [
       "<Figure size 432x288 with 1 Axes>"
      ]
     },
     "metadata": {
      "needs_background": "light"
     },
     "output_type": "display_data"
    }
   ],
   "source": [
    "train.loc[train['cuisine'] == 'italian', 'ingredients'].str.len().hist()\n",
    "train.loc[train['cuisine'] == 'mexican', 'ingredients'].str.len().hist()\n",
    "train.loc[train['cuisine'] == 'southern_us', 'ingredients'].str.len().hist()\n",
    "train.loc[train['cuisine'] == 'indian', 'ingredients'].str.len().hist()\n",
    "train.loc[train['cuisine'] == 'chinese', 'ingredients'].str.len().hist()"
   ]
  },
  {
   "cell_type": "code",
   "execution_count": 8,
   "id": "809565c7",
   "metadata": {
    "execution": {
     "iopub.execute_input": "2021-12-10T15:37:48.283620Z",
     "iopub.status.busy": "2021-12-10T15:37:48.282956Z",
     "iopub.status.idle": "2021-12-10T15:37:48.517305Z",
     "shell.execute_reply": "2021-12-10T15:37:48.516732Z",
     "shell.execute_reply.started": "2021-12-10T15:06:54.697280Z"
    },
    "papermill": {
     "duration": 0.257711,
     "end_time": "2021-12-10T15:37:48.517442",
     "exception": false,
     "start_time": "2021-12-10T15:37:48.259731",
     "status": "completed"
    },
    "tags": []
   },
   "outputs": [
    {
     "data": {
      "text/plain": [
       "<AxesSubplot:>"
      ]
     },
     "execution_count": 8,
     "metadata": {},
     "output_type": "execute_result"
    },
    {
     "data": {
      "image/png": "[encoded data removed]",
      "text/plain": [
       "<Figure size 432x288 with 1 Axes>"
      ]
     },
     "metadata": {
      "needs_background": "light"
     },
     "output_type": "display_data"
    }
   ],
   "source": [
    "train.loc[train['cuisine'] == 'russian', 'ingredients'].str.len().hist()"
   ]
  },
  {
   "cell_type": "code",
   "execution_count": 9,
   "id": "c483d11c",
   "metadata": {
    "execution": {
     "iopub.execute_input": "2021-12-10T15:37:48.589657Z",
     "iopub.status.busy": "2021-12-10T15:37:48.564498Z",
     "iopub.status.idle": "2021-12-10T15:37:48.619210Z",
     "shell.execute_reply": "2021-12-10T15:37:48.618670Z",
     "shell.execute_reply.started": "2021-12-10T15:07:02.849377Z"
    },
    "papermill": {
     "duration": 0.081234,
     "end_time": "2021-12-10T15:37:48.619351",
     "exception": false,
     "start_time": "2021-12-10T15:37:48.538117",
     "status": "completed"
    },
    "tags": []
   },
   "outputs": [],
   "source": [
    "train['ingredients'] = train['ingredients'].apply(','.join)\n",
    "test['ingredients'] = test['ingredients'].apply(','.join)"
   ]
  },
  {
   "cell_type": "code",
   "execution_count": 10,
   "id": "4270cb3e",
   "metadata": {
    "execution": {
     "iopub.execute_input": "2021-12-10T15:37:48.670062Z",
     "iopub.status.busy": "2021-12-10T15:37:48.669352Z",
     "iopub.status.idle": "2021-12-10T15:37:48.673034Z",
     "shell.execute_reply": "2021-12-10T15:37:48.673517Z",
     "shell.execute_reply.started": "2021-12-10T15:07:13.214912Z"
    },
    "papermill": {
     "duration": 0.033742,
     "end_time": "2021-12-10T15:37:48.673689",
     "exception": false,
     "start_time": "2021-12-10T15:37:48.639947",
     "status": "completed"
    },
    "tags": []
   },
   "outputs": [
    {
     "data": {
      "text/html": [
       "<div>\n",
       "<style scoped>\n",
       "    .dataframe tbody tr th:only-of-type {\n",
       "        vertical-align: middle;\n",
       "    }\n",
       "\n",
       "    .dataframe tbody tr th {\n",
       "        vertical-align: top;\n",
       "    }\n",
       "\n",
       "    .dataframe thead th {\n",
       "        text-align: right;\n",
       "    }\n",
       "</style>\n",
       "<table border=\"1\" class=\"dataframe\">\n",
       "  <thead>\n",
       "    <tr style=\"text-align: right;\">\n",
       "      <th></th>\n",
       "      <th>id</th>\n",
       "      <th>cuisine</th>\n",
       "      <th>ingredients</th>\n",
       "    </tr>\n",
       "  </thead>\n",
       "  <tbody>\n",
       "    <tr>\n",
       "      <th>0</th>\n",
       "      <td>10259</td>\n",
       "      <td>greek</td>\n",
       "      <td>romaine lettuce,black olives,grape tomatoes,ga...</td>\n",
       "    </tr>\n",
       "    <tr>\n",
       "      <th>1</th>\n",
       "      <td>25693</td>\n",
       "      <td>southern_us</td>\n",
       "      <td>plain flour,ground pepper,salt,tomatoes,ground...</td>\n",
       "    </tr>\n",
       "    <tr>\n",
       "      <th>2</th>\n",
       "      <td>20130</td>\n",
       "      <td>filipino</td>\n",
       "      <td>eggs,pepper,salt,mayonaise,cooking oil,green c...</td>\n",
       "    </tr>\n",
       "    <tr>\n",
       "      <th>3</th>\n",
       "      <td>22213</td>\n",
       "      <td>indian</td>\n",
       "      <td>water,vegetable oil,wheat,salt</td>\n",
       "    </tr>\n",
       "    <tr>\n",
       "      <th>4</th>\n",
       "      <td>13162</td>\n",
       "      <td>indian</td>\n",
       "      <td>black pepper,shallots,cornflour,cayenne pepper...</td>\n",
       "    </tr>\n",
       "  </tbody>\n",
       "</table>\n",
       "</div>"
      ],
      "text/plain": [
       "      id      cuisine                                        ingredients\n",
       "0  10259        greek  romaine lettuce,black olives,grape tomatoes,ga...\n",
       "1  25693  southern_us  plain flour,ground pepper,salt,tomatoes,ground...\n",
       "2  20130     filipino  eggs,pepper,salt,mayonaise,cooking oil,green c...\n",
       "3  22213       indian                     water,vegetable oil,wheat,salt\n",
       "4  13162       indian  black pepper,shallots,cornflour,cayenne pepper..."
      ]
     },
     "execution_count": 10,
     "metadata": {},
     "output_type": "execute_result"
    }
   ],
   "source": [
    "train.head()"
   ]
  },
  {
   "cell_type": "code",
   "execution_count": 11,
   "id": "c9f88917",
   "metadata": {
    "execution": {
     "iopub.execute_input": "2021-12-10T15:37:48.722848Z",
     "iopub.status.busy": "2021-12-10T15:37:48.722186Z",
     "iopub.status.idle": "2021-12-10T15:37:48.735547Z",
     "shell.execute_reply": "2021-12-10T15:37:48.735020Z",
     "shell.execute_reply.started": "2021-12-10T15:07:48.045591Z"
    },
    "papermill": {
     "duration": 0.040967,
     "end_time": "2021-12-10T15:37:48.735691",
     "exception": false,
     "start_time": "2021-12-10T15:37:48.694724",
     "status": "completed"
    },
    "tags": []
   },
   "outputs": [],
   "source": [
    "x_train, x_test, y_train, y_test = train_test_split(train['ingredients'], train['cuisine'], test_size = 0.30, random_state = 102)"
   ]
  },
  {
   "cell_type": "code",
   "execution_count": 12,
   "id": "418b48f6",
   "metadata": {
    "execution": {
     "iopub.execute_input": "2021-12-10T15:37:48.783584Z",
     "iopub.status.busy": "2021-12-10T15:37:48.782971Z",
     "iopub.status.idle": "2021-12-10T15:37:48.785720Z",
     "shell.execute_reply": "2021-12-10T15:37:48.786176Z",
     "shell.execute_reply.started": "2021-12-10T15:18:46.783848Z"
    },
    "papermill": {
     "duration": 0.029362,
     "end_time": "2021-12-10T15:37:48.786342",
     "exception": false,
     "start_time": "2021-12-10T15:37:48.756980",
     "status": "completed"
    },
    "tags": []
   },
   "outputs": [],
   "source": [
    "class LemmaTokenizer(object):\n",
    "    def __init__(self):\n",
    "        self.wnl = WordNetLemmatizer()\n",
    "    def __call__(self, doc):\n",
    "        return [self.wnl.lemmatize(t) for t in word_tokenize(doc)]"
   ]
  },
  {
   "cell_type": "code",
   "execution_count": 13,
   "id": "ef109ee7",
   "metadata": {
    "execution": {
     "iopub.execute_input": "2021-12-10T15:37:48.835095Z",
     "iopub.status.busy": "2021-12-10T15:37:48.834369Z",
     "iopub.status.idle": "2021-12-10T15:37:48.837082Z",
     "shell.execute_reply": "2021-12-10T15:37:48.836451Z",
     "shell.execute_reply.started": "2021-12-10T15:20:46.045268Z"
    },
    "papermill": {
     "duration": 0.029669,
     "end_time": "2021-12-10T15:37:48.837218",
     "exception": false,
     "start_time": "2021-12-10T15:37:48.807549",
     "status": "completed"
    },
    "tags": []
   },
   "outputs": [],
   "source": [
    "from sklearn.preprocessing import MaxAbsScaler\n",
    "tf_idf = TfidfVectorizer(tokenizer = LemmaTokenizer(), stop_words = 'english', lowercase = True, token_pattern = r\"[A-Za-z]\", max_df = 0.1, ngram_range = (1,2))\n",
    "logit = LogisticRegression(max_iter = 10000)\n",
    "tfidf_logit_pipeline = Pipeline([('tf_idf',tf_idf), ('scale', MaxAbsScaler()), ('logit', logit)])"
   ]
  },
  {
   "cell_type": "code",
   "execution_count": 14,
   "id": "ef9a5c00",
   "metadata": {
    "execution": {
     "iopub.execute_input": "2021-12-10T15:37:48.886338Z",
     "iopub.status.busy": "2021-12-10T15:37:48.885704Z",
     "iopub.status.idle": "2021-12-10T15:38:29.194156Z",
     "shell.execute_reply": "2021-12-10T15:38:29.195068Z",
     "shell.execute_reply.started": "2021-12-10T15:24:07.505061Z"
    },
    "papermill": {
     "duration": 40.336648,
     "end_time": "2021-12-10T15:38:29.195351",
     "exception": false,
     "start_time": "2021-12-10T15:37:48.858703",
     "status": "completed"
    },
    "tags": []
   },
   "outputs": [
    {
     "name": "stderr",
     "output_type": "stream",
     "text": [
      "/opt/conda/lib/python3.7/site-packages/sklearn/feature_extraction/text.py:386: UserWarning: Your stop_words may be inconsistent with your preprocessing. Tokenizing the stop words generated tokens ['ha', 'le', 'u', 'wa'] not in stop_words.\n",
      "  'stop_words.' % sorted(inconsistent))\n"
     ]
    },
    {
     "data": {
      "text/plain": [
       "Pipeline(steps=[('tf_idf',\n",
       "                 TfidfVectorizer(max_df=0.1, ngram_range=(1, 2),\n",
       "                                 stop_words='english', token_pattern='[A-Za-z]',\n",
       "                                 tokenizer=<__main__.LemmaTokenizer object at 0x7fca73f28b50>)),\n",
       "                ('scale', MaxAbsScaler()),\n",
       "                ('logit', LogisticRegression(max_iter=10000))])"
      ]
     },
     "execution_count": 14,
     "metadata": {},
     "output_type": "execute_result"
    }
   ],
   "source": [
    "tfidf_logit_pipeline.fit(x_train, y_train)"
   ]
  },
  {
   "cell_type": "code",
   "execution_count": 15,
   "id": "6044f4dd",
   "metadata": {
    "execution": {
     "iopub.execute_input": "2021-12-10T15:38:29.335796Z",
     "iopub.status.busy": "2021-12-10T15:38:29.299564Z",
     "iopub.status.idle": "2021-12-10T15:38:36.012729Z",
     "shell.execute_reply": "2021-12-10T15:38:36.012161Z",
     "shell.execute_reply.started": "2021-12-10T15:28:13.864839Z"
    },
    "papermill": {
     "duration": 6.779816,
     "end_time": "2021-12-10T15:38:36.012920",
     "exception": false,
     "start_time": "2021-12-10T15:38:29.233104",
     "status": "completed"
    },
    "tags": []
   },
   "outputs": [
    {
     "data": {
      "text/plain": [
       "0.780273191988603"
      ]
     },
     "execution_count": 15,
     "metadata": {},
     "output_type": "execute_result"
    }
   ],
   "source": [
    "y_pred = tfidf_logit_pipeline.predict(x_test)\n",
    "accuracy_score(y_test, y_pred)"
   ]
  },
  {
   "cell_type": "code",
   "execution_count": 16,
   "id": "9d256fc3",
   "metadata": {
    "execution": {
     "iopub.execute_input": "2021-12-10T15:38:36.071755Z",
     "iopub.status.busy": "2021-12-10T15:38:36.071087Z",
     "iopub.status.idle": "2021-12-10T15:38:36.658479Z",
     "shell.execute_reply": "2021-12-10T15:38:36.657755Z",
     "shell.execute_reply.started": "2021-12-10T15:29:17.262524Z"
    },
    "papermill": {
     "duration": 0.622187,
     "end_time": "2021-12-10T15:38:36.658621",
     "exception": false,
     "start_time": "2021-12-10T15:38:36.036434",
     "status": "completed"
    },
    "tags": []
   },
   "outputs": [
    {
     "data": {
      "text/plain": [
       "<AxesSubplot:>"
      ]
     },
     "execution_count": 16,
     "metadata": {},
     "output_type": "execute_result"
    },
    {
     "data": {
      "image/png": "[encoded data removed]",
      "text/plain": [
       "<Figure size 432x288 with 2 Axes>"
      ]
     },
     "metadata": {
      "needs_background": "light"
     },
     "output_type": "display_data"
    }
   ],
   "source": [
    "from sklearn.metrics import confusion_matrix\n",
    "cm = pd.DataFrame( confusion_matrix(y_test, y_pred, labels = train['cuisine'].unique())\n",
    "                 , index = train['cuisine'].unique(), columns = train['cuisine'].unique() )\n",
    "sns.heatmap(cm)"
   ]
  },
  {
   "cell_type": "code",
   "execution_count": 17,
   "id": "09900711",
   "metadata": {
    "execution": {
     "iopub.execute_input": "2021-12-10T15:38:36.782454Z",
     "iopub.status.busy": "2021-12-10T15:38:36.745741Z",
     "iopub.status.idle": "2021-12-10T15:38:42.379285Z",
     "shell.execute_reply": "2021-12-10T15:38:42.379800Z",
     "shell.execute_reply.started": "2021-12-10T15:35:07.059197Z"
    },
    "papermill": {
     "duration": 5.69714,
     "end_time": "2021-12-10T15:38:42.379985",
     "exception": false,
     "start_time": "2021-12-10T15:38:36.682845",
     "status": "completed"
    },
    "tags": []
   },
   "outputs": [],
   "source": [
    "pred = tfidf_logit_pipeline.predict(test['ingredients'])\n",
    "result = pd.DataFrame(data = pred, columns = ['cuisine'], index = test['id'])\n",
    "result.reset_index(level = 0, inplace = True)"
   ]
  },
  {
   "cell_type": "code",
   "execution_count": 18,
   "id": "c604a468",
   "metadata": {
    "execution": {
     "iopub.execute_input": "2021-12-10T15:38:42.434090Z",
     "iopub.status.busy": "2021-12-10T15:38:42.433445Z",
     "iopub.status.idle": "2021-12-10T15:38:42.439143Z",
     "shell.execute_reply": "2021-12-10T15:38:42.439721Z",
     "shell.execute_reply.started": "2021-12-10T15:35:23.677948Z"
    },
    "papermill": {
     "duration": 0.035898,
     "end_time": "2021-12-10T15:38:42.439897",
     "exception": false,
     "start_time": "2021-12-10T15:38:42.403999",
     "status": "completed"
    },
    "tags": []
   },
   "outputs": [
    {
     "data": {
      "text/html": [
       "<div>\n",
       "<style scoped>\n",
       "    .dataframe tbody tr th:only-of-type {\n",
       "        vertical-align: middle;\n",
       "    }\n",
       "\n",
       "    .dataframe tbody tr th {\n",
       "        vertical-align: top;\n",
       "    }\n",
       "\n",
       "    .dataframe thead th {\n",
       "        text-align: right;\n",
       "    }\n",
       "</style>\n",
       "<table border=\"1\" class=\"dataframe\">\n",
       "  <thead>\n",
       "    <tr style=\"text-align: right;\">\n",
       "      <th></th>\n",
       "      <th>id</th>\n",
       "      <th>cuisine</th>\n",
       "    </tr>\n",
       "  </thead>\n",
       "  <tbody>\n",
       "    <tr>\n",
       "      <th>0</th>\n",
       "      <td>18009</td>\n",
       "      <td>irish</td>\n",
       "    </tr>\n",
       "    <tr>\n",
       "      <th>1</th>\n",
       "      <td>28583</td>\n",
       "      <td>southern_us</td>\n",
       "    </tr>\n",
       "    <tr>\n",
       "      <th>2</th>\n",
       "      <td>41580</td>\n",
       "      <td>italian</td>\n",
       "    </tr>\n",
       "    <tr>\n",
       "      <th>3</th>\n",
       "      <td>29752</td>\n",
       "      <td>cajun_creole</td>\n",
       "    </tr>\n",
       "    <tr>\n",
       "      <th>4</th>\n",
       "      <td>35687</td>\n",
       "      <td>italian</td>\n",
       "    </tr>\n",
       "  </tbody>\n",
       "</table>\n",
       "</div>"
      ],
      "text/plain": [
       "      id       cuisine\n",
       "0  18009         irish\n",
       "1  28583   southern_us\n",
       "2  41580       italian\n",
       "3  29752  cajun_creole\n",
       "4  35687       italian"
      ]
     },
     "execution_count": 18,
     "metadata": {},
     "output_type": "execute_result"
    }
   ],
   "source": [
    "result.head()"
   ]
  },
  {
   "cell_type": "code",
   "execution_count": 19,
   "id": "b7ebe1e2",
   "metadata": {
    "execution": {
     "iopub.execute_input": "2021-12-10T15:38:42.491338Z",
     "iopub.status.busy": "2021-12-10T15:38:42.490641Z",
     "iopub.status.idle": "2021-12-10T15:38:42.518922Z",
     "shell.execute_reply": "2021-12-10T15:38:42.519421Z",
     "shell.execute_reply.started": "2021-12-10T15:35:40.862244Z"
    },
    "papermill": {
     "duration": 0.055247,
     "end_time": "2021-12-10T15:38:42.519607",
     "exception": false,
     "start_time": "2021-12-10T15:38:42.464360",
     "status": "completed"
    },
    "tags": []
   },
   "outputs": [],
   "source": [
    "result.to_csv('Result.csv', index = False)"
   ]
  }
 ],
 "metadata": {
  "kernelspec": {
   "display_name": "Python 3",
   "language": "python",
   "name": "python3"
  },
  "language_info": {
   "codemirror_mode": {
    "name": "ipython",
    "version": 3
   },
   "file_extension": ".py",
   "mimetype": "text/x-python",
   "name": "python",
   "nbconvert_exporter": "python",
   "pygments_lexer": "ipython3",
   "version": "3.7.12"
  },
  "papermill": {
   "default_parameters": {},
   "duration": 69.938562,
   "end_time": "2021-12-10T15:38:43.556091",
   "environment_variables": {},
   "exception": null,
   "input_path": "__notebook__.ipynb",
   "output_path": "__notebook__.ipynb",
   "parameters": {},
   "start_time": "2021-12-10T15:37:33.617529",
   "version": "2.3.3"
  }
 },
 "nbformat": 4,
 "nbformat_minor": 5
}
