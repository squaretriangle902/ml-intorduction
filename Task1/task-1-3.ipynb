{
 "cells": [
  {
   "cell_type": "markdown",
   "id": "abe9b127",
   "metadata": {
    "_uuid": "945c0f151b28ca53b79e0f7cf5b107af959a3370",
    "papermill": {
     "duration": 0.039468,
     "end_time": "2021-10-28T21:45:06.862764",
     "exception": false,
     "start_time": "2021-10-28T21:45:06.823296",
     "status": "completed"
    },
    "tags": []
   },
   "source": [
    "<center>\n",
    "<img src=\"https://habrastorage.org/webt/ia/m9/zk/iam9zkyzqebnf_okxipihkgjwnw.jpeg\">\n",
    "\n",
    "## [mlcourse.ai](https://mlcourse.ai) - Open Machine Learning Course\n",
    "    \n",
    "Authors: [Ilya Baryshnikov](https://www.linkedin.com/in/baryshnikov-ilya/), [Maxim Uvarov](https://www.linkedin.com/in/maxis42/), and [Yury Kashnitsky](https://yorko.github.io). Translated and edited by [Inga Kaydanova](https://www.linkedin.com/in/inga-kaidanova-a92398b1/), [Egor Polusmak](https://www.linkedin.com/in/egor-polusmak/), [Anastasia Manokhina](https://www.linkedin.com/in/anastasiamanokhina/), and [Yuanyuan Pao](https://www.linkedin.com/in/yuanyuanpao/). This material is subject to the terms and conditions of the [Creative Commons CC BY-NC-SA 4.0](https://creativecommons.org/licenses/by-nc-sa/4.0/) license. Free use is permitted for any non-commercial purpose."
   ]
  },
  {
   "cell_type": "markdown",
   "id": "7e8e84bf",
   "metadata": {
    "_uuid": "66409c8728e75df39a1390bcb634ae50c6b37652",
    "papermill": {
     "duration": 0.037613,
     "end_time": "2021-10-28T21:45:06.938259",
     "exception": false,
     "start_time": "2021-10-28T21:45:06.900646",
     "status": "completed"
    },
    "tags": []
   },
   "source": [
    "# <center>Assignment #2 (demo)\n",
    "## <center>Analyzing cardiovascular disease data "
   ]
  },
  {
   "cell_type": "markdown",
   "id": "ebf35956",
   "metadata": {
    "_uuid": "5cea59b8adb04c5a07a32c5b70a829319ba0cf2a",
    "papermill": {
     "duration": 0.039102,
     "end_time": "2021-10-28T21:45:07.017155",
     "exception": false,
     "start_time": "2021-10-28T21:45:06.978053",
     "status": "completed"
    },
    "tags": []
   },
   "source": [
    "In this assignment, you will answer questions about a dataset on cardiovascular disease. You do not need to download the data: it is already in the repository. There are some Tasks that will require you to write code. Complete them and then answer the questions in the [form](https://docs.google.com/forms/d/13cE_tSIb6hsScQvvWUJeu1MEHE5L6vnxQUbDYpXsf24). \n",
    "\n",
    "#### Problem\n",
    "\n",
    "Predict the presence or absence of cardiovascular disease (CVD) using the patient examination results.\n",
    "\n",
    "#### Data description\n",
    "\n",
    "There are 3 types of input features:\n",
    "\n",
    "- *Objective*: factual information;\n",
    "- *Examination*: results of medical examination;\n",
    "- *Subjective*: information given by the patient.\n",
    "\n",
    "| Feature | Variable Type | Variable      | Value Type |\n",
    "|---------|--------------|---------------|------------|\n",
    "| Age | Objective Feature | age | int (days) |\n",
    "| Height | Objective Feature | height | int (cm) |\n",
    "| Weight | Objective Feature | weight | float (kg) |\n",
    "| Gender | Objective Feature | gender | categorical code |\n",
    "| Systolic blood pressure | Examination Feature | ap_hi | int |\n",
    "| Diastolic blood pressure | Examination Feature | ap_lo | int |\n",
    "| Cholesterol | Examination Feature | cholesterol | 1: normal, 2: above normal, 3: well above normal |\n",
    "| Glucose | Examination Feature | gluc | 1: normal, 2: above normal, 3: well above normal |\n",
    "| Smoking | Subjective Feature | smoke | binary |\n",
    "| Alcohol intake | Subjective Feature | alco | binary |\n",
    "| Physical activity | Subjective Feature | active | binary |\n",
    "| Presence or absence of cardiovascular disease | Target Variable | cardio | binary |\n",
    "\n",
    "All of the dataset values were collected at the moment of medical examination."
   ]
  },
  {
   "cell_type": "markdown",
   "id": "81f7aae9",
   "metadata": {
    "_uuid": "10749a7f9b46749e3a90ff697bc298760045c333",
    "papermill": {
     "duration": 0.039969,
     "end_time": "2021-10-28T21:45:07.102268",
     "exception": false,
     "start_time": "2021-10-28T21:45:07.062299",
     "status": "completed"
    },
    "tags": []
   },
   "source": [
    "Let's get to know our data by performing a preliminary data analysis.\n",
    "\n",
    "#  Part 1. Preliminary data analysis\n",
    "\n",
    "First, we will initialize the environment:"
   ]
  },
  {
   "cell_type": "code",
   "execution_count": 1,
   "id": "61e075f7",
   "metadata": {
    "_uuid": "85426734e890fcf72416f29a953da115c1171080",
    "execution": {
     "iopub.execute_input": "2021-10-28T21:45:07.188323Z",
     "iopub.status.busy": "2021-10-28T21:45:07.187039Z",
     "iopub.status.idle": "2021-10-28T21:45:08.161437Z",
     "shell.execute_reply": "2021-10-28T21:45:08.160607Z",
     "shell.execute_reply.started": "2021-10-28T20:15:00.966065Z"
    },
    "papermill": {
     "duration": 1.017162,
     "end_time": "2021-10-28T21:45:08.161603",
     "exception": false,
     "start_time": "2021-10-28T21:45:07.144441",
     "status": "completed"
    },
    "tags": []
   },
   "outputs": [],
   "source": [
    "# Import all required modules\n",
    "import pandas as pd\n",
    "import numpy as np\n",
    "\n",
    "# Disable warnings\n",
    "import warnings\n",
    "warnings.filterwarnings(\"ignore\")\n",
    "\n",
    "# Import plotting modules\n",
    "import seaborn as sns\n",
    "sns.set()\n",
    "import matplotlib\n",
    "import matplotlib.pyplot as plt\n",
    "import matplotlib.ticker\n",
    "%matplotlib inline"
   ]
  },
  {
   "cell_type": "markdown",
   "id": "b399fa49",
   "metadata": {
    "_uuid": "cbcf821e4bea8a7f7fb1ee4a9bf285b6c4b588ee",
    "papermill": {
     "duration": 0.037951,
     "end_time": "2021-10-28T21:45:08.238329",
     "exception": false,
     "start_time": "2021-10-28T21:45:08.200378",
     "status": "completed"
    },
    "tags": []
   },
   "source": [
    "You will use the `seaborn` library for visual analysis, so let's set that up too:"
   ]
  },
  {
   "cell_type": "code",
   "execution_count": 2,
   "id": "11e82e27",
   "metadata": {
    "_uuid": "b33601a0cadc2fb2d92f211c31bf99a502f71d48",
    "execution": {
     "iopub.execute_input": "2021-10-28T21:45:08.321385Z",
     "iopub.status.busy": "2021-10-28T21:45:08.320739Z",
     "iopub.status.idle": "2021-10-28T21:45:08.323511Z",
     "shell.execute_reply": "2021-10-28T21:45:08.322995Z",
     "shell.execute_reply.started": "2021-10-28T20:15:19.532265Z"
    },
    "papermill": {
     "duration": 0.047112,
     "end_time": "2021-10-28T21:45:08.323646",
     "exception": false,
     "start_time": "2021-10-28T21:45:08.276534",
     "status": "completed"
    },
    "tags": []
   },
   "outputs": [],
   "source": [
    "# Tune the visual settings for figures in `seaborn`\n",
    "sns.set_context(\n",
    "    \"notebook\", \n",
    "    font_scale=1.5,       \n",
    "    rc={ \n",
    "        \"figure.figsize\": (11, 8), \n",
    "        \"axes.titlesize\": 18 \n",
    "    }\n",
    ")\n",
    "\n",
    "from matplotlib import rcParams\n",
    "rcParams['figure.figsize'] = 11, 8"
   ]
  },
  {
   "cell_type": "markdown",
   "id": "0c3645e4",
   "metadata": {
    "_uuid": "89381351e4b95530b355e0e55bc4536c0a813d10",
    "papermill": {
     "duration": 0.037854,
     "end_time": "2021-10-28T21:45:08.466676",
     "exception": false,
     "start_time": "2021-10-28T21:45:08.428822",
     "status": "completed"
    },
    "tags": []
   },
   "source": [
    "To make it simple, we will work only with the training part of the dataset:"
   ]
  },
  {
   "cell_type": "code",
   "execution_count": 3,
   "id": "f468e1c7",
   "metadata": {
    "_uuid": "2bd0005e660693a061577ca5244b48ccebf36719",
    "execution": {
     "iopub.execute_input": "2021-10-28T21:45:08.546870Z",
     "iopub.status.busy": "2021-10-28T21:45:08.546212Z",
     "iopub.status.idle": "2021-10-28T21:45:08.710964Z",
     "shell.execute_reply": "2021-10-28T21:45:08.710288Z",
     "shell.execute_reply.started": "2021-10-28T20:57:32.777581Z"
    },
    "papermill": {
     "duration": 0.206285,
     "end_time": "2021-10-28T21:45:08.711108",
     "exception": false,
     "start_time": "2021-10-28T21:45:08.504823",
     "status": "completed"
    },
    "tags": []
   },
   "outputs": [
    {
     "name": "stdout",
     "output_type": "stream",
     "text": [
      "Dataset size:  (70000, 13)\n"
     ]
    },
    {
     "data": {
      "text/html": [
       "<div>\n",
       "<style scoped>\n",
       "    .dataframe tbody tr th:only-of-type {\n",
       "        vertical-align: middle;\n",
       "    }\n",
       "\n",
       "    .dataframe tbody tr th {\n",
       "        vertical-align: top;\n",
       "    }\n",
       "\n",
       "    .dataframe thead th {\n",
       "        text-align: right;\n",
       "    }\n",
       "</style>\n",
       "<table border=\"1\" class=\"dataframe\">\n",
       "  <thead>\n",
       "    <tr style=\"text-align: right;\">\n",
       "      <th></th>\n",
       "      <th>id</th>\n",
       "      <th>age</th>\n",
       "      <th>gender</th>\n",
       "      <th>height</th>\n",
       "      <th>weight</th>\n",
       "      <th>ap_hi</th>\n",
       "      <th>ap_lo</th>\n",
       "      <th>cholesterol</th>\n",
       "      <th>gluc</th>\n",
       "      <th>smoke</th>\n",
       "      <th>alco</th>\n",
       "      <th>active</th>\n",
       "      <th>cardio</th>\n",
       "    </tr>\n",
       "  </thead>\n",
       "  <tbody>\n",
       "    <tr>\n",
       "      <th>0</th>\n",
       "      <td>0</td>\n",
       "      <td>18393</td>\n",
       "      <td>2</td>\n",
       "      <td>168</td>\n",
       "      <td>62.0</td>\n",
       "      <td>110</td>\n",
       "      <td>80</td>\n",
       "      <td>1</td>\n",
       "      <td>1</td>\n",
       "      <td>0</td>\n",
       "      <td>0</td>\n",
       "      <td>1</td>\n",
       "      <td>0</td>\n",
       "    </tr>\n",
       "    <tr>\n",
       "      <th>1</th>\n",
       "      <td>1</td>\n",
       "      <td>20228</td>\n",
       "      <td>1</td>\n",
       "      <td>156</td>\n",
       "      <td>85.0</td>\n",
       "      <td>140</td>\n",
       "      <td>90</td>\n",
       "      <td>3</td>\n",
       "      <td>1</td>\n",
       "      <td>0</td>\n",
       "      <td>0</td>\n",
       "      <td>1</td>\n",
       "      <td>1</td>\n",
       "    </tr>\n",
       "    <tr>\n",
       "      <th>2</th>\n",
       "      <td>2</td>\n",
       "      <td>18857</td>\n",
       "      <td>1</td>\n",
       "      <td>165</td>\n",
       "      <td>64.0</td>\n",
       "      <td>130</td>\n",
       "      <td>70</td>\n",
       "      <td>3</td>\n",
       "      <td>1</td>\n",
       "      <td>0</td>\n",
       "      <td>0</td>\n",
       "      <td>0</td>\n",
       "      <td>1</td>\n",
       "    </tr>\n",
       "    <tr>\n",
       "      <th>3</th>\n",
       "      <td>3</td>\n",
       "      <td>17623</td>\n",
       "      <td>2</td>\n",
       "      <td>169</td>\n",
       "      <td>82.0</td>\n",
       "      <td>150</td>\n",
       "      <td>100</td>\n",
       "      <td>1</td>\n",
       "      <td>1</td>\n",
       "      <td>0</td>\n",
       "      <td>0</td>\n",
       "      <td>1</td>\n",
       "      <td>1</td>\n",
       "    </tr>\n",
       "    <tr>\n",
       "      <th>4</th>\n",
       "      <td>4</td>\n",
       "      <td>17474</td>\n",
       "      <td>1</td>\n",
       "      <td>156</td>\n",
       "      <td>56.0</td>\n",
       "      <td>100</td>\n",
       "      <td>60</td>\n",
       "      <td>1</td>\n",
       "      <td>1</td>\n",
       "      <td>0</td>\n",
       "      <td>0</td>\n",
       "      <td>0</td>\n",
       "      <td>0</td>\n",
       "    </tr>\n",
       "  </tbody>\n",
       "</table>\n",
       "</div>"
      ],
      "text/plain": [
       "   id    age  gender  height  weight  ap_hi  ap_lo  cholesterol  gluc  smoke  \\\n",
       "0   0  18393       2     168    62.0    110     80            1     1      0   \n",
       "1   1  20228       1     156    85.0    140     90            3     1      0   \n",
       "2   2  18857       1     165    64.0    130     70            3     1      0   \n",
       "3   3  17623       2     169    82.0    150    100            1     1      0   \n",
       "4   4  17474       1     156    56.0    100     60            1     1      0   \n",
       "\n",
       "   alco  active  cardio  \n",
       "0     0       1       0  \n",
       "1     0       1       1  \n",
       "2     0       0       1  \n",
       "3     0       1       1  \n",
       "4     0       0       0  "
      ]
     },
     "execution_count": 3,
     "metadata": {},
     "output_type": "execute_result"
    }
   ],
   "source": [
    "df = pd.read_csv('../input/mlbootcamp5_train.csv')\n",
    "print('Dataset size: ', df.shape)\n",
    "df.head()"
   ]
  },
  {
   "cell_type": "markdown",
   "id": "a2c55079",
   "metadata": {
    "_uuid": "636bf459023fbc1d1f1b73863c5246397dc26e6d",
    "papermill": {
     "duration": 0.03917,
     "end_time": "2021-10-28T21:45:08.789856",
     "exception": false,
     "start_time": "2021-10-28T21:45:08.750686",
     "status": "completed"
    },
    "tags": []
   },
   "source": [
    "It would be instructive to peek into the values of our variables.\n",
    " \n",
    "Let's convert the data into *long* format and depict the value counts of the categorical features using [`factorplot()`](https://seaborn.pydata.org/generated/seaborn.factorplot.html)."
   ]
  },
  {
   "cell_type": "code",
   "execution_count": 4,
   "id": "60c40493",
   "metadata": {
    "_uuid": "334ad6a83e7bb58f2c65ec512bfc401a0948c17a",
    "execution": {
     "iopub.execute_input": "2021-10-28T21:45:08.871628Z",
     "iopub.status.busy": "2021-10-28T21:45:08.870962Z",
     "iopub.status.idle": "2021-10-28T21:45:09.714635Z",
     "shell.execute_reply": "2021-10-28T21:45:09.713970Z",
     "shell.execute_reply.started": "2021-10-28T20:06:06.741735Z"
    },
    "papermill": {
     "duration": 0.88588,
     "end_time": "2021-10-28T21:45:09.714797",
     "exception": false,
     "start_time": "2021-10-28T21:45:08.828917",
     "status": "completed"
    },
    "tags": []
   },
   "outputs": [
    {
     "data": {
      "image/png": "[encoded data removed]",
      "text/plain": [
       "<Figure size 933.9x864 with 1 Axes>"
      ]
     },
     "metadata": {
      "needs_background": "light"
     },
     "output_type": "display_data"
    }
   ],
   "source": [
    "df_uniques = pd.melt(frame=df, value_vars=['gender','cholesterol', \n",
    "                                           'gluc', 'smoke', 'alco', \n",
    "                                           'active', 'cardio'])\n",
    "df_uniques = pd.DataFrame(df_uniques.groupby(['variable', \n",
    "                                              'value'])['value'].count()) \\\n",
    "    .sort_index(level=[0, 1]) \\\n",
    "    .rename(columns={'value': 'count'}) \\\n",
    "    .reset_index()\n",
    "\n",
    "sns.factorplot(x='variable', y='count', hue='value', \n",
    "               data=df_uniques, kind='bar', size=12);"
   ]
  },
  {
   "cell_type": "markdown",
   "id": "34190470",
   "metadata": {
    "_uuid": "cb94ec9ddf78c607cdec5536581b8ec4004ac16b",
    "papermill": {
     "duration": 0.039856,
     "end_time": "2021-10-28T21:45:09.795271",
     "exception": false,
     "start_time": "2021-10-28T21:45:09.755415",
     "status": "completed"
    },
    "tags": []
   },
   "source": [
    "We can see that the target classes are balanced. That's great!\n",
    "\n",
    "Let's split the dataset by target values. Can you already spot the most significant feature by just looking at the plot?"
   ]
  },
  {
   "cell_type": "code",
   "execution_count": 5,
   "id": "450ba43e",
   "metadata": {
    "_uuid": "a712d76f8c11588a9aebd4be6a00f01c53a8d80a",
    "execution": {
     "iopub.execute_input": "2021-10-28T21:45:09.887521Z",
     "iopub.status.busy": "2021-10-28T21:45:09.886803Z",
     "iopub.status.idle": "2021-10-28T21:45:10.968704Z",
     "shell.execute_reply": "2021-10-28T21:45:10.968142Z",
     "shell.execute_reply.started": "2021-10-28T20:06:25.887350Z"
    },
    "papermill": {
     "duration": 1.133396,
     "end_time": "2021-10-28T21:45:10.968850",
     "exception": false,
     "start_time": "2021-10-28T21:45:09.835454",
     "status": "completed"
    },
    "tags": []
   },
   "outputs": [
    {
     "data": {
      "image/png": "[encoded data removed]",
      "text/plain": [
       "<Figure size 1365.9x648 with 2 Axes>"
      ]
     },
     "metadata": {
      "needs_background": "light"
     },
     "output_type": "display_data"
    }
   ],
   "source": [
    "df_uniques = pd.melt(frame=df, value_vars=['gender','cholesterol', \n",
    "                                           'gluc', 'smoke', 'alco', \n",
    "                                           'active'], \n",
    "                     id_vars=['cardio'])\n",
    "df_uniques = pd.DataFrame(df_uniques.groupby(['variable', 'value', \n",
    "                                              'cardio'])['value'].count()) \\\n",
    "    .sort_index(level=[0, 1]) \\\n",
    "    .rename(columns={'value': 'count'}) \\\n",
    "    .reset_index()\n",
    "\n",
    "sns.factorplot(x='variable', y='count', hue='value', \n",
    "               col='cardio', data=df_uniques, kind='bar', size=9);"
   ]
  },
  {
   "cell_type": "markdown",
   "id": "d42c201f",
   "metadata": {
    "_uuid": "4f4fdb7b979c6594b3060a0b80473fabbdf6acd0",
    "papermill": {
     "duration": 0.041094,
     "end_time": "2021-10-28T21:45:11.051594",
     "exception": false,
     "start_time": "2021-10-28T21:45:11.010500",
     "status": "completed"
    },
    "tags": []
   },
   "source": [
    "You can see that the distribution of cholesterol and glucose levels great differs by the value of the target variable. Is this a coincidence?\n",
    "\n",
    "Now, let's calculate some statistics for the feature unique values:"
   ]
  },
  {
   "cell_type": "code",
   "execution_count": 6,
   "id": "0f89a4bc",
   "metadata": {
    "_uuid": "e9cbba719f93f6b544567638be7332b7385fc715",
    "execution": {
     "iopub.execute_input": "2021-10-28T21:45:11.141881Z",
     "iopub.status.busy": "2021-10-28T21:45:11.140883Z",
     "iopub.status.idle": "2021-10-28T21:45:11.168729Z",
     "shell.execute_reply": "2021-10-28T21:45:11.169251Z",
     "shell.execute_reply.started": "2021-10-28T20:06:30.879079Z"
    },
    "papermill": {
     "duration": 0.076386,
     "end_time": "2021-10-28T21:45:11.169433",
     "exception": false,
     "start_time": "2021-10-28T21:45:11.093047",
     "status": "completed"
    },
    "tags": []
   },
   "outputs": [
    {
     "name": "stdout",
     "output_type": "stream",
     "text": [
      "id\n",
      "70000\n",
      "----------\n",
      "age\n",
      "8076\n",
      "----------\n",
      "gender\n",
      "2 [(1, 45530), (2, 24470)]\n",
      "----------\n",
      "height\n",
      "109\n",
      "----------\n",
      "weight\n",
      "287\n",
      "----------\n",
      "ap_hi\n",
      "153\n",
      "----------\n",
      "ap_lo\n",
      "157\n",
      "----------\n",
      "cholesterol\n",
      "3 [(1, 52385), (2, 9549), (3, 8066)]\n",
      "----------\n",
      "gluc\n",
      "3 [(1, 59479), (2, 5190), (3, 5331)]\n",
      "----------\n",
      "smoke\n",
      "2 [(0, 63831), (1, 6169)]\n",
      "----------\n",
      "alco\n",
      "2 [(0, 66236), (1, 3764)]\n",
      "----------\n",
      "active\n",
      "2 [(0, 13739), (1, 56261)]\n",
      "----------\n",
      "cardio\n",
      "2 [(0, 35021), (1, 34979)]\n",
      "----------\n"
     ]
    }
   ],
   "source": [
    "for c in df.columns:\n",
    "    n = df[c].nunique()\n",
    "    print(c)\n",
    "    if n <= 3:\n",
    "        print(n, sorted(df[c].value_counts().to_dict().items()))\n",
    "    else:\n",
    "        print(n)\n",
    "    print(10 * '-')"
   ]
  },
  {
   "cell_type": "markdown",
   "id": "18e60626",
   "metadata": {
    "_uuid": "53507160b237077bf8b19fb987b910669c04ba8b",
    "papermill": {
     "duration": 0.042629,
     "end_time": "2021-10-28T21:45:11.254012",
     "exception": false,
     "start_time": "2021-10-28T21:45:11.211383",
     "status": "completed"
    },
    "tags": []
   },
   "source": [
    "In the end, we have:\n",
    "- 5 numerical features (excluding *id*);\n",
    "- 7 categorical features;\n",
    "- 70000 records in total."
   ]
  },
  {
   "cell_type": "markdown",
   "id": "4fdbbbea",
   "metadata": {
    "_uuid": "5f9dc83567c83c1ab2eeb4b855d3f8460c1a735e",
    "papermill": {
     "duration": 0.041529,
     "end_time": "2021-10-28T21:45:11.337953",
     "exception": false,
     "start_time": "2021-10-28T21:45:11.296424",
     "status": "completed"
    },
    "tags": []
   },
   "source": [
    "## 1.1. Basic observations"
   ]
  },
  {
   "cell_type": "markdown",
   "id": "be443486",
   "metadata": {
    "_uuid": "129e6509399146154e8c7e293a2fd11f5d267fa4",
    "papermill": {
     "duration": 0.041338,
     "end_time": "2021-10-28T21:45:11.421466",
     "exception": false,
     "start_time": "2021-10-28T21:45:11.380128",
     "status": "completed"
    },
    "tags": []
   },
   "source": [
    "**Question 1.1. (1 point). How many men and women are present in this dataset? Values of the `gender` feature were not given (whether \"1\" stands for women or for men) – figure this out by looking analyzing height, making the assumption that men are taller on average. **\n",
    "1. 45530 women and 24470 men\n",
    "2. 45530 men and 24470 women\n",
    "3. 45470 women and 24530 men\n",
    "4. 45470 men and 24530 women"
   ]
  },
  {
   "cell_type": "markdown",
   "id": "51c76bbd",
   "metadata": {
    "papermill": {
     "duration": 0.041552,
     "end_time": "2021-10-28T21:45:11.505043",
     "exception": false,
     "start_time": "2021-10-28T21:45:11.463491",
     "status": "completed"
    },
    "tags": []
   },
   "source": [
    "1 = 45530\n",
    "2 = 24470"
   ]
  },
  {
   "cell_type": "code",
   "execution_count": 7,
   "id": "c028fe95",
   "metadata": {
    "execution": {
     "iopub.execute_input": "2021-10-28T21:45:11.607910Z",
     "iopub.status.busy": "2021-10-28T21:45:11.593609Z",
     "iopub.status.idle": "2021-10-28T21:45:11.611259Z",
     "shell.execute_reply": "2021-10-28T21:45:11.610594Z",
     "shell.execute_reply.started": "2021-10-28T20:21:57.047401Z"
    },
    "papermill": {
     "duration": 0.064544,
     "end_time": "2021-10-28T21:45:11.611414",
     "exception": false,
     "start_time": "2021-10-28T21:45:11.546870",
     "status": "completed"
    },
    "tags": []
   },
   "outputs": [
    {
     "data": {
      "text/html": [
       "<div>\n",
       "<style scoped>\n",
       "    .dataframe tbody tr th:only-of-type {\n",
       "        vertical-align: middle;\n",
       "    }\n",
       "\n",
       "    .dataframe tbody tr th {\n",
       "        vertical-align: top;\n",
       "    }\n",
       "\n",
       "    .dataframe thead th {\n",
       "        text-align: right;\n",
       "    }\n",
       "</style>\n",
       "<table border=\"1\" class=\"dataframe\">\n",
       "  <thead>\n",
       "    <tr style=\"text-align: right;\">\n",
       "      <th></th>\n",
       "      <th>id</th>\n",
       "      <th>age</th>\n",
       "      <th>gender</th>\n",
       "      <th>height</th>\n",
       "      <th>weight</th>\n",
       "      <th>ap_hi</th>\n",
       "      <th>ap_lo</th>\n",
       "      <th>cholesterol</th>\n",
       "      <th>gluc</th>\n",
       "      <th>smoke</th>\n",
       "      <th>alco</th>\n",
       "      <th>active</th>\n",
       "      <th>cardio</th>\n",
       "    </tr>\n",
       "  </thead>\n",
       "  <tbody>\n",
       "    <tr>\n",
       "      <th>14</th>\n",
       "      <td>23</td>\n",
       "      <td>14532</td>\n",
       "      <td>2</td>\n",
       "      <td>181</td>\n",
       "      <td>95.0</td>\n",
       "      <td>130</td>\n",
       "      <td>90</td>\n",
       "      <td>1</td>\n",
       "      <td>1</td>\n",
       "      <td>1</td>\n",
       "      <td>1</td>\n",
       "      <td>1</td>\n",
       "      <td>0</td>\n",
       "    </tr>\n",
       "    <tr>\n",
       "      <th>62</th>\n",
       "      <td>81</td>\n",
       "      <td>20330</td>\n",
       "      <td>2</td>\n",
       "      <td>187</td>\n",
       "      <td>115.0</td>\n",
       "      <td>130</td>\n",
       "      <td>90</td>\n",
       "      <td>1</td>\n",
       "      <td>1</td>\n",
       "      <td>0</td>\n",
       "      <td>1</td>\n",
       "      <td>1</td>\n",
       "      <td>0</td>\n",
       "    </tr>\n",
       "    <tr>\n",
       "      <th>76</th>\n",
       "      <td>105</td>\n",
       "      <td>20397</td>\n",
       "      <td>2</td>\n",
       "      <td>188</td>\n",
       "      <td>105.0</td>\n",
       "      <td>120</td>\n",
       "      <td>80</td>\n",
       "      <td>1</td>\n",
       "      <td>1</td>\n",
       "      <td>0</td>\n",
       "      <td>0</td>\n",
       "      <td>1</td>\n",
       "      <td>1</td>\n",
       "    </tr>\n",
       "    <tr>\n",
       "      <th>94</th>\n",
       "      <td>127</td>\n",
       "      <td>15946</td>\n",
       "      <td>2</td>\n",
       "      <td>185</td>\n",
       "      <td>88.0</td>\n",
       "      <td>133</td>\n",
       "      <td>89</td>\n",
       "      <td>2</td>\n",
       "      <td>3</td>\n",
       "      <td>0</td>\n",
       "      <td>0</td>\n",
       "      <td>1</td>\n",
       "      <td>0</td>\n",
       "    </tr>\n",
       "    <tr>\n",
       "      <th>103</th>\n",
       "      <td>138</td>\n",
       "      <td>18128</td>\n",
       "      <td>2</td>\n",
       "      <td>183</td>\n",
       "      <td>95.0</td>\n",
       "      <td>125</td>\n",
       "      <td>80</td>\n",
       "      <td>1</td>\n",
       "      <td>3</td>\n",
       "      <td>1</td>\n",
       "      <td>0</td>\n",
       "      <td>1</td>\n",
       "      <td>0</td>\n",
       "    </tr>\n",
       "    <tr>\n",
       "      <th>...</th>\n",
       "      <td>...</td>\n",
       "      <td>...</td>\n",
       "      <td>...</td>\n",
       "      <td>...</td>\n",
       "      <td>...</td>\n",
       "      <td>...</td>\n",
       "      <td>...</td>\n",
       "      <td>...</td>\n",
       "      <td>...</td>\n",
       "      <td>...</td>\n",
       "      <td>...</td>\n",
       "      <td>...</td>\n",
       "      <td>...</td>\n",
       "    </tr>\n",
       "    <tr>\n",
       "      <th>69887</th>\n",
       "      <td>99820</td>\n",
       "      <td>15241</td>\n",
       "      <td>2</td>\n",
       "      <td>183</td>\n",
       "      <td>84.0</td>\n",
       "      <td>110</td>\n",
       "      <td>80</td>\n",
       "      <td>1</td>\n",
       "      <td>1</td>\n",
       "      <td>0</td>\n",
       "      <td>0</td>\n",
       "      <td>1</td>\n",
       "      <td>1</td>\n",
       "    </tr>\n",
       "    <tr>\n",
       "      <th>69913</th>\n",
       "      <td>99862</td>\n",
       "      <td>18748</td>\n",
       "      <td>2</td>\n",
       "      <td>186</td>\n",
       "      <td>101.0</td>\n",
       "      <td>110</td>\n",
       "      <td>80</td>\n",
       "      <td>3</td>\n",
       "      <td>1</td>\n",
       "      <td>0</td>\n",
       "      <td>0</td>\n",
       "      <td>1</td>\n",
       "      <td>0</td>\n",
       "    </tr>\n",
       "    <tr>\n",
       "      <th>69975</th>\n",
       "      <td>99963</td>\n",
       "      <td>21264</td>\n",
       "      <td>2</td>\n",
       "      <td>182</td>\n",
       "      <td>100.0</td>\n",
       "      <td>120</td>\n",
       "      <td>80</td>\n",
       "      <td>1</td>\n",
       "      <td>1</td>\n",
       "      <td>0</td>\n",
       "      <td>0</td>\n",
       "      <td>1</td>\n",
       "      <td>1</td>\n",
       "    </tr>\n",
       "    <tr>\n",
       "      <th>69981</th>\n",
       "      <td>99972</td>\n",
       "      <td>17500</td>\n",
       "      <td>2</td>\n",
       "      <td>182</td>\n",
       "      <td>110.0</td>\n",
       "      <td>130</td>\n",
       "      <td>90</td>\n",
       "      <td>2</td>\n",
       "      <td>2</td>\n",
       "      <td>0</td>\n",
       "      <td>0</td>\n",
       "      <td>1</td>\n",
       "      <td>1</td>\n",
       "    </tr>\n",
       "    <tr>\n",
       "      <th>69997</th>\n",
       "      <td>99996</td>\n",
       "      <td>19066</td>\n",
       "      <td>2</td>\n",
       "      <td>183</td>\n",
       "      <td>105.0</td>\n",
       "      <td>180</td>\n",
       "      <td>90</td>\n",
       "      <td>3</td>\n",
       "      <td>1</td>\n",
       "      <td>0</td>\n",
       "      <td>1</td>\n",
       "      <td>0</td>\n",
       "      <td>1</td>\n",
       "    </tr>\n",
       "  </tbody>\n",
       "</table>\n",
       "<p>1439 rows × 13 columns</p>\n",
       "</div>"
      ],
      "text/plain": [
       "          id    age  gender  height  weight  ap_hi  ap_lo  cholesterol  gluc  \\\n",
       "14        23  14532       2     181    95.0    130     90            1     1   \n",
       "62        81  20330       2     187   115.0    130     90            1     1   \n",
       "76       105  20397       2     188   105.0    120     80            1     1   \n",
       "94       127  15946       2     185    88.0    133     89            2     3   \n",
       "103      138  18128       2     183    95.0    125     80            1     3   \n",
       "...      ...    ...     ...     ...     ...    ...    ...          ...   ...   \n",
       "69887  99820  15241       2     183    84.0    110     80            1     1   \n",
       "69913  99862  18748       2     186   101.0    110     80            3     1   \n",
       "69975  99963  21264       2     182   100.0    120     80            1     1   \n",
       "69981  99972  17500       2     182   110.0    130     90            2     2   \n",
       "69997  99996  19066       2     183   105.0    180     90            3     1   \n",
       "\n",
       "       smoke  alco  active  cardio  \n",
       "14         1     1       1       0  \n",
       "62         0     1       1       0  \n",
       "76         0     0       1       1  \n",
       "94         0     0       1       0  \n",
       "103        1     0       1       0  \n",
       "...      ...   ...     ...     ...  \n",
       "69887      0     0       1       1  \n",
       "69913      0     0       1       0  \n",
       "69975      0     0       1       1  \n",
       "69981      0     0       1       1  \n",
       "69997      0     1       0       1  \n",
       "\n",
       "[1439 rows x 13 columns]"
      ]
     },
     "execution_count": 7,
     "metadata": {},
     "output_type": "execute_result"
    }
   ],
   "source": [
    "df.loc[df['height'] > 180]"
   ]
  },
  {
   "cell_type": "markdown",
   "id": "4f8b4920",
   "metadata": {
    "papermill": {
     "duration": 0.042548,
     "end_time": "2021-10-28T21:45:11.696977",
     "exception": false,
     "start_time": "2021-10-28T21:45:11.654429",
     "status": "completed"
    },
    "tags": []
   },
   "source": [
    "При росте больше 180 в основном встречается гендер 2\n",
    "1. 45530 women and 24470 men"
   ]
  },
  {
   "cell_type": "markdown",
   "id": "da126720",
   "metadata": {
    "_uuid": "d6b36cf91cd63fcce92c4177475820bd6b94ec89",
    "papermill": {
     "duration": 0.04204,
     "end_time": "2021-10-28T21:45:11.781888",
     "exception": false,
     "start_time": "2021-10-28T21:45:11.739848",
     "status": "completed"
    },
    "tags": []
   },
   "source": [
    "**Question 1.2. (1 point). Which gender more often reports consuming alcohol - men or women?**\n",
    "1. women\n",
    "2. men"
   ]
  },
  {
   "cell_type": "code",
   "execution_count": 8,
   "id": "477981cb",
   "metadata": {
    "execution": {
     "iopub.execute_input": "2021-10-28T21:45:11.877620Z",
     "iopub.status.busy": "2021-10-28T21:45:11.876439Z",
     "iopub.status.idle": "2021-10-28T21:45:11.882359Z",
     "shell.execute_reply": "2021-10-28T21:45:11.881686Z",
     "shell.execute_reply.started": "2021-10-28T20:27:29.347077Z"
    },
    "papermill": {
     "duration": 0.05757,
     "end_time": "2021-10-28T21:45:11.882502",
     "exception": false,
     "start_time": "2021-10-28T21:45:11.824932",
     "status": "completed"
    },
    "tags": []
   },
   "outputs": [
    {
     "name": "stdout",
     "output_type": "stream",
     "text": [
      "1161 2603\n"
     ]
    }
   ],
   "source": [
    "women = df.loc[(df['gender'] == 1) & (df['alco'] == 1)]['alco'].count()\n",
    "men = df.loc[(df['gender'] == 2) & (df['alco'] == 1)]['alco'].count()\n",
    "print(women, men)"
   ]
  },
  {
   "cell_type": "markdown",
   "id": "b7d7cd72",
   "metadata": {
    "papermill": {
     "duration": 0.043907,
     "end_time": "2021-10-28T21:45:11.970192",
     "exception": false,
     "start_time": "2021-10-28T21:45:11.926285",
     "status": "completed"
    },
    "tags": []
   },
   "source": [
    "2. men"
   ]
  },
  {
   "cell_type": "markdown",
   "id": "35d105b8",
   "metadata": {
    "_uuid": "8b98389e26edd01374d6217d8dd1e2d5ffff9d1c",
    "papermill": {
     "duration": 0.042532,
     "end_time": "2021-10-28T21:45:12.056600",
     "exception": false,
     "start_time": "2021-10-28T21:45:12.014068",
     "status": "completed"
    },
    "tags": []
   },
   "source": [
    "**Question 1.3. (1 point). What is the difference between the percentages of smokers among men and women (rounded)?**\n",
    "1. 4\n",
    "2. 16\n",
    "3. 20\n",
    "4. 24"
   ]
  },
  {
   "cell_type": "code",
   "execution_count": 9,
   "id": "b1c0c5fa",
   "metadata": {
    "execution": {
     "iopub.execute_input": "2021-10-28T21:45:12.152300Z",
     "iopub.status.busy": "2021-10-28T21:45:12.149239Z",
     "iopub.status.idle": "2021-10-28T21:45:12.164020Z",
     "shell.execute_reply": "2021-10-28T21:45:12.163194Z",
     "shell.execute_reply.started": "2021-10-28T20:36:08.058162Z"
    },
    "papermill": {
     "duration": 0.06434,
     "end_time": "2021-10-28T21:45:12.164213",
     "exception": false,
     "start_time": "2021-10-28T21:45:12.099873",
     "status": "completed"
    },
    "tags": []
   },
   "outputs": [
    {
     "name": "stdout",
     "output_type": "stream",
     "text": [
      "20.102390309976734\n"
     ]
    }
   ],
   "source": [
    "women = df.loc[(df['gender'] == 1) & (df['smoke'] == 1)]['smoke'].count() / df.loc[df['gender'] == 1]['smoke'].count() * 100\n",
    "men = df.loc[(df['gender'] == 2) & (df['smoke'] == 1)]['smoke'].count() / df.loc[df['gender'] == 2]['smoke'].count() * 100\n",
    "print(men - women)\n"
   ]
  },
  {
   "cell_type": "markdown",
   "id": "c236933a",
   "metadata": {
    "papermill": {
     "duration": 0.042809,
     "end_time": "2021-10-28T21:45:12.250791",
     "exception": false,
     "start_time": "2021-10-28T21:45:12.207982",
     "status": "completed"
    },
    "tags": []
   },
   "source": [
    "3. 20"
   ]
  },
  {
   "cell_type": "markdown",
   "id": "00db07af",
   "metadata": {
    "_uuid": "c92554c5fe98a07b298cec98eaa2622a3bedbeeb",
    "papermill": {
     "duration": 0.042527,
     "end_time": "2021-10-28T21:45:12.336488",
     "exception": false,
     "start_time": "2021-10-28T21:45:12.293961",
     "status": "completed"
    },
    "tags": []
   },
   "source": [
    "**Question 1.4. (1 point). What is the difference between median values of age for smokers and non-smokers (in months, rounded)? You'll need to figure out the units of feature `age` in this dataset.**\n",
    "\n",
    "1. 5\n",
    "2. 10\n",
    "3. 15\n",
    "4. 20"
   ]
  },
  {
   "cell_type": "code",
   "execution_count": 10,
   "id": "c376c745",
   "metadata": {
    "execution": {
     "iopub.execute_input": "2021-10-28T21:45:12.434346Z",
     "iopub.status.busy": "2021-10-28T21:45:12.433224Z",
     "iopub.status.idle": "2021-10-28T21:45:12.437604Z",
     "shell.execute_reply": "2021-10-28T21:45:12.438231Z",
     "shell.execute_reply.started": "2021-10-28T20:45:36.868279Z"
    },
    "papermill": {
     "duration": 0.058789,
     "end_time": "2021-10-28T21:45:12.438415",
     "exception": false,
     "start_time": "2021-10-28T21:45:12.379626",
     "status": "completed"
    },
    "tags": []
   },
   "outputs": [
    {
     "name": "stdout",
     "output_type": "stream",
     "text": [
      "19.9\n"
     ]
    }
   ],
   "source": [
    "smoke = df.loc[df['smoke'] == 1]['age'].median()\n",
    "nonsmoke = df.loc[df['smoke'] == 0]['age'].median()\n",
    "delta = (nonsmoke - smoke) / 30\n",
    "print(delta)"
   ]
  },
  {
   "cell_type": "markdown",
   "id": "df4ab467",
   "metadata": {
    "papermill": {
     "duration": 0.043457,
     "end_time": "2021-10-28T21:45:12.526196",
     "exception": false,
     "start_time": "2021-10-28T21:45:12.482739",
     "status": "completed"
    },
    "tags": []
   },
   "source": [
    "4. 20"
   ]
  },
  {
   "cell_type": "markdown",
   "id": "cefb6766",
   "metadata": {
    "_uuid": "ac5d59876eb97782eab5f038aa8b2335e014d9bf",
    "papermill": {
     "duration": 0.043415,
     "end_time": "2021-10-28T21:45:12.615183",
     "exception": false,
     "start_time": "2021-10-28T21:45:12.571768",
     "status": "completed"
    },
    "tags": []
   },
   "source": [
    "## 1.2. Risk maps\n",
    "### Task:"
   ]
  },
  {
   "cell_type": "markdown",
   "id": "9fabfb79",
   "metadata": {
    "_uuid": "9efc6fd8ff26ea2ddf95e7e0b70ef3b802f83af5",
    "papermill": {
     "duration": 0.043329,
     "end_time": "2021-10-28T21:45:12.702555",
     "exception": false,
     "start_time": "2021-10-28T21:45:12.659226",
     "status": "completed"
    },
    "tags": []
   },
   "source": [
    "On the website for the European Society of Cardiology, a [SCORE scale](https://www.escardio.org/Education/Practice-Tools/CVD-prevention-toolbox/SCORE-Risk-Charts) is provided. It is used for calculating the risk of death from a cardiovascular decease in the next 10 years. Here it is:\n",
    "<img src=https://habrastorage.org/webt/ik/gx/hr/ikgxhr3w1vzqihgitgrbdorfb14.png width=30%>\n",
    "\n",
    "Let's take a look at the upper-right rectangle, which shows a subset of smoking men aged from 60 to 65. (It's not obvious, but the values in the figure represent the upper bound).\n",
    "\n",
    "We see the value 9 in the lower-left corner of the rectangle and 47 in the upper-right. This means that, for people in this gender-age group whose systolic pressure is less than 120, the risk of a CVD is estimated to be 5 times lower than for those with the pressure in the interval [160,180).\n",
    "\n",
    "Let's calculate that same ratio using our data.\n",
    "\n",
    "Clarifications:\n",
    "- Calculate ``age_years`` feature – round age to the nearest number of years. For this task, select only the people of age 60 to 64, inclusive.\n",
    "- Cholesterol level categories differ between the figure and our dataset. The conversion for the ``cholesterol`` feature is as follows: 4 mmol/l $\\rightarrow$ 1, 5-7 mmol/l $\\rightarrow$ 2, 8 mmol/l $\\rightarrow$ 3."
   ]
  },
  {
   "cell_type": "code",
   "execution_count": 11,
   "id": "5ba2807a",
   "metadata": {
    "_uuid": "8caffb39e65c95e4cfebfe448bbe224af4d0766c",
    "execution": {
     "iopub.execute_input": "2021-10-28T21:45:12.797996Z",
     "iopub.status.busy": "2021-10-28T21:45:12.796794Z",
     "iopub.status.idle": "2021-10-28T21:45:12.799734Z",
     "shell.execute_reply": "2021-10-28T21:45:12.799082Z",
     "shell.execute_reply.started": "2021-10-28T20:57:37.715048Z"
    },
    "papermill": {
     "duration": 0.053649,
     "end_time": "2021-10-28T21:45:12.799878",
     "exception": false,
     "start_time": "2021-10-28T21:45:12.746229",
     "status": "completed"
    },
    "tags": []
   },
   "outputs": [],
   "source": [
    "df['age'] = df['age'] / 360"
   ]
  },
  {
   "cell_type": "markdown",
   "id": "1ff5129b",
   "metadata": {
    "_uuid": "e71f8859a7fb8f23a78ac84b861d41c8f1b9e11f",
    "papermill": {
     "duration": 0.04333,
     "end_time": "2021-10-28T21:45:12.886870",
     "exception": false,
     "start_time": "2021-10-28T21:45:12.843540",
     "status": "completed"
    },
    "tags": []
   },
   "source": [
    "**Question 1.5. (2 points). Calculate the fraction of the people with CVD for the two segments described above. What is the ratio of these two fractions?**\n",
    "\n",
    "1. 1\n",
    "2. 2\n",
    "3. 3\n",
    "4. 4"
   ]
  },
  {
   "cell_type": "code",
   "execution_count": 12,
   "id": "1c7520bf",
   "metadata": {
    "execution": {
     "iopub.execute_input": "2021-10-28T21:45:12.988650Z",
     "iopub.status.busy": "2021-10-28T21:45:12.987470Z",
     "iopub.status.idle": "2021-10-28T21:45:12.996087Z",
     "shell.execute_reply": "2021-10-28T21:45:12.996928Z",
     "shell.execute_reply.started": "2021-10-28T21:00:41.037643Z"
    },
    "papermill": {
     "duration": 0.066101,
     "end_time": "2021-10-28T21:45:12.997191",
     "exception": false,
     "start_time": "2021-10-28T21:45:12.931090",
     "status": "completed"
    },
    "tags": []
   },
   "outputs": [
    {
     "name": "stdout",
     "output_type": "stream",
     "text": [
      "3.9190751445086707\n"
     ]
    }
   ],
   "source": [
    "smoker = df.loc[ (df['age'] < 65) \n",
    "               & (df['age'] >= 60)\n",
    "               & (df['smoke'] == 1)\n",
    "               & (df['cholesterol'] == 3)\n",
    "               & (df['gender'] == 2) ]['age'].count()\n",
    "nonsmoker = df.loc[ (df['age'] < 65) \n",
    "                  & (df['age'] >= 60)\n",
    "                  & (df['smoke'] == 0)\n",
    "                  & (df['cholesterol'] == 3)\n",
    "                  & (df['gender'] == 2) ]['age'].count()\n",
    "print(nonsmoker / smoker)"
   ]
  },
  {
   "cell_type": "markdown",
   "id": "879703a0",
   "metadata": {
    "papermill": {
     "duration": 0.043395,
     "end_time": "2021-10-28T21:45:13.085454",
     "exception": false,
     "start_time": "2021-10-28T21:45:13.042059",
     "status": "completed"
    },
    "tags": []
   },
   "source": [
    "4. 4"
   ]
  },
  {
   "cell_type": "markdown",
   "id": "e64c8d1a",
   "metadata": {
    "_uuid": "54cef692e0af3745091c7177d63a2d6c36044474",
    "papermill": {
     "duration": 0.044256,
     "end_time": "2021-10-28T21:45:13.173504",
     "exception": false,
     "start_time": "2021-10-28T21:45:13.129248",
     "status": "completed"
    },
    "tags": []
   },
   "source": [
    "## 1.3. Analyzing BMI\n",
    "### Task:"
   ]
  },
  {
   "cell_type": "markdown",
   "id": "7ad2e8b7",
   "metadata": {
    "_uuid": "c52b4b1c20956e3cc420bb13e7bb12d80aa3ef1a",
    "papermill": {
     "duration": 0.043514,
     "end_time": "2021-10-28T21:45:13.261269",
     "exception": false,
     "start_time": "2021-10-28T21:45:13.217755",
     "status": "completed"
    },
    "tags": []
   },
   "source": [
    "Create a new feature – BMI ([Body Mass Index](https://en.wikipedia.org/wiki/Body_mass_index)). To do this, divide weight in kilogramms by the square of the height in meters. Normal BMI values are said to be from 18.5 to 25. "
   ]
  },
  {
   "cell_type": "code",
   "execution_count": 13,
   "id": "d8278a3a",
   "metadata": {
    "_uuid": "5b3134f2597650ae95d0196393b30797518f0498",
    "execution": {
     "iopub.execute_input": "2021-10-28T21:45:13.356889Z",
     "iopub.status.busy": "2021-10-28T21:45:13.354641Z",
     "iopub.status.idle": "2021-10-28T21:45:13.372364Z",
     "shell.execute_reply": "2021-10-28T21:45:13.371645Z",
     "shell.execute_reply.started": "2021-10-28T21:02:42.565788Z"
    },
    "papermill": {
     "duration": 0.066753,
     "end_time": "2021-10-28T21:45:13.372515",
     "exception": false,
     "start_time": "2021-10-28T21:45:13.305762",
     "status": "completed"
    },
    "tags": []
   },
   "outputs": [
    {
     "data": {
      "text/html": [
       "<div>\n",
       "<style scoped>\n",
       "    .dataframe tbody tr th:only-of-type {\n",
       "        vertical-align: middle;\n",
       "    }\n",
       "\n",
       "    .dataframe tbody tr th {\n",
       "        vertical-align: top;\n",
       "    }\n",
       "\n",
       "    .dataframe thead th {\n",
       "        text-align: right;\n",
       "    }\n",
       "</style>\n",
       "<table border=\"1\" class=\"dataframe\">\n",
       "  <thead>\n",
       "    <tr style=\"text-align: right;\">\n",
       "      <th></th>\n",
       "      <th>id</th>\n",
       "      <th>age</th>\n",
       "      <th>gender</th>\n",
       "      <th>height</th>\n",
       "      <th>weight</th>\n",
       "      <th>ap_hi</th>\n",
       "      <th>ap_lo</th>\n",
       "      <th>cholesterol</th>\n",
       "      <th>gluc</th>\n",
       "      <th>smoke</th>\n",
       "      <th>alco</th>\n",
       "      <th>active</th>\n",
       "      <th>cardio</th>\n",
       "      <th>BMI</th>\n",
       "    </tr>\n",
       "  </thead>\n",
       "  <tbody>\n",
       "    <tr>\n",
       "      <th>0</th>\n",
       "      <td>0</td>\n",
       "      <td>51.091667</td>\n",
       "      <td>2</td>\n",
       "      <td>168</td>\n",
       "      <td>62.0</td>\n",
       "      <td>110</td>\n",
       "      <td>80</td>\n",
       "      <td>1</td>\n",
       "      <td>1</td>\n",
       "      <td>0</td>\n",
       "      <td>0</td>\n",
       "      <td>1</td>\n",
       "      <td>0</td>\n",
       "      <td>21.967120</td>\n",
       "    </tr>\n",
       "    <tr>\n",
       "      <th>1</th>\n",
       "      <td>1</td>\n",
       "      <td>56.188889</td>\n",
       "      <td>1</td>\n",
       "      <td>156</td>\n",
       "      <td>85.0</td>\n",
       "      <td>140</td>\n",
       "      <td>90</td>\n",
       "      <td>3</td>\n",
       "      <td>1</td>\n",
       "      <td>0</td>\n",
       "      <td>0</td>\n",
       "      <td>1</td>\n",
       "      <td>1</td>\n",
       "      <td>34.927679</td>\n",
       "    </tr>\n",
       "    <tr>\n",
       "      <th>2</th>\n",
       "      <td>2</td>\n",
       "      <td>52.380556</td>\n",
       "      <td>1</td>\n",
       "      <td>165</td>\n",
       "      <td>64.0</td>\n",
       "      <td>130</td>\n",
       "      <td>70</td>\n",
       "      <td>3</td>\n",
       "      <td>1</td>\n",
       "      <td>0</td>\n",
       "      <td>0</td>\n",
       "      <td>0</td>\n",
       "      <td>1</td>\n",
       "      <td>23.507805</td>\n",
       "    </tr>\n",
       "    <tr>\n",
       "      <th>3</th>\n",
       "      <td>3</td>\n",
       "      <td>48.952778</td>\n",
       "      <td>2</td>\n",
       "      <td>169</td>\n",
       "      <td>82.0</td>\n",
       "      <td>150</td>\n",
       "      <td>100</td>\n",
       "      <td>1</td>\n",
       "      <td>1</td>\n",
       "      <td>0</td>\n",
       "      <td>0</td>\n",
       "      <td>1</td>\n",
       "      <td>1</td>\n",
       "      <td>28.710479</td>\n",
       "    </tr>\n",
       "    <tr>\n",
       "      <th>4</th>\n",
       "      <td>4</td>\n",
       "      <td>48.538889</td>\n",
       "      <td>1</td>\n",
       "      <td>156</td>\n",
       "      <td>56.0</td>\n",
       "      <td>100</td>\n",
       "      <td>60</td>\n",
       "      <td>1</td>\n",
       "      <td>1</td>\n",
       "      <td>0</td>\n",
       "      <td>0</td>\n",
       "      <td>0</td>\n",
       "      <td>0</td>\n",
       "      <td>23.011177</td>\n",
       "    </tr>\n",
       "  </tbody>\n",
       "</table>\n",
       "</div>"
      ],
      "text/plain": [
       "   id        age  gender  height  weight  ap_hi  ap_lo  cholesterol  gluc  \\\n",
       "0   0  51.091667       2     168    62.0    110     80            1     1   \n",
       "1   1  56.188889       1     156    85.0    140     90            3     1   \n",
       "2   2  52.380556       1     165    64.0    130     70            3     1   \n",
       "3   3  48.952778       2     169    82.0    150    100            1     1   \n",
       "4   4  48.538889       1     156    56.0    100     60            1     1   \n",
       "\n",
       "   smoke  alco  active  cardio        BMI  \n",
       "0      0     0       1       0  21.967120  \n",
       "1      0     0       1       1  34.927679  \n",
       "2      0     0       0       1  23.507805  \n",
       "3      0     0       1       1  28.710479  \n",
       "4      0     0       0       0  23.011177  "
      ]
     },
     "execution_count": 13,
     "metadata": {},
     "output_type": "execute_result"
    }
   ],
   "source": [
    "df['BMI'] = df['weight'] / (df['height'] / 100)**2\n",
    "df.head()"
   ]
  },
  {
   "cell_type": "markdown",
   "id": "b6e63741",
   "metadata": {
    "_uuid": "1c2baed24cc5b3abb94b5c6c09d571f29b39213b",
    "papermill": {
     "duration": 0.044148,
     "end_time": "2021-10-28T21:45:13.461341",
     "exception": false,
     "start_time": "2021-10-28T21:45:13.417193",
     "status": "completed"
    },
    "tags": []
   },
   "source": [
    "**Question 1.6. (2 points). Choose the correct statements:**\n",
    "\n",
    "1. Median BMI in the sample is within the range of normal BMI values.\n",
    "2. The BMI for women is on average higher than for men.\n",
    "3. Healthy people have, on average, a higher BMI than the people with CVD.\n",
    "4. For healthy, non-drinking men, BMI is closer to the norm than for healthy, non-drinking women"
   ]
  },
  {
   "cell_type": "code",
   "execution_count": 14,
   "id": "dd743f10",
   "metadata": {
    "execution": {
     "iopub.execute_input": "2021-10-28T21:45:13.553298Z",
     "iopub.status.busy": "2021-10-28T21:45:13.552590Z",
     "iopub.status.idle": "2021-10-28T21:45:13.584006Z",
     "shell.execute_reply": "2021-10-28T21:45:13.584698Z",
     "shell.execute_reply.started": "2021-10-28T21:10:41.272219Z"
    },
    "papermill": {
     "duration": 0.079345,
     "end_time": "2021-10-28T21:45:13.584929",
     "exception": false,
     "start_time": "2021-10-28T21:45:13.505584",
     "status": "completed"
    },
    "tags": []
   },
   "outputs": [
    {
     "name": "stdout",
     "output_type": "stream",
     "text": [
      "26.374068120774975 True False\n",
      "26.711539336810702 27.9417507117023\n"
     ]
    }
   ],
   "source": [
    "first = df['BMI'].median()\n",
    "second = df.loc[df['gender'] == 1]['BMI'].mean() > df.loc[df['gender'] == 2]['BMI'].mean()\n",
    "third = df.loc[df['cardio'] == 0]['BMI'].mean() > df.loc[df['cardio'] == 1]['BMI'].mean()\n",
    "men = df.loc[(df['alco'] == 0) & (df['gender'] == 2)]['BMI'].mean()\n",
    "women = df.loc[(df['alco'] == 0) & (df['gender'] == 1)]['BMI'].mean()\n",
    "print(first, second, third)\n",
    "print(men, women)"
   ]
  },
  {
   "cell_type": "markdown",
   "id": "15dc760f",
   "metadata": {
    "papermill": {
     "duration": 0.045093,
     "end_time": "2021-10-28T21:45:13.676285",
     "exception": false,
     "start_time": "2021-10-28T21:45:13.631192",
     "status": "completed"
    },
    "tags": []
   },
   "source": [
    "2 The BMI for women is on average higher than for men.\n",
    "\n",
    "4 For healthy, non-drinking men, BMI is closer to the norm than for healthy, non-drinking women"
   ]
  },
  {
   "cell_type": "markdown",
   "id": "029fd5b3",
   "metadata": {
    "_uuid": "2e059032eee1d57c896e24a98b659a5ab16144fd",
    "papermill": {
     "duration": 0.045525,
     "end_time": "2021-10-28T21:45:13.766826",
     "exception": false,
     "start_time": "2021-10-28T21:45:13.721301",
     "status": "completed"
    },
    "tags": []
   },
   "source": [
    "## 1.4. Cleaning data"
   ]
  },
  {
   "cell_type": "markdown",
   "id": "32eaa7d7",
   "metadata": {
    "_uuid": "26ccfbcb212c3631b4941a294906c027b974301a",
    "papermill": {
     "duration": 0.045455,
     "end_time": "2021-10-28T21:45:13.858336",
     "exception": false,
     "start_time": "2021-10-28T21:45:13.812881",
     "status": "completed"
    },
    "tags": []
   },
   "source": [
    "### Task:\n",
    "We can see that the data is not perfect. It contains \"dirt\" and inaccuracies. We'll see this better as we visualize the data.\n",
    "\n",
    "Filter out the following patient segments (we consider these as erroneous data)\n",
    "\n",
    "- diastolic pressure is higher than systolic \n",
    "- height is strictly less than 2.5 percentile (Use `pd.Series.quantile` to compute this value. If you are not familiar with the function, please read the docs.)\n",
    "- height is strictly more than 97.5 percentile\n",
    "- weight is strictly less than 2.5 percentile\n",
    "- weight is strictly more than 97.5 percentile\n",
    "\n",
    "This is not everything that we can do to clean this data, but this is sufficient for now."
   ]
  },
  {
   "cell_type": "code",
   "execution_count": 15,
   "id": "aa561dfa",
   "metadata": {
    "_uuid": "483fd26f0aff141810dcb084095c380acafbfbdd",
    "execution": {
     "iopub.execute_input": "2021-10-28T21:45:13.953082Z",
     "iopub.status.busy": "2021-10-28T21:45:13.952341Z",
     "iopub.status.idle": "2021-10-28T21:45:13.982134Z",
     "shell.execute_reply": "2021-10-28T21:45:13.982677Z",
     "shell.execute_reply.started": "2021-10-28T21:29:43.162156Z"
    },
    "papermill": {
     "duration": 0.078807,
     "end_time": "2021-10-28T21:45:13.982846",
     "exception": false,
     "start_time": "2021-10-28T21:45:13.904039",
     "status": "completed"
    },
    "tags": []
   },
   "outputs": [
    {
     "name": "stdout",
     "output_type": "stream",
     "text": [
      "0.025    150.0\n",
      "0.975    180.0\n",
      "Name: height, dtype: float64\n",
      "0.025     51.0\n",
      "0.975    108.0\n",
      "Name: weight, dtype: float64\n",
      "9.631428571428572\n"
     ]
    }
   ],
   "source": [
    "print (df['height'].quantile([0.025,0.975]))\n",
    "print (df['weight'].quantile([0.025,0.975]))\n",
    "\n",
    "dfc = df[df['ap_hi'] > df['ap_lo']]\n",
    "dfc = dfc[(dfc['height'] >= 150) & (dfc['height'] <= 180)]\n",
    "dfc = dfc[(dfc['weight'] >= 51) & (dfc['weight'] <= 108)]\n",
    "\n",
    "print (100 -dfc['age'].count() / df['age'].count() * 100)"
   ]
  },
  {
   "cell_type": "markdown",
   "id": "5800b7d9",
   "metadata": {
    "_uuid": "f807adaa6459d1c75d202bb973831369d6eeb20e",
    "papermill": {
     "duration": 0.045011,
     "end_time": "2021-10-28T21:45:14.073740",
     "exception": false,
     "start_time": "2021-10-28T21:45:14.028729",
     "status": "completed"
    },
    "tags": []
   },
   "source": [
    "**Question 1.7. (2 points). What percent of the original data (rounded) did we throw away?**\n",
    "\n",
    "1. 8\n",
    "2. 9\n",
    "3. 10\n",
    "4. 11"
   ]
  },
  {
   "cell_type": "markdown",
   "id": "eb29baa6",
   "metadata": {
    "papermill": {
     "duration": 0.044805,
     "end_time": "2021-10-28T21:45:14.163680",
     "exception": false,
     "start_time": "2021-10-28T21:45:14.118875",
     "status": "completed"
    },
    "tags": []
   },
   "source": [
    "3. 10"
   ]
  },
  {
   "cell_type": "markdown",
   "id": "c7bba826",
   "metadata": {
    "_uuid": "a9f14b459f71ac2304e73145fc199a90131965e7",
    "papermill": {
     "duration": 0.045139,
     "end_time": "2021-10-28T21:45:14.253989",
     "exception": false,
     "start_time": "2021-10-28T21:45:14.208850",
     "status": "completed"
    },
    "tags": []
   },
   "source": [
    "# Part 2. Visual data analysis\n",
    "\n",
    "## 2.1. Correlation matrix visualization\n",
    "\n",
    "To understand the features better, you can create a matrix of the correlation coefficients between the features. Use the initial dataset (non-filtered).\n",
    "\n",
    "### Task:\n",
    "\n",
    "Plot a correlation matrix using [`heatmap()`](http://seaborn.pydata.org/generated/seaborn.heatmap.html). You can create the matrix using the standard `pandas` tools with the default parameters."
   ]
  },
  {
   "cell_type": "code",
   "execution_count": 16,
   "id": "852f139e",
   "metadata": {
    "_uuid": "a9c19a7bf2dd564b484e8269886340c13967fede",
    "execution": {
     "iopub.execute_input": "2021-10-28T21:45:14.351361Z",
     "iopub.status.busy": "2021-10-28T21:45:14.350702Z",
     "iopub.status.idle": "2021-10-28T21:45:14.688110Z",
     "shell.execute_reply": "2021-10-28T21:45:14.685543Z",
     "shell.execute_reply.started": "2021-10-28T21:31:25.837585Z"
    },
    "papermill": {
     "duration": 0.389339,
     "end_time": "2021-10-28T21:45:14.688345",
     "exception": false,
     "start_time": "2021-10-28T21:45:14.299006",
     "status": "completed"
    },
    "tags": []
   },
   "outputs": [
    {
     "data": {
      "text/plain": [
       "<AxesSubplot:>"
      ]
     },
     "execution_count": 16,
     "metadata": {},
     "output_type": "execute_result"
    },
    {
     "data": {
      "image/png": "[encoded data removed]",
      "text/plain": [
       "<Figure size 792x576 with 2 Axes>"
      ]
     },
     "metadata": {
      "needs_background": "light"
     },
     "output_type": "display_data"
    }
   ],
   "source": [
    "matrix = dfc[['cardio', 'cholesterol', 'height', 'smoke', 'alco', 'weight']].corr()\n",
    "sns.heatmap(matrix)"
   ]
  },
  {
   "cell_type": "markdown",
   "id": "59fa9021",
   "metadata": {
    "_uuid": "987ff630db004c51cc9e89e0c6cf6d14d619c4c0",
    "papermill": {
     "duration": 0.046397,
     "end_time": "2021-10-28T21:45:14.783129",
     "exception": false,
     "start_time": "2021-10-28T21:45:14.736732",
     "status": "completed"
    },
    "tags": []
   },
   "source": [
    "** Question 2.1. (1 point).** Which pair of features has the strongest Pearson's correlation with the *gender* feature?\n",
    "\n",
    "1. Cardio, Cholesterol\n",
    "2. Height, Smoke\n",
    "3. Smoke, Alco\n",
    "4. Height, Weight"
   ]
  },
  {
   "cell_type": "code",
   "execution_count": 17,
   "id": "283d5d0a",
   "metadata": {
    "execution": {
     "iopub.execute_input": "2021-10-28T21:45:14.881747Z",
     "iopub.status.busy": "2021-10-28T21:45:14.881020Z",
     "iopub.status.idle": "2021-10-28T21:45:14.943105Z",
     "shell.execute_reply": "2021-10-28T21:45:14.942491Z",
     "shell.execute_reply.started": "2021-10-28T21:33:26.832405Z"
    },
    "papermill": {
     "duration": 0.11344,
     "end_time": "2021-10-28T21:45:14.943262",
     "exception": false,
     "start_time": "2021-10-28T21:45:14.829822",
     "status": "completed"
    },
    "tags": []
   },
   "outputs": [
    {
     "data": {
      "text/html": [
       "<div>\n",
       "<style scoped>\n",
       "    .dataframe tbody tr th:only-of-type {\n",
       "        vertical-align: middle;\n",
       "    }\n",
       "\n",
       "    .dataframe tbody tr th {\n",
       "        vertical-align: top;\n",
       "    }\n",
       "\n",
       "    .dataframe thead th {\n",
       "        text-align: right;\n",
       "    }\n",
       "</style>\n",
       "<table border=\"1\" class=\"dataframe\">\n",
       "  <thead>\n",
       "    <tr style=\"text-align: right;\">\n",
       "      <th></th>\n",
       "      <th>id</th>\n",
       "      <th>age</th>\n",
       "      <th>gender</th>\n",
       "      <th>height</th>\n",
       "      <th>weight</th>\n",
       "      <th>ap_hi</th>\n",
       "      <th>ap_lo</th>\n",
       "      <th>cholesterol</th>\n",
       "      <th>gluc</th>\n",
       "      <th>smoke</th>\n",
       "      <th>alco</th>\n",
       "      <th>active</th>\n",
       "      <th>cardio</th>\n",
       "      <th>BMI</th>\n",
       "    </tr>\n",
       "  </thead>\n",
       "  <tbody>\n",
       "    <tr>\n",
       "      <th>id</th>\n",
       "      <td>1.000000</td>\n",
       "      <td>0.002481</td>\n",
       "      <td>0.003754</td>\n",
       "      <td>0.000360</td>\n",
       "      <td>0.000195</td>\n",
       "      <td>0.003489</td>\n",
       "      <td>0.000518</td>\n",
       "      <td>0.005572</td>\n",
       "      <td>0.002235</td>\n",
       "      <td>-0.002738</td>\n",
       "      <td>-0.000712</td>\n",
       "      <td>0.005856</td>\n",
       "      <td>0.003918</td>\n",
       "      <td>-0.000002</td>\n",
       "    </tr>\n",
       "    <tr>\n",
       "      <th>age</th>\n",
       "      <td>0.002481</td>\n",
       "      <td>1.000000</td>\n",
       "      <td>-0.018288</td>\n",
       "      <td>-0.076889</td>\n",
       "      <td>0.070236</td>\n",
       "      <td>0.018686</td>\n",
       "      <td>0.153562</td>\n",
       "      <td>0.154632</td>\n",
       "      <td>0.097639</td>\n",
       "      <td>-0.044379</td>\n",
       "      <td>-0.026976</td>\n",
       "      <td>-0.011493</td>\n",
       "      <td>0.240271</td>\n",
       "      <td>0.110302</td>\n",
       "    </tr>\n",
       "    <tr>\n",
       "      <th>gender</th>\n",
       "      <td>0.003754</td>\n",
       "      <td>-0.018288</td>\n",
       "      <td>1.000000</td>\n",
       "      <td>0.506427</td>\n",
       "      <td>0.130145</td>\n",
       "      <td>0.005067</td>\n",
       "      <td>0.059703</td>\n",
       "      <td>-0.038806</td>\n",
       "      <td>-0.023235</td>\n",
       "      <td>0.337867</td>\n",
       "      <td>0.168895</td>\n",
       "      <td>0.007835</td>\n",
       "      <td>0.002327</td>\n",
       "      <td>-0.135745</td>\n",
       "    </tr>\n",
       "    <tr>\n",
       "      <th>height</th>\n",
       "      <td>0.000360</td>\n",
       "      <td>-0.076889</td>\n",
       "      <td>0.506427</td>\n",
       "      <td>1.000000</td>\n",
       "      <td>0.251442</td>\n",
       "      <td>0.004591</td>\n",
       "      <td>0.017862</td>\n",
       "      <td>-0.065966</td>\n",
       "      <td>-0.028353</td>\n",
       "      <td>0.187845</td>\n",
       "      <td>0.089795</td>\n",
       "      <td>-0.005599</td>\n",
       "      <td>-0.024134</td>\n",
       "      <td>-0.266358</td>\n",
       "    </tr>\n",
       "    <tr>\n",
       "      <th>weight</th>\n",
       "      <td>0.000195</td>\n",
       "      <td>0.070236</td>\n",
       "      <td>0.130145</td>\n",
       "      <td>0.251442</td>\n",
       "      <td>1.000000</td>\n",
       "      <td>0.027039</td>\n",
       "      <td>0.227859</td>\n",
       "      <td>0.137735</td>\n",
       "      <td>0.094154</td>\n",
       "      <td>0.056549</td>\n",
       "      <td>0.059930</td>\n",
       "      <td>-0.014347</td>\n",
       "      <td>0.170010</td>\n",
       "      <td>0.862661</td>\n",
       "    </tr>\n",
       "    <tr>\n",
       "      <th>ap_hi</th>\n",
       "      <td>0.003489</td>\n",
       "      <td>0.018686</td>\n",
       "      <td>0.005067</td>\n",
       "      <td>0.004591</td>\n",
       "      <td>0.027039</td>\n",
       "      <td>1.000000</td>\n",
       "      <td>0.072811</td>\n",
       "      <td>0.021498</td>\n",
       "      <td>0.010225</td>\n",
       "      <td>-0.001929</td>\n",
       "      <td>0.000769</td>\n",
       "      <td>-0.000228</td>\n",
       "      <td>0.050559</td>\n",
       "      <td>0.024929</td>\n",
       "    </tr>\n",
       "    <tr>\n",
       "      <th>ap_lo</th>\n",
       "      <td>0.000518</td>\n",
       "      <td>0.153562</td>\n",
       "      <td>0.059703</td>\n",
       "      <td>0.017862</td>\n",
       "      <td>0.227859</td>\n",
       "      <td>0.072811</td>\n",
       "      <td>1.000000</td>\n",
       "      <td>0.154370</td>\n",
       "      <td>0.067062</td>\n",
       "      <td>0.023285</td>\n",
       "      <td>0.033050</td>\n",
       "      <td>0.001633</td>\n",
       "      <td>0.327162</td>\n",
       "      <td>0.216755</td>\n",
       "    </tr>\n",
       "    <tr>\n",
       "      <th>cholesterol</th>\n",
       "      <td>0.005572</td>\n",
       "      <td>0.154632</td>\n",
       "      <td>-0.038806</td>\n",
       "      <td>-0.065966</td>\n",
       "      <td>0.137735</td>\n",
       "      <td>0.021498</td>\n",
       "      <td>0.154370</td>\n",
       "      <td>1.000000</td>\n",
       "      <td>0.451386</td>\n",
       "      <td>0.005693</td>\n",
       "      <td>0.031048</td>\n",
       "      <td>0.007364</td>\n",
       "      <td>0.219101</td>\n",
       "      <td>0.170919</td>\n",
       "    </tr>\n",
       "    <tr>\n",
       "      <th>gluc</th>\n",
       "      <td>0.002235</td>\n",
       "      <td>0.097639</td>\n",
       "      <td>-0.023235</td>\n",
       "      <td>-0.028353</td>\n",
       "      <td>0.094154</td>\n",
       "      <td>0.010225</td>\n",
       "      <td>0.067062</td>\n",
       "      <td>0.451386</td>\n",
       "      <td>1.000000</td>\n",
       "      <td>-0.010227</td>\n",
       "      <td>0.005803</td>\n",
       "      <td>-0.007722</td>\n",
       "      <td>0.087628</td>\n",
       "      <td>0.108134</td>\n",
       "    </tr>\n",
       "    <tr>\n",
       "      <th>smoke</th>\n",
       "      <td>-0.002738</td>\n",
       "      <td>-0.044379</td>\n",
       "      <td>0.337867</td>\n",
       "      <td>0.187845</td>\n",
       "      <td>0.056549</td>\n",
       "      <td>-0.001929</td>\n",
       "      <td>0.023285</td>\n",
       "      <td>0.005693</td>\n",
       "      <td>-0.010227</td>\n",
       "      <td>1.000000</td>\n",
       "      <td>0.341200</td>\n",
       "      <td>0.026931</td>\n",
       "      <td>-0.020340</td>\n",
       "      <td>-0.041646</td>\n",
       "    </tr>\n",
       "    <tr>\n",
       "      <th>alco</th>\n",
       "      <td>-0.000712</td>\n",
       "      <td>-0.026976</td>\n",
       "      <td>0.168895</td>\n",
       "      <td>0.089795</td>\n",
       "      <td>0.059930</td>\n",
       "      <td>0.000769</td>\n",
       "      <td>0.033050</td>\n",
       "      <td>0.031048</td>\n",
       "      <td>0.005803</td>\n",
       "      <td>0.341200</td>\n",
       "      <td>1.000000</td>\n",
       "      <td>0.025841</td>\n",
       "      <td>-0.011084</td>\n",
       "      <td>0.012369</td>\n",
       "    </tr>\n",
       "    <tr>\n",
       "      <th>active</th>\n",
       "      <td>0.005856</td>\n",
       "      <td>-0.011493</td>\n",
       "      <td>0.007835</td>\n",
       "      <td>-0.005599</td>\n",
       "      <td>-0.014347</td>\n",
       "      <td>-0.000228</td>\n",
       "      <td>0.001633</td>\n",
       "      <td>0.007364</td>\n",
       "      <td>-0.007722</td>\n",
       "      <td>0.026931</td>\n",
       "      <td>0.025841</td>\n",
       "      <td>1.000000</td>\n",
       "      <td>-0.037309</td>\n",
       "      <td>-0.011802</td>\n",
       "    </tr>\n",
       "    <tr>\n",
       "      <th>cardio</th>\n",
       "      <td>0.003918</td>\n",
       "      <td>0.240271</td>\n",
       "      <td>0.002327</td>\n",
       "      <td>-0.024134</td>\n",
       "      <td>0.170010</td>\n",
       "      <td>0.050559</td>\n",
       "      <td>0.327162</td>\n",
       "      <td>0.219101</td>\n",
       "      <td>0.087628</td>\n",
       "      <td>-0.020340</td>\n",
       "      <td>-0.011084</td>\n",
       "      <td>-0.037309</td>\n",
       "      <td>1.000000</td>\n",
       "      <td>0.180932</td>\n",
       "    </tr>\n",
       "    <tr>\n",
       "      <th>BMI</th>\n",
       "      <td>-0.000002</td>\n",
       "      <td>0.110302</td>\n",
       "      <td>-0.135745</td>\n",
       "      <td>-0.266358</td>\n",
       "      <td>0.862661</td>\n",
       "      <td>0.024929</td>\n",
       "      <td>0.216755</td>\n",
       "      <td>0.170919</td>\n",
       "      <td>0.108134</td>\n",
       "      <td>-0.041646</td>\n",
       "      <td>0.012369</td>\n",
       "      <td>-0.011802</td>\n",
       "      <td>0.180932</td>\n",
       "      <td>1.000000</td>\n",
       "    </tr>\n",
       "  </tbody>\n",
       "</table>\n",
       "</div>"
      ],
      "text/plain": [
       "                   id       age    gender    height    weight     ap_hi  \\\n",
       "id           1.000000  0.002481  0.003754  0.000360  0.000195  0.003489   \n",
       "age          0.002481  1.000000 -0.018288 -0.076889  0.070236  0.018686   \n",
       "gender       0.003754 -0.018288  1.000000  0.506427  0.130145  0.005067   \n",
       "height       0.000360 -0.076889  0.506427  1.000000  0.251442  0.004591   \n",
       "weight       0.000195  0.070236  0.130145  0.251442  1.000000  0.027039   \n",
       "ap_hi        0.003489  0.018686  0.005067  0.004591  0.027039  1.000000   \n",
       "ap_lo        0.000518  0.153562  0.059703  0.017862  0.227859  0.072811   \n",
       "cholesterol  0.005572  0.154632 -0.038806 -0.065966  0.137735  0.021498   \n",
       "gluc         0.002235  0.097639 -0.023235 -0.028353  0.094154  0.010225   \n",
       "smoke       -0.002738 -0.044379  0.337867  0.187845  0.056549 -0.001929   \n",
       "alco        -0.000712 -0.026976  0.168895  0.089795  0.059930  0.000769   \n",
       "active       0.005856 -0.011493  0.007835 -0.005599 -0.014347 -0.000228   \n",
       "cardio       0.003918  0.240271  0.002327 -0.024134  0.170010  0.050559   \n",
       "BMI         -0.000002  0.110302 -0.135745 -0.266358  0.862661  0.024929   \n",
       "\n",
       "                ap_lo  cholesterol      gluc     smoke      alco    active  \\\n",
       "id           0.000518     0.005572  0.002235 -0.002738 -0.000712  0.005856   \n",
       "age          0.153562     0.154632  0.097639 -0.044379 -0.026976 -0.011493   \n",
       "gender       0.059703    -0.038806 -0.023235  0.337867  0.168895  0.007835   \n",
       "height       0.017862    -0.065966 -0.028353  0.187845  0.089795 -0.005599   \n",
       "weight       0.227859     0.137735  0.094154  0.056549  0.059930 -0.014347   \n",
       "ap_hi        0.072811     0.021498  0.010225 -0.001929  0.000769 -0.000228   \n",
       "ap_lo        1.000000     0.154370  0.067062  0.023285  0.033050  0.001633   \n",
       "cholesterol  0.154370     1.000000  0.451386  0.005693  0.031048  0.007364   \n",
       "gluc         0.067062     0.451386  1.000000 -0.010227  0.005803 -0.007722   \n",
       "smoke        0.023285     0.005693 -0.010227  1.000000  0.341200  0.026931   \n",
       "alco         0.033050     0.031048  0.005803  0.341200  1.000000  0.025841   \n",
       "active       0.001633     0.007364 -0.007722  0.026931  0.025841  1.000000   \n",
       "cardio       0.327162     0.219101  0.087628 -0.020340 -0.011084 -0.037309   \n",
       "BMI          0.216755     0.170919  0.108134 -0.041646  0.012369 -0.011802   \n",
       "\n",
       "               cardio       BMI  \n",
       "id           0.003918 -0.000002  \n",
       "age          0.240271  0.110302  \n",
       "gender       0.002327 -0.135745  \n",
       "height      -0.024134 -0.266358  \n",
       "weight       0.170010  0.862661  \n",
       "ap_hi        0.050559  0.024929  \n",
       "ap_lo        0.327162  0.216755  \n",
       "cholesterol  0.219101  0.170919  \n",
       "gluc         0.087628  0.108134  \n",
       "smoke       -0.020340 -0.041646  \n",
       "alco        -0.011084  0.012369  \n",
       "active      -0.037309 -0.011802  \n",
       "cardio       1.000000  0.180932  \n",
       "BMI          0.180932  1.000000  "
      ]
     },
     "execution_count": 17,
     "metadata": {},
     "output_type": "execute_result"
    }
   ],
   "source": [
    "dfc.corr(method = 'pearson')"
   ]
  },
  {
   "cell_type": "markdown",
   "id": "e0bf1a38",
   "metadata": {
    "papermill": {
     "duration": 0.047897,
     "end_time": "2021-10-28T21:45:15.040769",
     "exception": false,
     "start_time": "2021-10-28T21:45:14.992872",
     "status": "completed"
    },
    "tags": []
   },
   "source": [
    "3. Smoke, Alco"
   ]
  },
  {
   "cell_type": "markdown",
   "id": "6c734ce3",
   "metadata": {
    "_uuid": "01edf6a3a68f47f07164b3e4cb9e6ab5ef1efcd6",
    "papermill": {
     "duration": 0.047672,
     "end_time": "2021-10-28T21:45:15.137892",
     "exception": false,
     "start_time": "2021-10-28T21:45:15.090220",
     "status": "completed"
    },
    "tags": []
   },
   "source": [
    "## 2.2. Height distribution of men and women\n",
    "\n",
    "From our exploration of the unique values earlier, we know that the gender is encoded by the values *1* and *2*. Although you do not know the mapping of these values to gender, you can figure that out graphically by looking at the mean values of height and weight for each value of the *gender* feature.\n",
    "\n",
    "### Task:\n",
    "\n",
    "Create a violin plot for the height and gender using [`violinplot()`](https://seaborn.pydata.org/generated/seaborn.violinplot.html). Use the parameters:\n",
    "- `hue` to split by gender;\n",
    "- `scale` to evaluate the number of records for each gender.\n",
    "\n",
    "In order for the plot to render correctly, you need to convert your `DataFrame` to *long* format using the `melt()` function from `pandas`. Here is [an example](https://stackoverflow.com/a/41575149/3338479) of this for your reference."
   ]
  },
  {
   "cell_type": "code",
   "execution_count": 18,
   "id": "4678042c",
   "metadata": {
    "_uuid": "71d38ccddbe26ca51c69fbdba7cc4405ee459de4",
    "execution": {
     "iopub.execute_input": "2021-10-28T21:45:15.241156Z",
     "iopub.status.busy": "2021-10-28T21:45:15.240394Z",
     "iopub.status.idle": "2021-10-28T21:45:16.341946Z",
     "shell.execute_reply": "2021-10-28T21:45:16.342419Z",
     "shell.execute_reply.started": "2021-10-28T21:37:29.712437Z"
    },
    "papermill": {
     "duration": 1.157168,
     "end_time": "2021-10-28T21:45:16.342598",
     "exception": false,
     "start_time": "2021-10-28T21:45:15.185430",
     "status": "completed"
    },
    "tags": []
   },
   "outputs": [
    {
     "data": {
      "text/plain": [
       "<AxesSubplot:xlabel='variable', ylabel='value'>"
      ]
     },
     "execution_count": 18,
     "metadata": {},
     "output_type": "execute_result"
    },
    {
     "data": {
      "image/png": "[encoded data removed]",
      "text/plain": [
       "<Figure size 792x576 with 1 Axes>"
      ]
     },
     "metadata": {
      "needs_background": "light"
     },
     "output_type": "display_data"
    }
   ],
   "source": [
    "dfg = pd.melt(dfc, id_vars=['gender'], value_vars = ['height', 'weight'])\n",
    "sns.violinplot(x = 'variable', y= 'value', hue = 'gender', scale = 'count', data = dfg)"
   ]
  },
  {
   "cell_type": "markdown",
   "id": "2cabc5b7",
   "metadata": {
    "papermill": {
     "duration": 0.049857,
     "end_time": "2021-10-28T21:45:16.442809",
     "exception": false,
     "start_time": "2021-10-28T21:45:16.392952",
     "status": "completed"
    },
    "tags": []
   },
   "source": [
    "**Question 2.2. (1 point).** Which pair of features has the strongest Spearman correlation?\n",
    "\n",
    "1. Height, Weight\n",
    "2. Age, Weight\n",
    "3. Cholesterol, Gluc\n",
    "4. Cardio, Cholesterol\n",
    "5. Ap_hi, Ap_lo\n",
    "6. Smoke, Alco"
   ]
  },
  {
   "cell_type": "code",
   "execution_count": 19,
   "id": "6d54ad9a",
   "metadata": {
    "execution": {
     "iopub.execute_input": "2021-10-28T21:45:16.547244Z",
     "iopub.status.busy": "2021-10-28T21:45:16.546498Z",
     "iopub.status.idle": "2021-10-28T21:45:16.676497Z",
     "shell.execute_reply": "2021-10-28T21:45:16.675816Z",
     "shell.execute_reply.started": "2021-10-28T21:38:46.351231Z"
    },
    "papermill": {
     "duration": 0.184166,
     "end_time": "2021-10-28T21:45:16.676639",
     "exception": false,
     "start_time": "2021-10-28T21:45:16.492473",
     "status": "completed"
    },
    "tags": []
   },
   "outputs": [
    {
     "data": {
      "text/html": [
       "<div>\n",
       "<style scoped>\n",
       "    .dataframe tbody tr th:only-of-type {\n",
       "        vertical-align: middle;\n",
       "    }\n",
       "\n",
       "    .dataframe tbody tr th {\n",
       "        vertical-align: top;\n",
       "    }\n",
       "\n",
       "    .dataframe thead th {\n",
       "        text-align: right;\n",
       "    }\n",
       "</style>\n",
       "<table border=\"1\" class=\"dataframe\">\n",
       "  <thead>\n",
       "    <tr style=\"text-align: right;\">\n",
       "      <th></th>\n",
       "      <th>id</th>\n",
       "      <th>age</th>\n",
       "      <th>gender</th>\n",
       "      <th>height</th>\n",
       "      <th>weight</th>\n",
       "      <th>ap_hi</th>\n",
       "      <th>ap_lo</th>\n",
       "      <th>cholesterol</th>\n",
       "      <th>gluc</th>\n",
       "      <th>smoke</th>\n",
       "      <th>alco</th>\n",
       "      <th>active</th>\n",
       "      <th>cardio</th>\n",
       "      <th>BMI</th>\n",
       "    </tr>\n",
       "  </thead>\n",
       "  <tbody>\n",
       "    <tr>\n",
       "      <th>id</th>\n",
       "      <td>1.000000</td>\n",
       "      <td>0.001697</td>\n",
       "      <td>0.003751</td>\n",
       "      <td>0.000831</td>\n",
       "      <td>0.000664</td>\n",
       "      <td>0.005796</td>\n",
       "      <td>0.001051</td>\n",
       "      <td>0.004485</td>\n",
       "      <td>0.002304</td>\n",
       "      <td>-0.002747</td>\n",
       "      <td>-0.000720</td>\n",
       "      <td>0.005880</td>\n",
       "      <td>0.003917</td>\n",
       "      <td>-0.000633</td>\n",
       "    </tr>\n",
       "    <tr>\n",
       "      <th>age</th>\n",
       "      <td>0.001697</td>\n",
       "      <td>1.000000</td>\n",
       "      <td>-0.015192</td>\n",
       "      <td>-0.073539</td>\n",
       "      <td>0.070404</td>\n",
       "      <td>0.221709</td>\n",
       "      <td>0.158393</td>\n",
       "      <td>0.140314</td>\n",
       "      <td>0.090948</td>\n",
       "      <td>-0.044073</td>\n",
       "      <td>-0.027295</td>\n",
       "      <td>-0.011884</td>\n",
       "      <td>0.237060</td>\n",
       "      <td>0.107964</td>\n",
       "    </tr>\n",
       "    <tr>\n",
       "      <th>gender</th>\n",
       "      <td>0.003751</td>\n",
       "      <td>-0.015192</td>\n",
       "      <td>1.000000</td>\n",
       "      <td>0.510795</td>\n",
       "      <td>0.141240</td>\n",
       "      <td>0.059170</td>\n",
       "      <td>0.059202</td>\n",
       "      <td>-0.038717</td>\n",
       "      <td>-0.021872</td>\n",
       "      <td>0.337867</td>\n",
       "      <td>0.168895</td>\n",
       "      <td>0.007835</td>\n",
       "      <td>0.002327</td>\n",
       "      <td>-0.106214</td>\n",
       "    </tr>\n",
       "    <tr>\n",
       "      <th>height</th>\n",
       "      <td>0.000831</td>\n",
       "      <td>-0.073539</td>\n",
       "      <td>0.510795</td>\n",
       "      <td>1.000000</td>\n",
       "      <td>0.262498</td>\n",
       "      <td>0.005780</td>\n",
       "      <td>0.015542</td>\n",
       "      <td>-0.066971</td>\n",
       "      <td>-0.031332</td>\n",
       "      <td>0.187576</td>\n",
       "      <td>0.088123</td>\n",
       "      <td>-0.004774</td>\n",
       "      <td>-0.023712</td>\n",
       "      <td>-0.230506</td>\n",
       "    </tr>\n",
       "    <tr>\n",
       "      <th>weight</th>\n",
       "      <td>0.000664</td>\n",
       "      <td>0.070404</td>\n",
       "      <td>0.141240</td>\n",
       "      <td>0.262498</td>\n",
       "      <td>1.000000</td>\n",
       "      <td>0.257491</td>\n",
       "      <td>0.231877</td>\n",
       "      <td>0.133152</td>\n",
       "      <td>0.100085</td>\n",
       "      <td>0.060804</td>\n",
       "      <td>0.060170</td>\n",
       "      <td>-0.011759</td>\n",
       "      <td>0.168027</td>\n",
       "      <td>0.858382</td>\n",
       "    </tr>\n",
       "    <tr>\n",
       "      <th>ap_hi</th>\n",
       "      <td>0.005796</td>\n",
       "      <td>0.221709</td>\n",
       "      <td>0.059170</td>\n",
       "      <td>0.005780</td>\n",
       "      <td>0.257491</td>\n",
       "      <td>1.000000</td>\n",
       "      <td>0.736287</td>\n",
       "      <td>0.204510</td>\n",
       "      <td>0.097658</td>\n",
       "      <td>0.024870</td>\n",
       "      <td>0.030561</td>\n",
       "      <td>-0.000474</td>\n",
       "      <td>0.447226</td>\n",
       "      <td>0.256815</td>\n",
       "    </tr>\n",
       "    <tr>\n",
       "      <th>ap_lo</th>\n",
       "      <td>0.001051</td>\n",
       "      <td>0.158393</td>\n",
       "      <td>0.059202</td>\n",
       "      <td>0.015542</td>\n",
       "      <td>0.231877</td>\n",
       "      <td>0.736287</td>\n",
       "      <td>1.000000</td>\n",
       "      <td>0.162032</td>\n",
       "      <td>0.074277</td>\n",
       "      <td>0.022326</td>\n",
       "      <td>0.033258</td>\n",
       "      <td>0.004485</td>\n",
       "      <td>0.350202</td>\n",
       "      <td>0.226646</td>\n",
       "    </tr>\n",
       "    <tr>\n",
       "      <th>cholesterol</th>\n",
       "      <td>0.004485</td>\n",
       "      <td>0.140314</td>\n",
       "      <td>-0.038717</td>\n",
       "      <td>-0.066971</td>\n",
       "      <td>0.133152</td>\n",
       "      <td>0.204510</td>\n",
       "      <td>0.162032</td>\n",
       "      <td>1.000000</td>\n",
       "      <td>0.407644</td>\n",
       "      <td>0.010227</td>\n",
       "      <td>0.036267</td>\n",
       "      <td>0.004380</td>\n",
       "      <td>0.212826</td>\n",
       "      <td>0.167774</td>\n",
       "    </tr>\n",
       "    <tr>\n",
       "      <th>gluc</th>\n",
       "      <td>0.002304</td>\n",
       "      <td>0.090948</td>\n",
       "      <td>-0.021872</td>\n",
       "      <td>-0.031332</td>\n",
       "      <td>0.100085</td>\n",
       "      <td>0.097658</td>\n",
       "      <td>0.074277</td>\n",
       "      <td>0.407644</td>\n",
       "      <td>1.000000</td>\n",
       "      <td>-0.005631</td>\n",
       "      <td>0.012449</td>\n",
       "      <td>-0.009693</td>\n",
       "      <td>0.089199</td>\n",
       "      <td>0.117128</td>\n",
       "    </tr>\n",
       "    <tr>\n",
       "      <th>smoke</th>\n",
       "      <td>-0.002747</td>\n",
       "      <td>-0.044073</td>\n",
       "      <td>0.337867</td>\n",
       "      <td>0.187576</td>\n",
       "      <td>0.060804</td>\n",
       "      <td>0.024870</td>\n",
       "      <td>0.022326</td>\n",
       "      <td>0.010227</td>\n",
       "      <td>-0.005631</td>\n",
       "      <td>1.000000</td>\n",
       "      <td>0.341200</td>\n",
       "      <td>0.026931</td>\n",
       "      <td>-0.020340</td>\n",
       "      <td>-0.029455</td>\n",
       "    </tr>\n",
       "    <tr>\n",
       "      <th>alco</th>\n",
       "      <td>-0.000720</td>\n",
       "      <td>-0.027295</td>\n",
       "      <td>0.168895</td>\n",
       "      <td>0.088123</td>\n",
       "      <td>0.060170</td>\n",
       "      <td>0.030561</td>\n",
       "      <td>0.033258</td>\n",
       "      <td>0.036267</td>\n",
       "      <td>0.012449</td>\n",
       "      <td>0.341200</td>\n",
       "      <td>1.000000</td>\n",
       "      <td>0.025841</td>\n",
       "      <td>-0.011084</td>\n",
       "      <td>0.018542</td>\n",
       "    </tr>\n",
       "    <tr>\n",
       "      <th>active</th>\n",
       "      <td>0.005880</td>\n",
       "      <td>-0.011884</td>\n",
       "      <td>0.007835</td>\n",
       "      <td>-0.004774</td>\n",
       "      <td>-0.011759</td>\n",
       "      <td>-0.000474</td>\n",
       "      <td>0.004485</td>\n",
       "      <td>0.004380</td>\n",
       "      <td>-0.009693</td>\n",
       "      <td>0.026931</td>\n",
       "      <td>0.025841</td>\n",
       "      <td>1.000000</td>\n",
       "      <td>-0.037309</td>\n",
       "      <td>-0.007252</td>\n",
       "    </tr>\n",
       "    <tr>\n",
       "      <th>cardio</th>\n",
       "      <td>0.003917</td>\n",
       "      <td>0.237060</td>\n",
       "      <td>0.002327</td>\n",
       "      <td>-0.023712</td>\n",
       "      <td>0.168027</td>\n",
       "      <td>0.447226</td>\n",
       "      <td>0.350202</td>\n",
       "      <td>0.212826</td>\n",
       "      <td>0.089199</td>\n",
       "      <td>-0.020340</td>\n",
       "      <td>-0.011084</td>\n",
       "      <td>-0.037309</td>\n",
       "      <td>1.000000</td>\n",
       "      <td>0.181448</td>\n",
       "    </tr>\n",
       "    <tr>\n",
       "      <th>BMI</th>\n",
       "      <td>-0.000633</td>\n",
       "      <td>0.107964</td>\n",
       "      <td>-0.106214</td>\n",
       "      <td>-0.230506</td>\n",
       "      <td>0.858382</td>\n",
       "      <td>0.256815</td>\n",
       "      <td>0.226646</td>\n",
       "      <td>0.167774</td>\n",
       "      <td>0.117128</td>\n",
       "      <td>-0.029455</td>\n",
       "      <td>0.018542</td>\n",
       "      <td>-0.007252</td>\n",
       "      <td>0.181448</td>\n",
       "      <td>1.000000</td>\n",
       "    </tr>\n",
       "  </tbody>\n",
       "</table>\n",
       "</div>"
      ],
      "text/plain": [
       "                   id       age    gender    height    weight     ap_hi  \\\n",
       "id           1.000000  0.001697  0.003751  0.000831  0.000664  0.005796   \n",
       "age          0.001697  1.000000 -0.015192 -0.073539  0.070404  0.221709   \n",
       "gender       0.003751 -0.015192  1.000000  0.510795  0.141240  0.059170   \n",
       "height       0.000831 -0.073539  0.510795  1.000000  0.262498  0.005780   \n",
       "weight       0.000664  0.070404  0.141240  0.262498  1.000000  0.257491   \n",
       "ap_hi        0.005796  0.221709  0.059170  0.005780  0.257491  1.000000   \n",
       "ap_lo        0.001051  0.158393  0.059202  0.015542  0.231877  0.736287   \n",
       "cholesterol  0.004485  0.140314 -0.038717 -0.066971  0.133152  0.204510   \n",
       "gluc         0.002304  0.090948 -0.021872 -0.031332  0.100085  0.097658   \n",
       "smoke       -0.002747 -0.044073  0.337867  0.187576  0.060804  0.024870   \n",
       "alco        -0.000720 -0.027295  0.168895  0.088123  0.060170  0.030561   \n",
       "active       0.005880 -0.011884  0.007835 -0.004774 -0.011759 -0.000474   \n",
       "cardio       0.003917  0.237060  0.002327 -0.023712  0.168027  0.447226   \n",
       "BMI         -0.000633  0.107964 -0.106214 -0.230506  0.858382  0.256815   \n",
       "\n",
       "                ap_lo  cholesterol      gluc     smoke      alco    active  \\\n",
       "id           0.001051     0.004485  0.002304 -0.002747 -0.000720  0.005880   \n",
       "age          0.158393     0.140314  0.090948 -0.044073 -0.027295 -0.011884   \n",
       "gender       0.059202    -0.038717 -0.021872  0.337867  0.168895  0.007835   \n",
       "height       0.015542    -0.066971 -0.031332  0.187576  0.088123 -0.004774   \n",
       "weight       0.231877     0.133152  0.100085  0.060804  0.060170 -0.011759   \n",
       "ap_hi        0.736287     0.204510  0.097658  0.024870  0.030561 -0.000474   \n",
       "ap_lo        1.000000     0.162032  0.074277  0.022326  0.033258  0.004485   \n",
       "cholesterol  0.162032     1.000000  0.407644  0.010227  0.036267  0.004380   \n",
       "gluc         0.074277     0.407644  1.000000 -0.005631  0.012449 -0.009693   \n",
       "smoke        0.022326     0.010227 -0.005631  1.000000  0.341200  0.026931   \n",
       "alco         0.033258     0.036267  0.012449  0.341200  1.000000  0.025841   \n",
       "active       0.004485     0.004380 -0.009693  0.026931  0.025841  1.000000   \n",
       "cardio       0.350202     0.212826  0.089199 -0.020340 -0.011084 -0.037309   \n",
       "BMI          0.226646     0.167774  0.117128 -0.029455  0.018542 -0.007252   \n",
       "\n",
       "               cardio       BMI  \n",
       "id           0.003917 -0.000633  \n",
       "age          0.237060  0.107964  \n",
       "gender       0.002327 -0.106214  \n",
       "height      -0.023712 -0.230506  \n",
       "weight       0.168027  0.858382  \n",
       "ap_hi        0.447226  0.256815  \n",
       "ap_lo        0.350202  0.226646  \n",
       "cholesterol  0.212826  0.167774  \n",
       "gluc         0.089199  0.117128  \n",
       "smoke       -0.020340 -0.029455  \n",
       "alco        -0.011084  0.018542  \n",
       "active      -0.037309 -0.007252  \n",
       "cardio       1.000000  0.181448  \n",
       "BMI          0.181448  1.000000  "
      ]
     },
     "execution_count": 19,
     "metadata": {},
     "output_type": "execute_result"
    }
   ],
   "source": [
    "dfc.corr(method = 'spearman')"
   ]
  },
  {
   "cell_type": "markdown",
   "id": "0efa1b7d",
   "metadata": {
    "papermill": {
     "duration": 0.04951,
     "end_time": "2021-10-28T21:45:16.776834",
     "exception": false,
     "start_time": "2021-10-28T21:45:16.727324",
     "status": "completed"
    },
    "tags": []
   },
   "source": [
    "5. Ap_hi, Ap_lo"
   ]
  },
  {
   "cell_type": "markdown",
   "id": "3df4cc7b",
   "metadata": {
    "papermill": {
     "duration": 0.049581,
     "end_time": "2021-10-28T21:45:16.876356",
     "exception": false,
     "start_time": "2021-10-28T21:45:16.826775",
     "status": "completed"
    },
    "tags": []
   },
   "source": [
    "## 2.3. Rank correlation\n",
    "\n",
    "In most cases, *the Pearson coefficient of linear correlation* is more than enough to discover patterns in data. \n",
    "But let's go a little further and calculate a [rank correlation](https://en.wikipedia.org/wiki/Rank_correlation). It will help us to identify such feature pairs in which the lower rank in the variational series of one feature always precedes the higher rank in the another one (and we have the opposite in the case of negative correlation).\n",
    "\n",
    "### Task:\n",
    "\n",
    "Calculate and plot a correlation matrix using the [Spearman's rank correlation coefficient](https://en.wikipedia.org/wiki/Spearman%27s_rank_correlation_coefficient).\n"
   ]
  },
  {
   "cell_type": "code",
   "execution_count": 20,
   "id": "5dfa8d8a",
   "metadata": {
    "execution": {
     "iopub.execute_input": "2021-10-28T21:45:16.984250Z",
     "iopub.status.busy": "2021-10-28T21:45:16.983526Z",
     "iopub.status.idle": "2021-10-28T21:45:24.235116Z",
     "shell.execute_reply": "2021-10-28T21:45:24.234572Z",
     "shell.execute_reply.started": "2021-10-28T21:41:01.499797Z"
    },
    "papermill": {
     "duration": 7.305136,
     "end_time": "2021-10-28T21:45:24.235262",
     "exception": false,
     "start_time": "2021-10-28T21:45:16.930126",
     "status": "completed"
    },
    "tags": []
   },
   "outputs": [
    {
     "data": {
      "text/plain": [
       "<seaborn.axisgrid.PairGrid at 0x7fa075f3a990>"
      ]
     },
     "execution_count": 20,
     "metadata": {},
     "output_type": "execute_result"
    },
    {
     "data": {
      "image/png": "[encoded data removed]",
      "text/plain": [
       "<Figure size 1080x1080 with 42 Axes>"
      ]
     },
     "metadata": {
      "needs_background": "light"
     },
     "output_type": "display_data"
    }
   ],
   "source": [
    "sns.pairplot(dfc[['cardio', 'cholesterol', 'height', 'smoke', 'alco', 'weight']].corr(method = 'spearman'))"
   ]
  },
  {
   "cell_type": "markdown",
   "id": "14c1cfbc",
   "metadata": {
    "_uuid": "2282d0651afdbe69cdb68b266e509f20a865a63f",
    "papermill": {
     "duration": 0.052398,
     "end_time": "2021-10-28T21:45:24.340394",
     "exception": false,
     "start_time": "2021-10-28T21:45:24.287996",
     "status": "completed"
    },
    "tags": []
   },
   "source": [
    "**Question 2.3. (1 point).** Why do these features have strong rank correlation?\n",
    "\n",
    "1. Inaccuracies in the data (data acquisition errors).\n",
    "2. Relation is wrong, these features should not be related.\n",
    "3. Nature of the data."
   ]
  },
  {
   "cell_type": "markdown",
   "id": "3e5fc44d",
   "metadata": {
    "_uuid": "25b4b303156fd6f9178c9b23fba4ff3f220a5977",
    "papermill": {
     "duration": 0.052098,
     "end_time": "2021-10-28T21:45:24.445432",
     "exception": false,
     "start_time": "2021-10-28T21:45:24.393334",
     "status": "completed"
    },
    "tags": []
   },
   "source": [
    "## 2.4. Age\n",
    "\n",
    "Previously, we calculated the age of the respondents in years at the moment of examination."
   ]
  },
  {
   "cell_type": "markdown",
   "id": "256bdb8c",
   "metadata": {
    "_uuid": "d48bb97cba3968e7f73c790226278f6fa818871b",
    "papermill": {
     "duration": 0.052062,
     "end_time": "2021-10-28T21:45:24.549972",
     "exception": false,
     "start_time": "2021-10-28T21:45:24.497910",
     "status": "completed"
    },
    "tags": []
   },
   "source": [
    "### Task:\n",
    "\n",
    "Create a *count plot* using [`countplot()`](http://seaborn.pydata.org/generated/seaborn.countplot.html) with the age on the *X* axis and the number of people on the *Y* axis. Your resulting plot should have two columns for each age, corresponding to the number of people for each *cardio* class of that age."
   ]
  },
  {
   "cell_type": "code",
   "execution_count": 21,
   "id": "be79922a",
   "metadata": {
    "_uuid": "fd07f3aab9891fd86228d5880a7a38cc88b282ba",
    "execution": {
     "iopub.execute_input": "2021-10-28T21:45:24.658064Z",
     "iopub.status.busy": "2021-10-28T21:45:24.657333Z",
     "iopub.status.idle": "2021-10-28T21:45:25.268134Z",
     "shell.execute_reply": "2021-10-28T21:45:25.267575Z",
     "shell.execute_reply.started": "2021-10-28T21:44:04.772106Z"
    },
    "papermill": {
     "duration": 0.666074,
     "end_time": "2021-10-28T21:45:25.268288",
     "exception": false,
     "start_time": "2021-10-28T21:45:24.602214",
     "status": "completed"
    },
    "tags": []
   },
   "outputs": [
    {
     "data": {
      "text/plain": [
       "<AxesSubplot:xlabel='age', ylabel='count'>"
      ]
     },
     "execution_count": 21,
     "metadata": {},
     "output_type": "execute_result"
    },
    {
     "data": {
      "image/png": "[encoded data removed]",
      "text/plain": [
       "<Figure size 792x576 with 1 Axes>"
      ]
     },
     "metadata": {
      "needs_background": "light"
     },
     "output_type": "display_data"
    }
   ],
   "source": [
    "dfc['age'] = dfc['age'].astype(int)\n",
    "dfn = dfc[(dfc['age'] >= 44) & (dfc['age'] <= 70)]\n",
    "\n",
    "sns.countplot(x='age', hue = 'cardio', data = dfn)"
   ]
  },
  {
   "cell_type": "markdown",
   "id": "75b07de9",
   "metadata": {
    "_uuid": "49557c7bd46d729c27aa8190df65cc25e45e7528",
    "papermill": {
     "duration": 0.053323,
     "end_time": "2021-10-28T21:45:25.375427",
     "exception": false,
     "start_time": "2021-10-28T21:45:25.322104",
     "status": "completed"
    },
    "tags": []
   },
   "source": [
    "**Question 2.4. (1 point).** What is the smallest age at which the number of people with CVD outnumber the number of people without CVD?\n",
    "\n",
    "1. 44\n",
    "2. 55\n",
    "3. 64\n",
    "4. 70"
   ]
  },
  {
   "cell_type": "markdown",
   "id": "4992ab22",
   "metadata": {
    "papermill": {
     "duration": 0.053043,
     "end_time": "2021-10-28T21:45:25.482229",
     "exception": false,
     "start_time": "2021-10-28T21:45:25.429186",
     "status": "completed"
    },
    "tags": []
   },
   "source": [
    "2. 55"
   ]
  }
 ],
 "metadata": {
  "kernelspec": {
   "display_name": "Python 3",
   "language": "python",
   "name": "python3"
  },
  "language_info": {
   "codemirror_mode": {
    "name": "ipython",
    "version": 3
   },
   "file_extension": ".py",
   "mimetype": "text/x-python",
   "name": "python",
   "nbconvert_exporter": "python",
   "pygments_lexer": "ipython3",
   "version": "3.7.10"
  },
  "papermill": {
   "default_parameters": {},
   "duration": 29.013297,
   "end_time": "2021-10-28T21:45:26.347047",
   "environment_variables": {},
   "exception": null,
   "input_path": "__notebook__.ipynb",
   "output_path": "__notebook__.ipynb",
   "parameters": {},
   "start_time": "2021-10-28T21:44:57.333750",
   "version": "2.3.3"
  }
 },
 "nbformat": 4,
 "nbformat_minor": 5
}
